{
 "cells": [
  {
   "cell_type": "markdown",
   "metadata": {},
   "source": [
    "# Following users downloader\n",
    "\n",
    "University of Passau, Current topics in Machine Learning: Social Media as Research Data\n",
    "Lukas Krodinger (89801)"
   ]
  },
  {
   "cell_type": "code",
   "execution_count": 51,
   "metadata": {},
   "outputs": [],
   "source": [
    "import twitterClient\n",
    "import json\n",
    "import os\n",
    "from time import sleep"
   ]
  },
  {
   "cell_type": "code",
   "execution_count": 44,
   "metadata": {},
   "outputs": [],
   "source": [
    "client = twitterClient.twitterClient()"
   ]
  },
  {
   "cell_type": "code",
   "execution_count": 45,
   "outputs": [],
   "source": [
    "def load(filename):\n",
    "    datas = []\n",
    "    with open(filename, 'r') as f:\n",
    "        for line in f:\n",
    "            data = json.loads(line)\n",
    "            datas.append(data)\n",
    "    return datas\n",
    "\n",
    "\n",
    "def save(filename, data):\n",
    "    with open(filename, 'w') as json_file:\n",
    "        for user in data:\n",
    "            json.dump(user.data, json_file)\n",
    "            json_file.write('\\n')\n",
    "\n",
    "    print(\"Users successfully stored to: \", filename)"
   ],
   "metadata": {
    "collapsed": false
   }
  },
  {
   "cell_type": "code",
   "execution_count": 46,
   "outputs": [],
   "source": [
    "input_filename = \"../data/royal_family_following.json\"\n",
    "output_dir = \"../data/graph_data\"\n",
    "output_filename = 'following'\n",
    "\n",
    "# maximum number of results\n",
    "max_results = 10\n",
    "\n",
    "max_results_per_request = 1000\n",
    "\n",
    "# All user fields\n",
    "all_user_fields = [\"id\",\"name\", \"username\", \"created_at\", \"description\", \"location\", \"entities\", \"pinned_tweet_id\", \"profile_image_url\", \"protected\", \"public_metrics\", \"url\", \"verified\", \"withheld\"]"
   ],
   "metadata": {
    "collapsed": false
   }
  },
  {
   "cell_type": "code",
   "execution_count": 47,
   "outputs": [
    {
     "name": "stdout",
     "output_type": "stream",
     "text": [
      "459\n"
     ]
    }
   ],
   "source": [
    "egos = load(input_filename)\n",
    "print(len(egos))"
   ],
   "metadata": {
    "collapsed": false
   }
  },
  {
   "cell_type": "code",
   "execution_count": 50,
   "outputs": [
    {
     "name": "stdout",
     "output_type": "stream",
     "text": [
      "439\n"
     ]
    }
   ],
   "source": [
    "def update_egos():\n",
    "    for ego in egos:\n",
    "        ego_username = ego.get(\"username\")\n",
    "        following_path = output_dir + \"/\" + output_filename + \"_\" + ego_username + \".json\"\n",
    "\n",
    "        if os.path.isfile(following_path):\n",
    "            egos.remove(ego)"
   ],
   "metadata": {
    "collapsed": false
   }
  },
  {
   "cell_type": "code",
   "execution_count": null,
   "outputs": [
    {
     "name": "stdout",
     "output_type": "stream",
     "text": [
      "Following downloaded: 50\n",
      "Users successfully stored to:  ../data/graph_data/following_Earlychildhood.json\n",
      "Following downloaded: 1000\n",
      "Users successfully stored to:  ../data/graph_data/following_NCVO.json\n",
      "Following downloaded: 1000\n",
      "Users successfully stored to:  ../data/graph_data/following_RedCrossAU.json\n",
      "Following downloaded: 317\n",
      "Users successfully stored to:  ../data/graph_data/following_thedukeofed.json\n",
      "Following downloaded: 520\n",
      "Users successfully stored to:  ../data/graph_data/following_GuardsReserve.json\n",
      "Following downloaded: 1000\n",
      "Users successfully stored to:  ../data/graph_data/following_FCDOHumanRights.json\n",
      "Following downloaded: 1000\n",
      "Users successfully stored to:  ../data/graph_data/following_TransaidOrg.json\n",
      "Following downloaded: 606\n",
      "Users successfully stored to:  ../data/graph_data/following_KingsAwardVS.json\n",
      "Following downloaded: 1000\n",
      "Users successfully stored to:  ../data/graph_data/following_FNightingaleF.json\n",
      "Following downloaded: 634\n",
      "Users successfully stored to:  ../data/graph_data/following_GeorgianPapers.json\n",
      "Following downloaded: 860\n",
      "Users successfully stored to:  ../data/graph_data/following_queenscomtrust.json\n",
      "Following downloaded: 98\n",
      "Users successfully stored to:  ../data/graph_data/following_StJohnAmbJersey.json\n",
      "Following downloaded: 1000\n",
      "Users successfully stored to:  ../data/graph_data/following_UKinCW.json\n",
      "Following downloaded: 1000\n",
      "Users successfully stored to:  ../data/graph_data/following_BBCr4today.json\n",
      "Following downloaded: 854\n",
      "Users successfully stored to:  ../data/graph_data/following_CplCruachan_IV.json\n",
      "Following downloaded: 125\n",
      "Users successfully stored to:  ../data/graph_data/following_MetPoliceEvents.json\n",
      "Following downloaded: 793\n",
      "Users successfully stored to:  ../data/graph_data/following_metpoliceuk.json\n",
      "Following downloaded: 1000\n",
      "Users successfully stored to:  ../data/graph_data/following_UniofOxford.json\n",
      "Following downloaded: 1000\n",
      "Users successfully stored to:  ../data/graph_data/following_FCDOGovUK.json\n",
      "Following downloaded: 1000\n",
      "Users successfully stored to:  ../data/graph_data/following_educationgovuk.json\n",
      "Following downloaded: 999\n",
      "Users successfully stored to:  ../data/graph_data/following_SciTechgovuk.json\n",
      "Following downloaded: 1000\n",
      "Users successfully stored to:  ../data/graph_data/following_SpainMFA.json\n",
      "Following downloaded: 465\n",
      "Users successfully stored to:  ../data/graph_data/following_BorisJohnson.json\n",
      "Following downloaded: 999\n",
      "Users successfully stored to:  ../data/graph_data/following_zsllondonzoo.json\n",
      "Following downloaded: 297\n",
      "Users successfully stored to:  ../data/graph_data/following_LSEplc.json\n",
      "Following downloaded: 79\n",
      "Users successfully stored to:  ../data/graph_data/following_100WomenFinance.json\n",
      "Following downloaded: 224\n",
      "Users successfully stored to:  ../data/graph_data/following_GrenadierGds.json\n",
      "Following downloaded: 1000\n",
      "Users successfully stored to:  ../data/graph_data/following_NAM_London.json\n",
      "Following downloaded: 1000\n",
      "Users successfully stored to:  ../data/graph_data/following_UKYouth.json\n",
      "Following downloaded: 751\n",
      "Users successfully stored to:  ../data/graph_data/following_VictimSupport.json\n",
      "Following downloaded: 1000\n",
      "Users successfully stored to:  ../data/graph_data/following_TCVtweets.json\n",
      "Following downloaded: 1000\n",
      "Users successfully stored to:  ../data/graph_data/following_PestalozziUK.json\n",
      "Following downloaded: 1000\n",
      "Users successfully stored to:  ../data/graph_data/following_TheStrokeAssoc.json\n",
      "Following downloaded: 100\n",
      "Users successfully stored to:  ../data/graph_data/following_QueensCanopy.json\n",
      "Following downloaded: 1000\n",
      "Users successfully stored to:  ../data/graph_data/following_NHRMuseum.json\n",
      "Following downloaded: 1000\n",
      "Users successfully stored to:  ../data/graph_data/following_pitchatpalace.json\n",
      "Following downloaded: 1000\n",
      "Users successfully stored to:  ../data/graph_data/following_FootballMuseum.json\n",
      "Following downloaded: 756\n",
      "Users successfully stored to:  ../data/graph_data/following_Proud_Sappers.json\n",
      "Following downloaded: 722\n",
      "Users successfully stored to:  ../data/graph_data/following_Official_REME.json\n",
      "Following downloaded: 964\n",
      "Users successfully stored to:  ../data/graph_data/following_UKinBotswana.json\n",
      "Following downloaded: 33\n",
      "Users successfully stored to:  ../data/graph_data/following_LorneScotsAssoc.json\n",
      "Following downloaded: 1000\n",
      "Users successfully stored to:  ../data/graph_data/following_RSLiterature.json\n",
      "Following downloaded: 964\n",
      "Users successfully stored to:  ../data/graph_data/following_uksasailing.json\n",
      "Following downloaded: 1000\n",
      "Users successfully stored to:  ../data/graph_data/following_ukinbrazil.json\n",
      "Following downloaded: 642\n",
      "Users successfully stored to:  ../data/graph_data/following_heads_together.json\n",
      "Following downloaded: 1000\n",
      "Users successfully stored to:  ../data/graph_data/following_SouthEngShows.json\n",
      "Following downloaded: 727\n",
      "Users successfully stored to:  ../data/graph_data/following_ColdstreamGds.json\n",
      "Following downloaded: 223\n",
      "Users successfully stored to:  ../data/graph_data/following_rhqra.json\n",
      "Following downloaded: 1000\n",
      "Users successfully stored to:  ../data/graph_data/following_ColdstreamBand.json\n",
      "Following downloaded: 215\n",
      "Users successfully stored to:  ../data/graph_data/following_KingsTroopRHA.json\n",
      "Following downloaded: 778\n",
      "Users successfully stored to:  ../data/graph_data/following_PScotlandCSG.json\n",
      "Following downloaded: 895\n",
      "Users successfully stored to:  ../data/graph_data/following_ArmyInLondon.json\n",
      "Following downloaded: 811\n",
      "Users successfully stored to:  ../data/graph_data/following_HAC_TheCompany.json\n",
      "Following downloaded: 1000\n",
      "Users successfully stored to:  ../data/graph_data/following_TheDMWS.json\n",
      "Following downloaded: 245\n",
      "Users successfully stored to:  ../data/graph_data/following_TowerOfLondon.json\n",
      "Following downloaded: 1000\n",
      "Users successfully stored to:  ../data/graph_data/following_OSJCT.json\n",
      "Following downloaded: 147\n",
      "Users successfully stored to:  ../data/graph_data/following_GGCanada.json\n",
      "Following downloaded: 261\n",
      "Users successfully stored to:  ../data/graph_data/following_SalisburySCC.json\n",
      "Following downloaded: 1000\n",
      "Users successfully stored to:  ../data/graph_data/following_DofESouthEast.json\n",
      "Following downloaded: 863\n",
      "Users successfully stored to:  ../data/graph_data/following_ArmyCadetsUK.json\n",
      "Following downloaded: 919\n",
      "Users successfully stored to:  ../data/graph_data/following_JustinTrudeau.json\n",
      "Following downloaded: 514\n",
      "Users successfully stored to:  ../data/graph_data/following_outdoortrust.json\n",
      "Following downloaded: 1000\n",
      "Users successfully stored to:  ../data/graph_data/following_RDAnational.json\n",
      "Following downloaded: 1000\n",
      "Users successfully stored to:  ../data/graph_data/following_aircadets.json\n",
      "Following downloaded: 457\n",
      "Users successfully stored to:  ../data/graph_data/following_HighgroveGarden.json\n",
      "Following downloaded: 0\n",
      "Users successfully stored to:  ../data/graph_data/following_MonarchieBe.json\n",
      "Following downloaded: 1000\n",
      "Users successfully stored to:  ../data/graph_data/following_starlight_uk.json\n",
      "Following downloaded: 1000\n",
      "Users successfully stored to:  ../data/graph_data/following_BirmCons.json\n",
      "Following downloaded: 177\n",
      "Users successfully stored to:  ../data/graph_data/following_CFAforestry.json\n",
      "Following downloaded: 266\n",
      "Users successfully stored to:  ../data/graph_data/following_reefresearch.json\n",
      "Following downloaded: 363\n",
      "Users successfully stored to:  ../data/graph_data/following_CanadaRCS.json\n",
      "Following downloaded: 1000\n",
      "Users successfully stored to:  ../data/graph_data/following_NHSBartsHealth.json\n",
      "Following downloaded: 1000\n",
      "Users successfully stored to:  ../data/graph_data/following_CityYearUK.json\n",
      "Following downloaded: 1000\n",
      "Users successfully stored to:  ../data/graph_data/following_FrontlineSW.json\n",
      "Following downloaded: 1000\n",
      "Users successfully stored to:  ../data/graph_data/following_WEVillages.json\n",
      "Following downloaded: 1000\n",
      "Users successfully stored to:  ../data/graph_data/following_NYO_GB.json\n",
      "Following downloaded: 1000\n",
      "Users successfully stored to:  ../data/graph_data/following_IntoUniversity.json\n",
      "Following downloaded: 1000\n",
      "Users successfully stored to:  ../data/graph_data/following_TeachFirst.json\n",
      "Following downloaded: 558\n",
      "Users successfully stored to:  ../data/graph_data/following_QAPrizes.json\n",
      "Following downloaded: 785\n",
      "Users successfully stored to:  ../data/graph_data/following_JulianBKing.json\n",
      "Following downloaded: 830\n",
      "Users successfully stored to:  ../data/graph_data/following_Britishpolio.json\n",
      "Following downloaded: 1000\n",
      "Users successfully stored to:  ../data/graph_data/following_StarandGarter.json\n",
      "Following downloaded: 1000\n",
      "Users successfully stored to:  ../data/graph_data/following_LinneanSociety.json\n",
      "Following downloaded: 623\n",
      "Users successfully stored to:  ../data/graph_data/following_rosl1910.json\n",
      "Following downloaded: 1000\n",
      "Users successfully stored to:  ../data/graph_data/following_CruseSupport.json\n",
      "Following downloaded: 999\n",
      "Users successfully stored to:  ../data/graph_data/following_CburyCathedral.json\n",
      "Following downloaded: 1000\n",
      "Users successfully stored to:  ../data/graph_data/following_TheRMBF.json\n",
      "Following downloaded: 1000\n",
      "Users successfully stored to:  ../data/graph_data/following_RoyalAgUni.json\n",
      "Following downloaded: 408\n",
      "Users successfully stored to:  ../data/graph_data/following_thepatronslunch.json\n",
      "Following downloaded: 410\n",
      "Users successfully stored to:  ../data/graph_data/following_SeaCadetsUK.json\n"
     ]
    }
   ],
   "source": [
    "for count, ego in enumerate(egos):\n",
    "\n",
    "    if count % 15 == 0: # and count != 0:\n",
    "        sleep(60*15)\n",
    "\n",
    "    # ego attributes\n",
    "    ego_id = ego.get(\"id\")\n",
    "    ego_username = ego.get(\"username\")\n",
    "\n",
    "    # Get followers of ego\n",
    "    followers = []\n",
    "\n",
    "    twitterResponse = client.get_users_following(id=ego_id, max_results=max_results_per_request, user_fields=all_user_fields)\n",
    "    if twitterResponse.data is not None:\n",
    "        for user in twitterResponse.data:\n",
    "            followers.append(user)\n",
    "\n",
    "    print(\"Following downloaded: \" + str(len(followers)))\n",
    "\n",
    "    filename = output_dir + \"/\" + output_filename + \"_\" + ego_username + \".json\"\n",
    "    save(filename, followers)"
   ],
   "metadata": {
    "collapsed": false,
    "pycharm": {
     "is_executing": true
    }
   }
  },
  {
   "cell_type": "code",
   "execution_count": null,
   "outputs": [],
   "source": [
    "\n"
   ],
   "metadata": {
    "collapsed": false
   }
  }
 ],
 "metadata": {
  "kernelspec": {
   "display_name": "Python 3 (ipykernel)",
   "language": "python",
   "name": "python3"
  },
  "language_info": {
   "codemirror_mode": {
    "name": "ipython",
    "version": 3
   },
   "file_extension": ".py",
   "mimetype": "text/x-python",
   "name": "python",
   "nbconvert_exporter": "python",
   "pygments_lexer": "ipython3",
   "version": "3.9.12"
  }
 },
 "nbformat": 4,
 "nbformat_minor": 2
}
