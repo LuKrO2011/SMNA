{
 "cells": [
  {
   "cell_type": "markdown",
   "metadata": {},
   "source": [
    "# Ego net creator\n",
    "\n",
    "COSC2671 Social Media and Network Analytics\n",
    "\n",
    "Lukas Krodinger, 3931415"
   ]
  },
  {
   "cell_type": "code",
   "execution_count": 1,
   "outputs": [],
   "source": [
    "import math\n",
    "import networkx as nx\n",
    "import json"
   ],
   "metadata": {
    "collapsed": false
   }
  },
  {
   "cell_type": "code",
   "execution_count": 2,
   "outputs": [],
   "source": [
    "# Assigns a logarithmic value depending on the follower count\n",
    "def calculate_importance(follower_count):\n",
    "    if follower_count <= 0:\n",
    "        follower_count = 1\n",
    "    return math.ceil(math.log10(follower_count))\n",
    "\n",
    "def load(filename):\n",
    "    datas = []\n",
    "    with open(filename, 'r') as f:\n",
    "        for line in f:\n",
    "            data = json.loads(line)\n",
    "            datas.append(data)\n",
    "    return datas"
   ],
   "metadata": {
    "collapsed": false
   }
  },
  {
   "cell_type": "code",
   "execution_count": 3,
   "outputs": [],
   "source": [
    "class GraphCreator:\n",
    "    graph = None\n",
    "    seen_nodes = set()\n",
    "    seen_edges = set()\n",
    "\n",
    "    def __init__(self, graph):\n",
    "        self.graph = graph\n",
    "\n",
    "    def add_node(self, user_id, **attr):\n",
    "        user_id = int(user_id)\n",
    "        if user_id not in self.seen_nodes:\n",
    "            self.graph.add_node(user_id, **attr)\n",
    "            self.seen_nodes.add(user_id)\n",
    "\n",
    "    def add_edge(self, edge_from, edge_to):\n",
    "        edge = (int(edge_from), int(edge_to))\n",
    "        if edge not in self.seen_edges:\n",
    "            self.graph.add_edge(edge_from, edge_to)\n",
    "            self.seen_edges.add(edge)\n",
    "\n",
    "    def add_user(self, user):\n",
    "        user_name = user.get('username')\n",
    "        user_id = int(user.get('id'))\n",
    "        followers_count = user.get('public_metrics').get('followers_count')\n",
    "        following_count = user.get('public_metrics').get('following_count')\n",
    "        tweet_count = user.get('public_metrics').get('tweet_count')\n",
    "        self.add_node(user_id, username=user_name, followers_count=followers_count, following_count=following_count, tweet_count=tweet_count, color_id=calculate_importance(followers_count))\n",
    "\n",
    "    def add_follower(self, ego, user):\n",
    "        ego_id = int(ego.get('id'))\n",
    "        user_id = int(user.get('id'))\n",
    "        self.add_user(user)\n",
    "        self.add_edge(ego_id, user_id)\n",
    "\n",
    "    def add_following(self, ego, user):\n",
    "        ego_id = int(ego.get('id'))\n",
    "        user_id = int(user.get('id'))\n",
    "        self.add_user(user)\n",
    "        self.add_edge(user_id, ego_id)"
   ],
   "metadata": {
    "collapsed": false
   }
  },
  {
   "cell_type": "markdown",
   "source": [
    "Parameters:"
   ],
   "metadata": {
    "collapsed": false
   }
  },
  {
   "cell_type": "code",
   "execution_count": 4,
   "outputs": [],
   "source": [
    "# Username of the ego\n",
    "username_or_id = \"CricketAus\"\n",
    "\n",
    "# Where to store the data\n",
    "input_filename = \"most_common_users_filtered.json\"\n",
    "directory = \"../graph_data\"\n",
    "followers_prefix = \"followers\"\n",
    "following_prefix = 'following'\n",
    "\n",
    "graph_filename= 'ego.graphml'"
   ],
   "metadata": {
    "collapsed": false
   }
  },
  {
   "cell_type": "code",
   "execution_count": 5,
   "outputs": [],
   "source": [
    "# Create graph\n",
    "graph = nx.DiGraph()\n",
    "graph_creator = GraphCreator(graph)\n",
    "\n",
    "seen_nodes = set()\n",
    "seen_edges = set()"
   ],
   "metadata": {
    "collapsed": false
   }
  },
  {
   "cell_type": "code",
   "execution_count": 6,
   "outputs": [
    {
     "ename": "FileNotFoundError",
     "evalue": "[Errno 2] No such file or directory: 'most_common_users_filtered.json'",
     "output_type": "error",
     "traceback": [
      "\u001B[1;31m---------------------------------------------------------------------------\u001B[0m",
      "\u001B[1;31mFileNotFoundError\u001B[0m                         Traceback (most recent call last)",
      "Cell \u001B[1;32mIn[6], line 1\u001B[0m\n\u001B[1;32m----> 1\u001B[0m egos \u001B[38;5;241m=\u001B[39m \u001B[43mload\u001B[49m\u001B[43m(\u001B[49m\u001B[43minput_filename\u001B[49m\u001B[43m)\u001B[49m\n",
      "Cell \u001B[1;32mIn[2], line 9\u001B[0m, in \u001B[0;36mload\u001B[1;34m(filename)\u001B[0m\n\u001B[0;32m      7\u001B[0m \u001B[38;5;28;01mdef\u001B[39;00m \u001B[38;5;21mload\u001B[39m(filename):\n\u001B[0;32m      8\u001B[0m     datas \u001B[38;5;241m=\u001B[39m []\n\u001B[1;32m----> 9\u001B[0m     \u001B[38;5;28;01mwith\u001B[39;00m \u001B[38;5;28;43mopen\u001B[39;49m\u001B[43m(\u001B[49m\u001B[43mfilename\u001B[49m\u001B[43m,\u001B[49m\u001B[43m \u001B[49m\u001B[38;5;124;43m'\u001B[39;49m\u001B[38;5;124;43mr\u001B[39;49m\u001B[38;5;124;43m'\u001B[39;49m\u001B[43m)\u001B[49m \u001B[38;5;28;01mas\u001B[39;00m f:\n\u001B[0;32m     10\u001B[0m         \u001B[38;5;28;01mfor\u001B[39;00m line \u001B[38;5;129;01min\u001B[39;00m f:\n\u001B[0;32m     11\u001B[0m             data \u001B[38;5;241m=\u001B[39m json\u001B[38;5;241m.\u001B[39mloads(line)\n",
      "File \u001B[1;32m~\\anaconda3\\envs\\twitter\\lib\\site-packages\\IPython\\core\\interactiveshell.py:284\u001B[0m, in \u001B[0;36m_modified_open\u001B[1;34m(file, *args, **kwargs)\u001B[0m\n\u001B[0;32m    277\u001B[0m \u001B[38;5;28;01mif\u001B[39;00m file \u001B[38;5;129;01min\u001B[39;00m {\u001B[38;5;241m0\u001B[39m, \u001B[38;5;241m1\u001B[39m, \u001B[38;5;241m2\u001B[39m}:\n\u001B[0;32m    278\u001B[0m     \u001B[38;5;28;01mraise\u001B[39;00m \u001B[38;5;167;01mValueError\u001B[39;00m(\n\u001B[0;32m    279\u001B[0m         \u001B[38;5;124mf\u001B[39m\u001B[38;5;124m\"\u001B[39m\u001B[38;5;124mIPython won\u001B[39m\u001B[38;5;124m'\u001B[39m\u001B[38;5;124mt let you open fd=\u001B[39m\u001B[38;5;132;01m{\u001B[39;00mfile\u001B[38;5;132;01m}\u001B[39;00m\u001B[38;5;124m by default \u001B[39m\u001B[38;5;124m\"\u001B[39m\n\u001B[0;32m    280\u001B[0m         \u001B[38;5;124m\"\u001B[39m\u001B[38;5;124mas it is likely to crash IPython. If you know what you are doing, \u001B[39m\u001B[38;5;124m\"\u001B[39m\n\u001B[0;32m    281\u001B[0m         \u001B[38;5;124m\"\u001B[39m\u001B[38;5;124myou can use builtins\u001B[39m\u001B[38;5;124m'\u001B[39m\u001B[38;5;124m open.\u001B[39m\u001B[38;5;124m\"\u001B[39m\n\u001B[0;32m    282\u001B[0m     )\n\u001B[1;32m--> 284\u001B[0m \u001B[38;5;28;01mreturn\u001B[39;00m \u001B[43mio_open\u001B[49m\u001B[43m(\u001B[49m\u001B[43mfile\u001B[49m\u001B[43m,\u001B[49m\u001B[43m \u001B[49m\u001B[38;5;241;43m*\u001B[39;49m\u001B[43margs\u001B[49m\u001B[43m,\u001B[49m\u001B[43m \u001B[49m\u001B[38;5;241;43m*\u001B[39;49m\u001B[38;5;241;43m*\u001B[39;49m\u001B[43mkwargs\u001B[49m\u001B[43m)\u001B[49m\n",
      "\u001B[1;31mFileNotFoundError\u001B[0m: [Errno 2] No such file or directory: 'most_common_users_filtered.json'"
     ]
    }
   ],
   "source": [
    "egos = load(input_filename)"
   ],
   "metadata": {
    "collapsed": false
   }
  },
  {
   "cell_type": "code",
   "execution_count": null,
   "outputs": [],
   "source": [
    "for ego in egos:\n",
    "    ego_username = ego.get(\"username\")\n",
    "\n",
    "    graph_creator.add_user(ego)\n",
    "\n",
    "    followers_path = directory + \"/\" + followers_prefix + \"_\" + ego_username + \".json\"\n",
    "    following_path = directory + \"/\" + following_prefix + \"_\" + ego_username + \".json\"\n",
    "\n",
    "    followers = load(followers_path)\n",
    "    following = load(following_path)\n",
    "\n",
    "    for user in followers:\n",
    "        graph_creator.add_follower(ego, user)\n",
    "\n",
    "    for user in following:\n",
    "        graph_creator.add_following(ego, user)"
   ],
   "metadata": {
    "collapsed": false
   }
  },
  {
   "cell_type": "code",
   "execution_count": null,
   "outputs": [],
   "source": [
    "# Remove all nodes with less than two edges\n",
    "remove = [node for node,degree in dict(graph.degree()).items() if degree < 2]\n",
    "graph.remove_nodes_from(remove)"
   ],
   "metadata": {
    "collapsed": false
   }
  },
  {
   "cell_type": "code",
   "execution_count": null,
   "outputs": [],
   "source": [
    "# Store the graph\n",
    "with open(graph_filename, 'wb') as fOut:\n",
    "    nx.write_graphml(graph, fOut)\n",
    "\n",
    "print(\"Done!\")"
   ],
   "metadata": {
    "collapsed": false
   }
  }
 ],
 "metadata": {
  "kernelspec": {
   "display_name": "Python 3 (ipykernel)",
   "language": "python",
   "name": "python3"
  },
  "language_info": {
   "codemirror_mode": {
    "name": "ipython",
    "version": 3
   },
   "file_extension": ".py",
   "mimetype": "text/x-python",
   "name": "python",
   "nbconvert_exporter": "python",
   "pygments_lexer": "ipython3",
   "version": "3.9.12"
  }
 },
 "nbformat": 4,
 "nbformat_minor": 2
}
