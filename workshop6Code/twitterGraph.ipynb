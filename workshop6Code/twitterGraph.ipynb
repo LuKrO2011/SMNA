{
 "cells": [
  {
   "cell_type": "markdown",
   "metadata": {
    "pycharm": {
     "name": "#%% md\n"
    }
   },
   "source": [
    "# Workshop 6: Graph Introduction\n",
    "\n",
    "COSC2671 Social Media and Network Analytics\n",
    "\n",
    "Jeffrey Chan, RMIT University, 2022"
   ]
  },
  {
   "cell_type": "code",
   "execution_count": 27,
   "metadata": {
    "pycharm": {
     "name": "#%%\n"
    }
   },
   "outputs": [
    {
     "name": "stdout",
     "output_type": "stream",
     "text": [
      "The autoreload extension is already loaded. To reload it, use:\n",
      "  %reload_ext autoreload\n"
     ]
    }
   ],
   "source": [
    "%load_ext autoreload\n",
    "%autoreload 1\n",
    "%aimport twitterClient"
   ]
  },
  {
   "cell_type": "code",
   "execution_count": 28,
   "metadata": {
    "pycharm": {
     "name": "#%%\n"
    }
   },
   "outputs": [],
   "source": [
    "# time is used for timer to ask Twitter to sleep, to avoid changes of hitting rate limits\n",
    "import time\n",
    "\n",
    "from tweepy import Cursor\n",
    "from tweepy import TweepyException\n",
    "from twitterClient import twitterClient\n"
   ]
  },
  {
   "cell_type": "markdown",
   "metadata": {
    "pycharm": {
     "name": "#%% md\n"
    }
   },
   "source": [
    "## Egonet Construction\n",
    "\n",
    "Construct an egonet of Twitter accounts that the user follows."
   ]
  },
  {
   "cell_type": "code",
   "execution_count": 29,
   "metadata": {
    "pycharm": {
     "name": "#%%\n"
    }
   },
   "outputs": [],
   "source": [
    "# construct twitter client\n",
    "client = twitterClient()"
   ]
  },
  {
   "cell_type": "code",
   "execution_count": 30,
   "metadata": {
    "pycharm": {
     "name": "#%%\n"
    }
   },
   "outputs": [],
   "source": [
    "# common parameters\n",
    "\n",
    "# name of ego (yourself)\n",
    "sEgoId = client.get_user(username=\"RMIT\").data.id\n",
    "sEgoName = client.get_user(username=\"RMIT\").data.username\n",
    "# maximum number of results\n",
    "maxResults = 300"
   ]
  },
  {
   "cell_type": "markdown",
   "metadata": {
    "pycharm": {
     "name": "#%% md\n"
    }
   },
   "source": [
    "Retrieve followers of the ego and build network.\n",
    "\n",
    "TODO: You'll need to add code here."
   ]
  },
  {
   "cell_type": "code",
   "execution_count": 31,
   "metadata": {
    "pycharm": {
     "name": "#%%\n"
    }
   },
   "outputs": [],
   "source": [
    "import math\n",
    "# TODO: Remember to import networkx\n",
    "import networkx as nx\n",
    "\n",
    "# TODO: Construct initial graph object\n",
    "# construct directed graph\n",
    "egoGraph = nx.DiGraph()\n",
    "egoGraph.add_node(sEgoName)\n",
    "# egoGraph.add_node(‘B’, followerCount=10)\n",
    "# egoGraph.add_edge(‘A’, ‘B’)\n",
    "\n",
    "\n",
    "# user fields to retrieve (modify if want other fields to retrieve)\n",
    "lUserFields = [\"id\",\"name\",\"public_metrics\"]\n",
    "\n",
    "\n",
    "#\n",
    "# Retrive followers of the ego\n",
    "#\n",
    "twitterResponse = client.get_users_followers(id=sEgoId, max_results=maxResults, pagination_token=None, tweet_fields=None, user_fields=lUserFields, user_auth=False)\n",
    "# loop through the results from first page\n",
    "\n",
    "def calculate_color(followers):\n",
    "    if followers <= 0:\n",
    "        followers = 1\n",
    "    return math.ceil(math.log10(followers))\n",
    "\n",
    "for user in twitterResponse.data:\n",
    "    sFollowerName = user.username\n",
    "    followers_count = user.public_metrics.get('followers_count')\n",
    "    following_count = user.public_metrics.get('following_count')\n",
    "    tweet_count = user.public_metrics.get('tweet_count')\n",
    "    egoGraph.add_node(sFollowerName, followers_count=followers_count, following_count=following_count, tweet_count=tweet_count, color_id=calculate_color(followers_count))\n",
    "    egoGraph.add_edge(sEgoName, sFollowerName)\n",
    "\n",
    "\n",
    "# keep looping through each page of results until there are none left (AttributeError will be thrown)\n",
    "while True:\n",
    "    try:\n",
    "        twitterResponse = client.get_users_followers(id=sEgoId, max_results=300, pagination_token=twitterResponse.next_token, tweet_fields=None, user_fields=lUserFields, user_auth=False)\n",
    "    except AttributeError:\n",
    "        break\n",
    "        \n",
    "    # process each subsequent page of followers\n",
    "    for user in twitterResponse.data:\n",
    "        sFollowerName = user.username\n",
    "        followers_count = user.public_metrics.get('followers_count')\n",
    "        following_count = user.public_metrics.get('following_count')\n",
    "        tweet_count = user.public_metrics.get('tweet_count')\n",
    "        egoGraph.add_node(sFollowerName, followers_count=followers_count, following_count=following_count, tweet_count=tweet_count, color_id=calculate_color(followers_count))\n",
    "        egoGraph.add_edge(sEgoName, sFollowerName)\n",
    "\n",
    "\n"
   ]
  },
  {
   "cell_type": "markdown",
   "metadata": {
    "pycharm": {
     "name": "#%% md\n"
    }
   },
   "source": [
    "Retrieve users that the ego follows and add to network.\n",
    "\n",
    "TODO: You'll need to add code here."
   ]
  },
  {
   "cell_type": "code",
   "execution_count": 32,
   "metadata": {
    "pycharm": {
     "name": "#%%\n"
    }
   },
   "outputs": [],
   "source": [
    "# user fields to retrieve (modify if want other fields to retrieve)\n",
    "lUserFields = [\"id\",\"name\",\"public_metrics\"]\n",
    "\n",
    "#\n",
    "# Retrive followed (people who follows the ego user)\n",
    "#\n",
    "twitterResponse = client.get_users_following(id=sEgoId, max_results=maxResults, pagination_token=None, tweet_fields=None, user_fields=lUserFields, user_auth=False)\n",
    "# loop through the results from first page\n",
    "for user in twitterResponse.data:\n",
    "    sFollowedName = user.username\n",
    "    followers_count = user.public_metrics.get('followers_count')\n",
    "    following_count = user.public_metrics.get('following_count')\n",
    "    tweet_count = user.public_metrics.get('tweet_count')\n",
    "    egoGraph.add_node(sFollowedName, followers_count=followers_count, following_count=following_count, tweet_count=tweet_count, color_id=calculate_color(followers_count))\n",
    "    egoGraph.add_edge(sFollowedName, sEgoName)\n",
    "\n",
    "\n",
    "# keep looping through each page of results until there are none left (AttributeError will be thrown)\n",
    "while True:\n",
    "    try:\n",
    "        twitterResponse = client.get_users_following(id=sEgoId, max_results=300, pagination_token=twitterResponse.next_token, tweet_fields=None, user_fields=lUserFields, user_auth=False)\n",
    "    except AttributeError:\n",
    "        break\n",
    "        \n",
    "    # process each page of followers\n",
    "    for user in twitterResponse.data:\n",
    "        sFollowedName = user.username\n",
    "        followers_count = user.public_metrics.get('followers_count')\n",
    "        following_count = user.public_metrics.get('following_count')\n",
    "        tweet_count = user.public_metrics.get('tweet_count')\n",
    "        egoGraph.add_node(sFollowedName, followers_count=followers_count, following_count=following_count, tweet_count=tweet_count, color_id=calculate_color(followers_count))\n",
    "        egoGraph.add_edge(sFollowedName, sEgoName)\n",
    "\n",
    "        "
   ]
  },
  {
   "cell_type": "markdown",
   "metadata": {
    "pycharm": {
     "name": "#%% md\n"
    }
   },
   "source": [
    "## Analyse the constructed Ego net\n",
    "\n",
    "TODO: You'll need to add code here."
   ]
  },
  {
   "cell_type": "code",
   "execution_count": 33,
   "metadata": {
    "pycharm": {
     "name": "#%%\n"
    }
   },
   "outputs": [],
   "source": [
    "\n",
    "#\n",
    "# Analyse graph\n",
    "#\n",
    "\n",
    "# graph file name, rename to appropriate filename\n",
    "graphFile='ego.graphml'\n",
    "\n",
    "\n",
    "# TODO: for you to complete!\n",
    "#\n",
    "\n"
   ]
  },
  {
   "cell_type": "markdown",
   "metadata": {
    "pycharm": {
     "name": "#%% md\n"
    }
   },
   "source": [
    "## Visualise the Ego net\n",
    "\n",
    "TODO: You'll need to add code here."
   ]
  },
  {
   "cell_type": "code",
   "execution_count": 34,
   "metadata": {
    "pycharm": {
     "name": "#%%\n"
    }
   },
   "outputs": [
    {
     "data": {
      "text/plain": "<Figure size 432x288 with 1 Axes>",
      "image/png": "[encoded data removed]"
     },
     "metadata": {},
     "output_type": "display_data"
    }
   ],
   "source": [
    "#\n",
    "# Draw graph\n",
    "#\n",
    "\n",
    "# TODO: Remember to import matplotlib.pyplot\n",
    "from matplotlib import pyplot as plt\n",
    "from matplotlib.patches import ArrowStyle\n",
    "\n",
    "# TODO: for you to complete!\n",
    "# use networkx to draw\n",
    "nx.draw_networkx(egoGraph, arrows=True, with_labels=True,\n",
    "                 pos=nx.kamada_kawai_layout(egoGraph, scale=10))\n",
    "plt.axis('off')\n",
    "plt.show()"
   ]
  },
  {
   "cell_type": "code",
   "execution_count": 36,
   "metadata": {
    "pycharm": {
     "name": "#%%\n"
    }
   },
   "outputs": [],
   "source": [
    "with open(graphFile, 'wb') as fOut:\n",
    "    nx.write_graphml(egoGraph, fOut)"
   ]
  }
 ],
 "metadata": {
  "kernelspec": {
   "display_name": "Python 3 (ipykernel)",
   "language": "python",
   "name": "python3"
  },
  "language_info": {
   "codemirror_mode": {
    "name": "ipython",
    "version": 3
   },
   "file_extension": ".py",
   "mimetype": "text/x-python",
   "name": "python",
   "nbconvert_exporter": "python",
   "pygments_lexer": "ipython3",
   "version": "3.9.12"
  }
 },
 "nbformat": 4,
 "nbformat_minor": 2
}