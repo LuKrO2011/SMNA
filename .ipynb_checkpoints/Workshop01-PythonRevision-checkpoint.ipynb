{
 "cells": [
  {
   "cell_type": "markdown",
   "metadata": {},
   "source": [
    "## Basic arithmetic, variables and arrays"
   ]
  },
  {
   "cell_type": "markdown",
   "metadata": {},
   "source": [
    "The follow commands execute a number of basic, iPython (interactive Python) commands. \n",
    "\n",
    "Jeffrey Chan, RMIT University 2022"
   ]
  },
  {
   "cell_type": "markdown",
   "metadata": {},
   "source": [
    "Type the following commands into the command lines below.  Examine what the output is (if there is any) and make sure you understand what that command does.  There is no need to type \"In [ ]:\" into the command console."
   ]
  },
  {
   "cell_type": "markdown",
   "metadata": {},
   "source": [
    "In [ ]: print(\"Hello Social Media, here I come!\")"
   ]
  },
  {
   "cell_type": "code",
   "execution_count": 1,
   "metadata": {},
   "outputs": [
    {
     "name": "stdout",
     "output_type": "stream",
     "text": [
      "Hello Social Media, here I come!\n"
     ]
    }
   ],
   "source": [
    "print(\"Hello Social Media, here I come!\")"
   ]
  },
  {
   "cell_type": "markdown",
   "metadata": {},
   "source": [
    "In [ ]: 1+2"
   ]
  },
  {
   "cell_type": "code",
   "execution_count": 2,
   "metadata": {},
   "outputs": [
    {
     "data": {
      "text/plain": [
       "3"
      ]
     },
     "execution_count": 2,
     "metadata": {},
     "output_type": "execute_result"
    }
   ],
   "source": [
    "1+2"
   ]
  },
  {
   "cell_type": "markdown",
   "metadata": {},
   "source": [
    "In [ ]: a = \"Hello World\""
   ]
  },
  {
   "cell_type": "code",
   "execution_count": 3,
   "metadata": {},
   "outputs": [],
   "source": [
    "a=\"Hello World\""
   ]
  },
  {
   "cell_type": "markdown",
   "metadata": {},
   "source": [
    "In [ ]: print(a)"
   ]
  },
  {
   "cell_type": "code",
   "execution_count": 4,
   "metadata": {},
   "outputs": [
    {
     "name": "stdout",
     "output_type": "stream",
     "text": [
      "Hello World\n"
     ]
    }
   ],
   "source": [
    "print(a)"
   ]
  },
  {
   "cell_type": "markdown",
   "metadata": {},
   "source": [
    "In [ ]: b = 3*4"
   ]
  },
  {
   "cell_type": "code",
   "execution_count": 5,
   "metadata": {},
   "outputs": [],
   "source": [
    "b = 3*4"
   ]
  },
  {
   "cell_type": "markdown",
   "metadata": {},
   "source": [
    "In [ ]: c = [1,2,3]"
   ]
  },
  {
   "cell_type": "code",
   "execution_count": 6,
   "metadata": {},
   "outputs": [],
   "source": [
    "c = [1,2,3]"
   ]
  },
  {
   "cell_type": "markdown",
   "metadata": {},
   "source": [
    "In [ ]: c[0]"
   ]
  },
  {
   "cell_type": "code",
   "execution_count": 7,
   "metadata": {},
   "outputs": [
    {
     "data": {
      "text/plain": [
       "1"
      ]
     },
     "execution_count": 7,
     "metadata": {},
     "output_type": "execute_result"
    }
   ],
   "source": [
    "c[0]"
   ]
  },
  {
   "cell_type": "markdown",
   "metadata": {},
   "source": [
    "## Defining functions and calling them"
   ]
  },
  {
   "cell_type": "markdown",
   "metadata": {},
   "source": [
    "It is often useful to be able to write your own functions, particularly if there is a series of commands that are commonly executed.  Also it is good practice to write functions for common tasks.  Here we practice how to write some simple functions to illustrate how they work."
   ]
  },
  {
   "cell_type": "markdown",
   "metadata": {},
   "source": [
    "Run the command below to define sampleFunc01.  Then type out the sampleFunc02."
   ]
  },
  {
   "cell_type": "code",
   "execution_count": 8,
   "metadata": {},
   "outputs": [],
   "source": [
    "def sampleFunc01(arg1, arg2):\n",
    "    \"\"\"\n",
    "    This is a function header.  It is good practice to write here what the function is about and meant to do, for others\n",
    "    and yourself (after a few months, you might not remember what it is meant to do).  Also good practice to write what \n",
    "    the function expects the function arguments, arg1 and arg2, meant to be.\n",
    "    \n",
    "    This function adds arg1 and arg2 together, then prints out the sum.\n",
    "    Note the notion below is javadocs one, but it is not necessary to use this format - just something the author of this\n",
    "    code is used to.\n",
    "    \n",
    "    @param arg1: integer\n",
    "    @param arg2: integer\n",
    "    \"\"\"\n",
    "    insideVar = arg1 + arg2\n",
    "    print(insideVar)"
   ]
  },
  {
   "cell_type": "markdown",
   "metadata": {},
   "source": [
    "def sampleFunc02(arg1, arg2):\n",
    "\n",
    "    \"\"\"\n",
    "    This function adds arg1 and arg2 together, but rather than print out the resulting sum, it returns the sum.\n",
    "    \n",
    "    @param arg1: integer\n",
    "    @param arg2: integer\n",
    "    @returns: arg1 + arg2\n",
    "    \"\"\"\n",
    "    insideVar = arg1 + arg2\n",
    "    return insideVar"
   ]
  },
  {
   "cell_type": "code",
   "execution_count": 10,
   "metadata": {},
   "outputs": [],
   "source": [
    "def sampleFunc02(arg1, arg2):\n",
    "    \"\"\"\n",
    "    This function adds arg1 and arg2 together, but rather than print out the resulting sum, it returns the sum.\n",
    "\n",
    "    @param arg1: integer\n",
    "    @param arg2: integer\n",
    "    @returns: arg1 + arg2\n",
    "    \"\"\"\n",
    "    insideVar = arg1 + arg2\n",
    "    return insideVar"
   ]
  },
  {
   "cell_type": "markdown",
   "metadata": {},
   "source": [
    "Test and run the newly defined functions."
   ]
  },
  {
   "cell_type": "markdown",
   "metadata": {},
   "source": [
    "In [ ]: sampleFunc01(2,3)"
   ]
  },
  {
   "cell_type": "code",
   "execution_count": 11,
   "metadata": {},
   "outputs": [
    {
     "name": "stdout",
     "output_type": "stream",
     "text": [
      "5\n"
     ]
    }
   ],
   "source": [
    " sampleFunc01(2,3)"
   ]
  },
  {
   "cell_type": "markdown",
   "metadata": {},
   "source": [
    "print(sampleFunc02(2,3))"
   ]
  },
  {
   "cell_type": "code",
   "execution_count": 12,
   "metadata": {},
   "outputs": [
    {
     "name": "stdout",
     "output_type": "stream",
     "text": [
      "5\n"
     ]
    }
   ],
   "source": [
    "print(sampleFunc02(2,3))"
   ]
  },
  {
   "cell_type": "markdown",
   "metadata": {},
   "source": [
    "a=sampleFunc02(2,3)"
   ]
  },
  {
   "cell_type": "code",
   "execution_count": 13,
   "metadata": {},
   "outputs": [],
   "source": [
    "a=sampleFunc02(2,3)"
   ]
  },
  {
   "cell_type": "markdown",
   "metadata": {},
   "source": [
    "## Importing packages"
   ]
  },
  {
   "cell_type": "markdown",
   "metadata": {},
   "source": [
    "Another useful Python feature is to import external packages for us.  Typically these are written by others, as in the following code samples, but also possible to write a package oneself to import - which we will see in a later workshop."
   ]
  },
  {
   "cell_type": "code",
   "execution_count": 1,
   "metadata": {},
   "outputs": [],
   "source": [
    "# this imports numpy, which is an important package and often used for data analysis.  It defines a number of useful functions\n",
    "# and data structures, including for arrays.\n",
    "import numpy as np"
   ]
  },
  {
   "cell_type": "markdown",
   "metadata": {},
   "source": [
    "In [ ]: np.array([1,2,3,4,5])"
   ]
  },
  {
   "cell_type": "code",
   "execution_count": 2,
   "metadata": {},
   "outputs": [
    {
     "data": {
      "text/plain": [
       "array([1, 2, 3, 4, 5])"
      ]
     },
     "execution_count": 2,
     "metadata": {},
     "output_type": "execute_result"
    }
   ],
   "source": [
    "np.array([1,2,3,4,5])"
   ]
  },
  {
   "cell_type": "markdown",
   "metadata": {},
   "source": [
    "In [ ]: numpyArray = np.array([1,2,3,4,5])"
   ]
  },
  {
   "cell_type": "code",
   "execution_count": 3,
   "metadata": {},
   "outputs": [],
   "source": [
    "numpyArray = np.array([1,2,3,4,5])"
   ]
  },
  {
   "cell_type": "markdown",
   "metadata": {},
   "source": [
    "In [ ]: np.median(numpyArray)"
   ]
  },
  {
   "cell_type": "code",
   "execution_count": 4,
   "metadata": {},
   "outputs": [
    {
     "data": {
      "text/plain": [
       "3.0"
      ]
     },
     "execution_count": 4,
     "metadata": {},
     "output_type": "execute_result"
    }
   ],
   "source": [
    " np.median(numpyArray)"
   ]
  }
 ],
 "metadata": {
  "authors": [
   {
    "name": "Jeffrey Chan"
   }
  ],
  "kernelspec": {
   "display_name": "Python 3 (ipykernel)",
   "language": "python",
   "name": "python3"
  },
  "language_info": {
   "codemirror_mode": {
    "name": "ipython",
    "version": 3
   },
   "file_extension": ".py",
   "mimetype": "text/x-python",
   "name": "python",
   "nbconvert_exporter": "python",
   "pygments_lexer": "ipython3",
   "version": "3.9.12"
  },
  "title": "Social Media and Network Analytics COSC2671, Workshop 01, RMIT University"
 },
 "nbformat": 4,
 "nbformat_minor": 2
}
