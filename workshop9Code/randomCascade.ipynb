{
 "cells": [
  {
   "cell_type": "markdown",
   "id": "608035d6",
   "metadata": {
    "pycharm": {
     "name": "#%% md\n"
    }
   },
   "source": [
    "# COSC2671 Social Media and Network Analytics\n",
    "\n",
    "Jeffrey Chan, RMIT University, 2022"
   ]
  },
  {
   "cell_type": "code",
   "execution_count": 92,
   "id": "30d4c974",
   "metadata": {
    "pycharm": {
     "name": "#%%\n"
    }
   },
   "outputs": [],
   "source": [
    "import time\n",
    "\n",
    "import random\n",
    "import numpy as np\n",
    "\n",
    "import networkx as nx"
   ]
  },
  {
   "cell_type": "markdown",
   "id": "5a444b0d",
   "metadata": {
    "pycharm": {
     "name": "#%% md\n"
    }
   },
   "source": [
    "    This function performs the independent cascade."
   ]
  },
  {
   "cell_type": "code",
   "execution_count": 93,
   "id": "b7399e80",
   "metadata": {
    "pycharm": {
     "name": "#%%\n"
    }
   },
   "outputs": [],
   "source": [
    "from networkx.classes.reportviews import EdgeDataView\n",
    "from typing import List\n",
    "from networkx import Graph\n",
    "\n",
    "\n",
    "def flipCoin(threshold):\n",
    "    flip = np.random.random_sample()\n",
    "    return flip <= threshold\n",
    "\n",
    "def independentCascade(graph, trialNum, lSeed, activationProb):\n",
    "    \"\"\"\n",
    "    Performs independent cascade over the input graph.  Results are stored in two output\n",
    "    lists.\n",
    "\n",
    "    @param graph: Input graph to perform cascade over.\n",
    "    @param trialNum: The number of runs/trials to run.  The results are averaged over the\n",
    "                    the trials/runs.\n",
    "    @param lSeed: List of initial nodes to seed.  Range from 0 to number of nodes -1.\n",
    "    @param activationProb: Activation probability on each edge.  All edges have the same\n",
    "                    activation probability.\n",
    "\n",
    "    @return: Two lists, lAvgActivationsPerNode and lAvgActivationsPerIteration.\n",
    "            lAvgActivationsPerNode is a list with the size same as the number of nodes in\n",
    "            the graph.  Each index of the list (starting with zero) corresponds directly\n",
    "            to the associated node, and each entry represents the average number of activations\n",
    "            over the trials/runs, and should lie in [0,1] range.\n",
    "            lAvgActivationsPerIteration is a list with the size same as the number of trials/runs.\n",
    "            Each index of the list corresponds to a trial/run, and each entry is the\n",
    "            total number of active nodes in that trial/run.\n",
    "    \"\"\"\n",
    "\n",
    "    # generate initial lists/vectors for the two output lists\n",
    "    lAvgActivationsPerNode = [0 for x in range(nx.number_of_nodes(graph))]\n",
    "    lAvgActivationsPerIteration = [0 for x in range(trialNum)]\n",
    "\n",
    "    print('starting cascade run')\n",
    "    # loop through the runs/trials\n",
    "    for i in range(trialNum):\n",
    "        print('Trial/run no. {}'.format(i))\n",
    "\n",
    "        seeded = lSeed.copy()\n",
    "        activated = []\n",
    "        while len(seeded) > 0:\n",
    "            nextNode = seeded.pop()\n",
    "\n",
    "            lAvgActivationsPerNode[nextNode] = lAvgActivationsPerNode[nextNode] + 1\n",
    "            lAvgActivationsPerIteration[i] = lAvgActivationsPerIteration[i] + 1\n",
    "            activated.append(nextNode)\n",
    "\n",
    "            edges: List[EdgeDataView] = graph.edges(nextNode)\n",
    "\n",
    "            for startNode, goalNode in edges:\n",
    "                if goalNode not in seeded and goalNode not in activated:\n",
    "                    if flipCoin(activationProb):\n",
    "                        seeded.append(goalNode)\n",
    "\n",
    "\n",
    "        # print(lAvgActivationsPerNode)\n",
    "\n",
    "    for index in range(len(lAvgActivationsPerNode)):\n",
    "        lAvgActivationsPerNode[index] = lAvgActivationsPerNode[index]/float(trialNum)\n",
    "\n",
    "    # print(lAvgActivationsPerNode)\n",
    "\n",
    "    # placeholder, replace with appropriate returns (if necessary)\n",
    "    return lAvgActivationsPerNode, lAvgActivationsPerIteration\n"
   ]
  },
  {
   "cell_type": "markdown",
   "id": "e9607ae3",
   "metadata": {
    "pycharm": {
     "name": "#%% md\n"
    }
   },
   "source": [
    "Following code generates a random graph then performs independent cascade on it."
   ]
  },
  {
   "cell_type": "code",
   "execution_count": 94,
   "id": "4a97cc32",
   "metadata": {
    "pycharm": {
     "name": "#%%\n"
    }
   },
   "outputs": [
    {
     "name": "stdout",
     "output_type": "stream",
     "text": [
      "starting cascade run\n",
      "Trial/run no. 0\n",
      "Trial/run no. 1\n",
      "Trial/run no. 2\n",
      "Trial/run no. 3\n",
      "Trial/run no. 4\n",
      "Trial/run no. 5\n",
      "Trial/run no. 6\n",
      "Trial/run no. 7\n",
      "Trial/run no. 8\n",
      "Trial/run no. 9\n",
      "[1.0, 1.0, 0.5, 0.6, 0.5, 0.1, 0.3, 0.1, 0.4, 0.2, 0.0, 0.1, 0.0, 0.1, 0.1, 0.0, 0.0, 0.2, 0.2, 0.1, 0.1, 0.0, 0.0, 0.1, 0.1, 0.0, 0.0, 0.0, 0.0, 0.1, 0.0, 0.0, 0.0, 0.0, 0.0, 0.1, 0.0, 0.1, 0.2, 0.1, 0.0, 0.1, 0.0, 0.0, 0.0, 0.0, 0.0, 0.0, 0.1, 0.0, 0.0, 0.0, 0.0, 0.0, 0.0, 0.0, 0.0, 0.0, 0.0, 0.1, 0.1, 0.0, 0.0]\n",
      "[10, 5, 10, 9, 5, 2, 9, 5, 5, 8]\n",
      "Average number of nodes activated = 6.8 out of 63\n",
      "starting cascade run\n",
      "Trial/run no. 0\n",
      "Trial/run no. 1\n",
      "Trial/run no. 2\n",
      "Trial/run no. 3\n",
      "Trial/run no. 4\n",
      "Trial/run no. 5\n",
      "Trial/run no. 6\n",
      "Trial/run no. 7\n",
      "Trial/run no. 8\n",
      "Trial/run no. 9\n",
      "[1.0, 1.0, 1.0, 1.0, 1.0, 1.0, 1.0, 1.0, 1.0, 1.0, 0.9, 1.0, 1.0, 1.0, 1.0, 1.0, 0.9, 1.0, 1.0, 1.0, 1.0, 1.0, 1.0, 0.9, 1.0, 1.0, 1.0, 1.0, 1.0, 1.0, 0.9, 0.9, 0.8, 1.0, 1.0, 1.0, 1.0, 1.0, 1.0, 1.0, 1.0, 1.0, 1.0, 0.9, 0.9, 1.0, 0.9, 1.0, 1.0, 1.0, 0.9, 0.9, 0.9, 0.8, 1.0, 0.8, 0.9, 0.8, 0.9, 0.9, 1.0, 0.8, 0.9, 1.0, 0.9, 1.0, 0.9, 1.0, 0.8, 0.9, 1.0, 1.0, 0.6, 0.9, 1.0, 0.6, 0.9, 0.8, 1.0, 0.8, 0.7, 0.8, 0.9, 0.7, 1.0, 1.0, 1.0, 1.0, 0.9, 0.9, 0.9, 0.6, 1.0, 0.8, 0.9, 0.9, 0.9, 1.0, 1.0, 0.6]\n",
      "[92, 91, 91, 94, 96, 94, 91, 92, 93, 97]\n",
      "Average number of nodes activated = 93.1 out of 100\n"
     ]
    }
   ],
   "source": [
    "#\n",
    "# TODO: generate the two types of graphs\n",
    "#\n",
    "\n",
    "\n",
    "# fileName\n",
    "sFilenameSuffix = \"workshop9.graphml\"\n",
    "\n",
    "# generate random graph\n",
    "# tree graph\n",
    "branchingFactor = 2\n",
    "treeHeight = 5\n",
    "# placeholder (replace right hand side)\n",
    "treeGraph = nx.balanced_tree(branchingFactor, treeHeight)\n",
    "\n",
    "# small world graph\n",
    "nodeNum = 100\n",
    "edgesToAttach = 3\n",
    "# placeholder (replace right hand side)\n",
    "smallWorldGraph = nx.barabasi_albert_graph(nodeNum, edgesToAttach)\n",
    "\n",
    "\n",
    "#\n",
    "# Independent cascade\n",
    "#\n",
    "lSeed = [0,1]\n",
    "trialNum = 10\n",
    "activationProb = 0.5\n",
    "\n",
    "#\n",
    "# independent cascade on tree graph\n",
    "#\n",
    "\n",
    "#\n",
    "# TODO: complete the implementation of independent cascade model with function\n",
    "# independentCascade()\n",
    "#\n",
    "\n",
    "if treeGraph != None:\n",
    "    lAvgActivationsPerNode, lAvgActivationsPerIteration = independentCascade(treeGraph, trialNum, lSeed, activationProb)\n",
    "    print(lAvgActivationsPerNode)\n",
    "    print(lAvgActivationsPerIteration)\n",
    "    print('Average number of nodes activated = {} out of {}'.format(sum(lAvgActivationsPerIteration) / len(lAvgActivationsPerIteration), nx.number_of_nodes(treeGraph)))\n",
    "\n",
    "\n",
    "    # Save to graph\n",
    "    # average activation per node for balanced tree,\n",
    "    # stored in node attribute 'avgAct'\n",
    "    for nodeId, avgActivation in enumerate(lAvgActivationsPerNode):\n",
    "        treeGraph.nodes[nodeId]['avgAct'] = avgActivation\n",
    "\n",
    "    # Output modified graphs to respective files\n",
    "    nx.readwrite.write_graphml(treeGraph, 'tree_' + sFilenameSuffix, infer_numeric_types=True)\n",
    "\n",
    "\n",
    "#\n",
    "# small world graph\n",
    "#\n",
    "\n",
    "if smallWorldGraph != None:\n",
    "    lAvgActivationsPerNode, lAvgActivationsPerIteration = independentCascade(smallWorldGraph, trialNum, lSeed, activationProb)\n",
    "    print(lAvgActivationsPerNode)\n",
    "    print(lAvgActivationsPerIteration)\n",
    "    print('Average number of nodes activated = {} out of {}'.format(sum(lAvgActivationsPerIteration) / len(lAvgActivationsPerIteration), nx.number_of_nodes(smallWorldGraph)))\n",
    "\n",
    "\n",
    "    # average activation per node for small world graph,\n",
    "    # stored in node attribute 'avgAct'\n",
    "    for nodeId, avgActivation in enumerate(lAvgActivationsPerNode):\n",
    "        smallWorldGraph.nodes[nodeId]['avgAct'] = avgActivation\n",
    "\n",
    "    # Output modified graphs to respective files\n",
    "    nx.readwrite.write_graphml(smallWorldGraph, 'smallWorld_' + sFilenameSuffix, infer_numeric_types=True)\n"
   ]
  },
  {
   "cell_type": "code",
   "execution_count": 94,
   "id": "88436122",
   "metadata": {
    "pycharm": {
     "name": "#%%\n"
    }
   },
   "outputs": [],
   "source": []
  }
 ],
 "metadata": {
  "kernelspec": {
   "display_name": "Python 3 (ipykernel)",
   "language": "python",
   "name": "python3"
  },
  "language_info": {
   "codemirror_mode": {
    "name": "ipython",
    "version": 3
   },
   "file_extension": ".py",
   "mimetype": "text/x-python",
   "name": "python",
   "nbconvert_exporter": "python",
   "pygments_lexer": "ipython3",
   "version": "3.9.12"
  }
 },
 "nbformat": 4,
 "nbformat_minor": 5
}