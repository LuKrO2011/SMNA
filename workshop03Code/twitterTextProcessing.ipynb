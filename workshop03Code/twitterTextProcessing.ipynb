{
 "cells": [
  {
   "cell_type": "markdown",
   "metadata": {
    "pycharm": {
     "name": "#%% md\n"
    }
   },
   "source": [
    "\n",
    "COSC2671 Social Media and Network Analytics\n",
    "\n",
    "Workshop 3\n",
    "\n",
    "Jeffrey Chan, RMIT University, 2022\n"
   ]
  },
  {
   "cell_type": "markdown",
   "metadata": {
    "pycharm": {
     "name": "#%% md\n"
    }
   },
   "source": [
    "The following function is a helper one, it does tokenisation removing stopwords and stemming."
   ]
  },
  {
   "cell_type": "code",
   "execution_count": 2,
   "metadata": {
    "pycharm": {
     "name": "#%%\n"
    }
   },
   "outputs": [],
   "source": [
    "def processTweet(text, tokenizer, stemmer, stopwords):\n",
    "    \"\"\"\n",
    "    Perform tokenisation, normalisation (lower case and stemming) and stopword and twitter keyword removal.\n",
    "\n",
    "    @param text: tweet text\n",
    "    @param tokenizer: tokeniser used.\n",
    "    @param stemmer: stemmer used.\n",
    "    @param stopwords: list of stopwords used\n",
    "\n",
    "    @returns: a list of processed tokens\n",
    "    \"\"\"\n",
    "\n",
    "    # covert all to lower case\n",
    "    text = text.lower()\n",
    "    # tokenise\n",
    "    lTokens = tokenizer.tokenize(text)\n",
    "    # strip whitespaces before and after\n",
    "    lTokens = [token.strip() for token in lTokens]\n",
    "    # stem (we use set to remove duplicates)\n",
    "    lStemmedTokens = set([stemmer.stem(tok) for tok in lTokens])\n",
    "\n",
    "\n",
    "\n",
    "    # remove stopwords, digits\n",
    "    return [tok for tok in lStemmedTokens if tok not in stopwords and not tok.isdigit()]"
   ]
  },
  {
   "cell_type": "markdown",
   "metadata": {
    "pycharm": {
     "name": "#%% md\n"
    }
   },
   "source": [
    "The following is the main part of the Notebook.  It setups, loads from the json file and calls processTweet().  Then it update the count of the terms."
   ]
  },
  {
   "cell_type": "code",
   "execution_count": 10,
   "metadata": {
    "pycharm": {
     "name": "#%%\n"
    }
   },
   "outputs": [
    {
     "name": "stderr",
     "output_type": "stream",
     "text": [
      "[nltk_data] Downloading package stopwords to\n",
      "[nltk_data]     C:\\Users\\lukas\\AppData\\Roaming\\nltk_data...\n",
      "[nltk_data]   Package stopwords is already up-to-date!\n"
     ]
    },
    {
     "name": "stdout",
     "output_type": "stream",
     "text": [
      "@ir_oldi: 25\n",
      "@damiano10: 19\n",
      "paper: 14\n",
      "@rmitcomput: 14\n",
      "great: 12\n",
      "thank: 12\n",
      "@rmit_cidda: 12\n",
      "@rmit: 11\n",
      "student: 11\n",
      "@admscentr: 11\n",
      "@karinv: 10\n",
      "mani: 9\n",
      "#sigir2022: 9\n",
      "@sigirconf: 9\n",
      "@flosalim: 8\n",
      "thi: 8\n",
      "research: 8\n",
      "@jtrippa: 8\n",
      "come: 8\n",
      "work: 8\n",
      "accept: 8\n",
      "talk: 7\n",
      "wa: 7\n",
      "@marwah_k: 6\n",
      "fantast: 6\n",
      "ai: 6\n",
      "congratul: 6\n",
      "thrill: 5\n",
      "collabor: 5\n",
      "join: 5\n",
      "us: 5\n",
      "question: 5\n",
      "day: 5\n",
      "part: 5\n",
      "w: 5\n",
      "onlin: 5\n",
      "present: 5\n",
      "search: 5\n",
      "queri: 5\n",
      "one: 4\n",
      "ha: 4\n",
      "i'm: 4\n",
      "rmit: 4\n",
      "time: 4\n",
      "good: 4\n",
      "adm: 4\n",
      "symposium: 4\n",
      "interdisciplinari: 4\n",
      "@researchrmit: 4\n",
      "first: 4\n"
     ]
    }
   ],
   "source": [
    "import sys\n",
    "import json\n",
    "import string\n",
    "from collections import Counter\n",
    "import nltk\n",
    "nltk.download('stopwords')\n",
    "\n",
    "\n",
    "# load json file\n",
    "# note usually we would do some checks, but for clarify's sake we haven't implement that code here\n",
    "fJsonName = 'rmitCsTwitterTimeline.json'\n",
    "\n",
    "# number of most frequent terms to display\n",
    "freqNum = 50\n",
    "\n",
    "# tweet tokeniser to use\n",
    "tweetTokeniser = nltk.tokenize.TweetTokenizer()\n",
    "# use the punctuation symbols defined in string.punctuation\n",
    "lPunct = list(string.punctuation)\n",
    "# use stopwords from nltk and a few other twitter specific terms like 'rt' (retweet)\n",
    "lStopwords = nltk.corpus.stopwords.words('english') + lPunct + ['rt', 'via']\n",
    "# we use the popular Porter stemmer\n",
    "tweetStemmer = nltk.stem.PorterStemmer()\n",
    "\n",
    "# our term frequency counter\n",
    "termFreqCounter = Counter()\n",
    "\n",
    "\n",
    "# open json file and process it tweet by tweet\n",
    "with open(fJsonName, 'r') as f:\n",
    "    dTweets = json.load(f)\n",
    "    \n",
    "    for tweet in dTweets['data']:\n",
    "        tweetText = tweet.get('text', '')\n",
    "        # tokenise, filter stopwords and get convert to lower case\n",
    "        lTokens = processTweet(text=tweetText, tokenizer=tweetTokeniser, stemmer=tweetStemmer, stopwords=lStopwords)\n",
    "\n",
    "        # remove noisy input\n",
    "        lTokens = [token for token in lTokens if token != '…']\n",
    "\n",
    "        # update count\n",
    "        termFreqCounter.update(lTokens)\n",
    "\n",
    "# print out most common terms\n",
    "for term, count in termFreqCounter.most_common(freqNum):\n",
    "    print(term + ': ' + str(count))"
   ]
  },
  {
   "cell_type": "code",
   "execution_count": 39,
   "outputs": [
    {
     "name": "stderr",
     "output_type": "stream",
     "text": [
      "C:\\Users\\lukas\\AppData\\Local\\Temp\\ipykernel_3688\\1948158442.py:16: UserWarning: Matplotlib is currently using module://matplotlib_inline.backend_inline, which is a non-GUI backend, so cannot show the figure.\n",
      "  fig.show()\n"
     ]
    },
    {
     "data": {
      "text/plain": "<Figure size 432x288 with 1 Axes>",
      "image/png": "[encoded data removed]"
     },
     "metadata": {
      "needs_background": "light"
     },
     "output_type": "display_data"
    }
   ],
   "source": [
    "import matplotlib.pyplot as plt\n",
    "\n",
    "fig, ax = plt.subplots()\n",
    "\n",
    "# assign values\n",
    "mostCommonTerms = termFreqCounter.most_common(freqNum)\n",
    "# x = [term for term, _ in mostCommonTerms]\n",
    "x = [value for value in range(freqNum)]\n",
    "y = [value for _, value in mostCommonTerms]\n",
    "ax.bar(x, y)\n",
    "\n",
    "# set axis names\n",
    "ax.set_ylabel(\"# of tweets with term frequency\")\n",
    "ax.set_xlabel(\"Term frequency\")\n",
    "\n",
    "fig.show()"
   ],
   "metadata": {
    "collapsed": false,
    "pycharm": {
     "name": "#%%\n"
    }
   }
  },
  {
   "cell_type": "code",
   "execution_count": 36,
   "outputs": [],
   "source": [],
   "metadata": {
    "collapsed": false,
    "pycharm": {
     "name": "#%%\n"
    }
   }
  },
  {
   "cell_type": "code",
   "execution_count": null,
   "outputs": [],
   "source": [],
   "metadata": {
    "collapsed": false,
    "pycharm": {
     "name": "#%%\n"
    }
   }
  }
 ],
 "metadata": {
  "kernelspec": {
   "display_name": "Python 3 (ipykernel)",
   "language": "python",
   "name": "python3"
  },
  "language_info": {
   "codemirror_mode": {
    "name": "ipython",
    "version": 3
   },
   "file_extension": ".py",
   "mimetype": "text/x-python",
   "name": "python",
   "nbconvert_exporter": "python",
   "pygments_lexer": "ipython3",
   "version": "3.9.12"
  }
 },
 "nbformat": 4,
 "nbformat_minor": 2
}