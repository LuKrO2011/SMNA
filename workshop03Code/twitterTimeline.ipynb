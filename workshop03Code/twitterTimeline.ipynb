{
 "cells": [
  {
   "cell_type": "markdown",
   "metadata": {
    "pycharm": {
     "name": "#%% md\n"
    }
   },
   "source": [
    "COSC2671 Social Media and Network Analytics\n",
    "\n",
    "Workshop 3\n",
    "\n",
    "@author Jeffrey Chan, RMIT University 2022\n"
   ]
  },
  {
   "cell_type": "markdown",
   "metadata": {
    "pycharm": {
     "name": "#%% md\n"
    }
   },
   "source": [
    "Automatically reload (can sometimes go out of sync) and also import the twitterClient so we can call the API."
   ]
  },
  {
   "cell_type": "code",
   "execution_count": 9,
   "outputs": [
    {
     "name": "stdout",
     "output_type": "stream",
     "text": [
      "The autoreload extension is already loaded. To reload it, use:\n",
      "  %reload_ext autoreload\n"
     ]
    }
   ],
   "source": [
    "from workshop03Code import twitterClient\n",
    "%load_ext autoreload\n",
    "%autoreload 1\n",
    "%aimport twitterClient"
   ],
   "metadata": {
    "collapsed": false,
    "pycharm": {
     "name": "#%%\n"
    }
   }
  },
  {
   "cell_type": "code",
   "execution_count": 12,
   "outputs": [
    {
     "name": "stdout",
     "output_type": "stream",
     "text": [
      "Response(data=[<Tweet id=1553988099805696000 text='“We once worried about government waste, now we don’t bat an eyelid if we hear that $1b annually is being lost to corruption in the NDIS, and maybe half as much in family day care.”- @DavidHaywardAU'>, <Tweet id=1553988097842774018 text='“From aged care to disability, from social housing to mental health, family violence and child protection, all we seem to hear about are hair raising service delivery failures and workforce shortages as far as the eye can see.” - @DavidHaywardAU'>, <Tweet id=1553988095917576192 text='“The care economy continues to dominate the headlines, but sadly for all the wrong reasons.” - @DavidHaywardAU'>, <Tweet id=1553988093623300097 text='RMIT expert @DavidHaywardAU is available to comment on the Labor Government’s promise to improve care services in Australia.\\nhttps://t.co/15HGb9QwSs'>, <Tweet id=1553960240911028224 text='“Ending #homelessness requires a whole-of-government response along the precarity pipeline — from strong and ongoing support services to the decriminalisation of #poverty.” - Dr. David Kelly'>, <Tweet id=1553960120744230915 text='“There is a woeful lack of resourcing and no unconditional right to housing. We have barriers like housing unaffordability and no public housing supply, so even if there were more money in the sector, there are no exit points into long-term secure housing.\" – Dr. David Kelly'>, <Tweet id=1553959848336756736 text='“In 2020, the homelessness sector was afforded a rare opportunity to test their own recommendations to improve the system, to offer better accommodation, access increased government funding, support longer tenancies and offer wrap-around support.” – Dr. David Kelly'>, <Tweet id=1553959746750713856 text='RMIT expert Dr. David Kelly is available to talk to the media for #HomelessnessWeek.\\n\\nhttps://t.co/2ZIYbTyBEQ'>, <Tweet id=1553946692307009536 text=\"Applications for RMIT's prestigious Vice-Chancellor’s #Research Fellowships Program are now open! We're looking for researchers wanting to collaborate across disciplines to create impact for society, the economy and the environment. Apps close 31 Aug 2022. https://t.co/6vZm3zWzxV https://t.co/6bD3BPecre\">, <Tweet id=1553904202325245952 text='Whether your interests are #creative, #sport and #fitness or #political – there really is a #club for everyone at #RMIT. \\nhttps://t.co/qWvoOptbT2'>, <Tweet id=1553904197539508225 text='\"We want all our students to feel connected and included, and our clubs and societies play a big role in this.” Said Vice Chancellor Alec Cameron as he joined #students at City Campus on Thursday. https://t.co/iz282aifdE'>, <Tweet id=1553904191461924864 text='#RMIT Clubs Day 2022 saw our #Melbourne campuses come alive with a colourful display of diversity as #students discovered the range of clubs and societies on offer at the three-day event. https://t.co/LEDv5n5iBY'>, <Tweet id=1552902649087152128 text='Join RMIT’s Mark Jacques and Amy Muir in a tour and panel discussion about the Victorian Family Violence Memorial project. The landscape memorial at the St Andrews Reserve site was unveiled in early 2022 as a space for remembrance, reflection and healing. https://t.co/Di187ZciQW'>, <Tweet id=1552902646297952256 text=\"Hear RMIT #architecture, #design and #landscape experts discuss 'building on country' at two events, as part of the @OpenHouseMelb 2022 program, Built/Unbuilt. Featuring Beau de Belle, N’arwee't Carolyn Briggs AM, Dr Christine Phillips and Jock Gilbert. https://t.co/1dvjWeF5Jb https://t.co/1GCZA85g99\">, <Tweet id=1552902639842914304 text='Did you know there’s a 98-year-old #cinema in the heart of Melbourne? #TheCapitol is an architectural #icon with a rich history. Join a #tour this weekend to soak in its grandeur and beauty. @OpenHouseMelb  https://t.co/OCb1Rt4zWG https://t.co/HywvBr3zkB'>, <Tweet id=1552902634490966016 text='If you love #architecture, don’t miss our RMIT events at @OpenHouseMelb this weekend! https://t.co/ToLgNo5R3c https://t.co/MRBTNNFFtc'>, <Tweet id=1552889196544671744 text=\"If you feel like you're freezing all the time, your house is likely a large part of the problem. 🥶\\nhttps://t.co/cPlj53ZuO4\">, <Tweet id=1552876177475645440 text='A key recommendation of the report is for new, #technology rich #innovation spaces like @rmit_healthlab where ideas can be trialled and tested, such as devices to detect falls, hazards and behavioural risks in real time, and even a #RoboticDog that can perform manual tasks. https://t.co/MKkGke5rum'>, <Tweet id=1552876162946580480 text='“This report contends that #technology can and should be core to how we generate a respectful, quality-driven #AgedCare system. Put simply, technology enables us to treat the #elderly with #respect,” said @VishaalKishore, Executive Chair of @rmit_healthlab. https://t.co/q5XsOD9P4P'>, <Tweet id=1552876149545799681 text='A new report by @rmit_healthlab highlights #tech is key to transforming systemic deficiencies in the #AgedCare sector. Launched at @rmit_sih, the report responds to the recommendations made by the Royal Commission into Aged Care Quality and Safety. https://t.co/4toly1HHP8 https://t.co/xGqWY0X7Ao'>], includes={}, errors=[], meta={'next_token': '7140dibdnow9c7btw422nftm049fqn3vjqctass7t2gc1', 'result_count': 20, 'newest_id': '1553988099805696000', 'oldest_id': '1552876149545799681'})\n"
     ]
    }
   ],
   "source": [
    "# the fields we want to retrieve\n",
    "lFields = ['author_id','entities','id','in_reply_to_user_id','referenced_tweets','text']\n",
    "\n",
    "client = twitterClient.twitterClient()\n",
    "\n",
    "# retrieve the first 10 tweets in your timeline (look up the api doc about Client.get_user_tweets, and also the field max_results)\n",
    "dTimeline = client.get_users_tweets(id=client.get_user(username=\"RMIT\").data.id, max_results=20, user_auth=False, tweet_fields=lFields)\n",
    "\n",
    "\n",
    "print(dTimeline)\n"
   ],
   "metadata": {
    "collapsed": false,
    "pycharm": {
     "name": "#%%\n"
    }
   }
  }
 ],
 "metadata": {
  "kernelspec": {
   "display_name": "Python 3 (ipykernel)",
   "language": "python",
   "name": "python3"
  },
  "language_info": {
   "codemirror_mode": {
    "name": "ipython",
    "version": 3
   },
   "file_extension": ".py",
   "mimetype": "text/x-python",
   "name": "python",
   "nbconvert_exporter": "python",
   "pygments_lexer": "ipython3",
   "version": "3.9.12"
  }
 },
 "nbformat": 4,
 "nbformat_minor": 2
}