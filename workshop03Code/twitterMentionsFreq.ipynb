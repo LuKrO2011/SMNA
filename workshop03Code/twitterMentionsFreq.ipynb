{
 "cells": [
  {
   "cell_type": "code",
   "execution_count": 20,
   "outputs": [
    {
     "name": "stdout",
     "output_type": "stream",
     "text": [
      "ir_oldie: 25\n",
      "damiano10: 19\n",
      "rmit_cidda: 16\n",
      "rmitcomputing: 13\n",
      "rmit: 11\n",
      "admscentre: 11\n",
      "karinv: 10\n",
      "jtrippas: 9\n",
      "sigirconf: 9\n",
      "flosalim: 8\n",
      "Done!\n"
     ]
    }
   ],
   "source": [
    "from collections import Counter\n",
    "import json\n",
    "\n",
    "def getMentions(tweet):\n",
    "    entities = tweet.get('entities', {})\n",
    "    mentions = entities.get('mentions', [])\n",
    "\n",
    "    return [mention['username'].lower() for mention in mentions]\n",
    "\n",
    "# load json file\n",
    "# note usually we would do some checks, but for clarify's sake we haven't implement that code here\n",
    "fJsonName = 'rmitCsTwitterTimeline.json'\n",
    "\n",
    "# number of tweets to display\n",
    "tweetThres = 10\n",
    "\n",
    "# open file and use Counter to count the number of times the hash tags appears\n",
    "with open(fJsonName, 'r') as f:\n",
    "    mentionsCounter = Counter()\n",
    "\n",
    "    dTweets = json.load(f)\n",
    "    # for each line in file (which corresponds to a tweet), load it, get the hashtags and insert them into the\n",
    "    # Counter\n",
    "    for tweet in dTweets['data']:\n",
    "        mentionsInTweet = getMentions(tweet)\n",
    "        mentionsCounter.update(mentionsInTweet)\n",
    "\n",
    "    for tag, count in mentionsCounter.most_common(tweetThres):\n",
    "        print(tag + \": \" + str(count))\n",
    "\n",
    "print(\"Done!\")"
   ],
   "metadata": {
    "collapsed": false,
    "pycharm": {
     "name": "#%%\n"
    }
   }
  },
  {
   "cell_type": "code",
   "execution_count": 13,
   "outputs": [],
   "source": [],
   "metadata": {
    "collapsed": false,
    "pycharm": {
     "name": "#%%\n"
    }
   }
  }
 ],
 "metadata": {
  "kernelspec": {
   "display_name": "Python 3",
   "language": "python",
   "name": "python3"
  },
  "language_info": {
   "codemirror_mode": {
    "name": "ipython",
    "version": 2
   },
   "file_extension": ".py",
   "mimetype": "text/x-python",
   "name": "python",
   "nbconvert_exporter": "python",
   "pygments_lexer": "ipython2",
   "version": "2.7.6"
  }
 },
 "nbformat": 4,
 "nbformat_minor": 0
}