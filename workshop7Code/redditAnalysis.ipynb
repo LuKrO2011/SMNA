{
 "cells": [
  {
   "cell_type": "markdown",
   "metadata": {
    "pycharm": {
     "name": "#%% md\n"
    }
   },
   "source": [
    "# Workshop 7: SNA Measures\n",
    "\n",
    "COSC2671 Social Media and Network Analytics\n",
    "\n",
    "Jeffrey Chan, RMIT University, 2022\n"
   ]
  },
  {
   "cell_type": "code",
   "execution_count": 6,
   "metadata": {
    "pycharm": {
     "name": "#%%\n"
    }
   },
   "outputs": [],
   "source": [
    "import networkx as nx\n",
    "import numpy as np\n",
    "import matplotlib.pyplot as plt"
   ]
  },
  {
   "cell_type": "code",
   "execution_count": 7,
   "metadata": {
    "pycharm": {
     "name": "#%%\n"
    }
   },
   "outputs": [],
   "source": [
    "sFileName = \"replayGraph.graphml\""
   ]
  },
  {
   "cell_type": "markdown",
   "metadata": {
    "pycharm": {
     "name": "#%% md\n"
    }
   },
   "source": [
    "First we read back the graph we constructed and compute the degree centrality"
   ]
  },
  {
   "cell_type": "code",
   "execution_count": 8,
   "metadata": {
    "pycharm": {
     "name": "#%%\n"
    }
   },
   "outputs": [
    {
     "name": "stderr",
     "output_type": "stream",
     "text": [
      "C:\\Users\\lukas\\anaconda3\\envs\\smna\\lib\\site-packages\\networkx\\algorithms\\centrality\\katz.py:325: FutureWarning: adjacency_matrix will return a scipy.sparse array instead of a matrix in Networkx 3.0.\n",
      "  A = nx.adjacency_matrix(G, nodelist=nodelist, weight=weight).todense().T\n"
     ]
    }
   ],
   "source": [
    "# read it back in to demonstrate it works\n",
    "replyGraph = nx.readwrite.read_graphml(sFileName)\n",
    "\n",
    "\n",
    "# computing the degree centrality and plotting it\n",
    "lDegCentrality = nx.degree_centrality(replyGraph)\n",
    "\n",
    "\n",
    "# TODO: write code to compute eigenvetor and katz centrality\n",
    "lEigenVectorCentrality = nx.eigenvector_centrality_numpy(replyGraph)\n",
    "lKatzCentrality = nx.katz_centrality_numpy(replyGraph)"
   ]
  },
  {
   "cell_type": "markdown",
   "metadata": {
    "pycharm": {
     "name": "#%% md\n"
    }
   },
   "source": [
    "The following code displayes the histograms of the degree, eigenvector and katz centrality values of the graph."
   ]
  },
  {
   "cell_type": "code",
   "execution_count": 9,
   "metadata": {
    "pycharm": {
     "name": "#%%\n"
    }
   },
   "outputs": [
    {
     "data": {
      "text/plain": "<Figure size 640x480 with 3 Axes>",
      "image/png": "[encoded data removed]"
     },
     "metadata": {},
     "output_type": "display_data"
    }
   ],
   "source": [
    "# plot histograms\n",
    "plt.subplot(1,3,1)\n",
    "plt.hist(list(lDegCentrality.values()))\n",
    "plt.title('Degree')\n",
    "plt.xlabel('centrality')\n",
    "\n",
    "plt.subplot(1,3,2)\n",
    "plt.hist(list(lEigenVectorCentrality.values()))\n",
    "plt.title('Eigenvector Centrality')\n",
    "plt.xlabel('centrality')\n",
    "\n",
    "plt.subplot(1,3,3)\n",
    "plt.hist(list(lKatzCentrality.values()))\n",
    "plt.title('Katz Centrality')\n",
    "plt.xlabel('centrality')\n",
    "\n",
    "\n",
    "plt.show()"
   ]
  },
  {
   "cell_type": "markdown",
   "metadata": {
    "pycharm": {
     "name": "#%% md\n"
    }
   },
   "source": [
    "The following code computes the SNA statistics/measures to do with centrality, clustering coefficient, connected components and bridges.\n"
   ]
  },
  {
   "cell_type": "code",
   "execution_count": 12,
   "metadata": {
    "pycharm": {
     "name": "#%%\n"
    }
   },
   "outputs": [
    {
     "name": "stdout",
     "output_type": "stream",
     "text": [
      "Graph stored as mod-replayGraph.graphml\n"
     ]
    }
   ],
   "source": [
    "#\n",
    "# TODO: update the node attributes with centrality\n",
    "#\n",
    "for nodeId, cent in lDegCentrality.items():\n",
    "    replyGraph.nodes[nodeId]['degree'] = float(cent)\n",
    "\n",
    "for nodeId, cent in lEigenVectorCentrality.items():\n",
    "    replyGraph.nodes[nodeId]['eigen'] = float(cent)\n",
    "\n",
    "for nodeId, cent in lKatzCentrality.items():\n",
    "    replyGraph.nodes[nodeId]['katz'] = float(cent)\n",
    "\n",
    "#\n",
    "# TODO: write out graph to new file\n",
    "#\n",
    "filename = \"mod-replayGraph.graphml\"\n",
    "nx.write_graphml(replyGraph, filename)\n",
    "print(\"Graph stored as \" + filename)\n"
   ]
  },
  {
   "cell_type": "code",
   "execution_count": 35,
   "metadata": {
    "pycharm": {
     "name": "#%%\n"
    }
   },
   "outputs": [
    {
     "name": "stdout",
     "output_type": "stream",
     "text": [
      "Global clustering coefficient/Transitivity: 0.03319327731092437\n",
      "Number of strongly connected components: 514\n",
      "Number of weakly connected components: 35\n",
      "Number of bridges: 490\n"
     ]
    }
   ],
   "source": [
    "#\n",
    "# TODO: compute the other SNA measures specified in the lab\n",
    "#\n",
    "transitivity = nx.transitivity(replyGraph)\n",
    "stronglyConnectedComponents = nx.strongly_connected_components(replyGraph)\n",
    "weaklyConnectedComponents = nx.weakly_connected_components(replyGraph)\n",
    "undirectedReplayGraph = replyGraph.to_undirected()\n",
    "bridges = nx.bridges(undirectedReplayGraph)\n",
    "\n",
    "print(\"Global clustering coefficient/Transitivity: \" + transitivity.__str__())\n",
    "print(\"Number of strongly connected components: \" + len(list(stronglyConnectedComponents)).__str__())\n",
    "print(\"Number of weakly connected components: \" + len(list(weaklyConnectedComponents)).__str__())\n",
    "print(\"Number of bridges: \" + len(list(bridges)).__str__())"
   ]
  }
 ],
 "metadata": {
  "kernelspec": {
   "display_name": "Python 3",
   "language": "python",
   "name": "python3"
  },
  "language_info": {
   "codemirror_mode": {
    "name": "ipython",
    "version": 3
   },
   "file_extension": ".py",
   "mimetype": "text/x-python",
   "name": "python",
   "nbconvert_exporter": "python",
   "pygments_lexer": "ipython3",
   "version": "3.7.3"
  }
 },
 "nbformat": 4,
 "nbformat_minor": 2
}