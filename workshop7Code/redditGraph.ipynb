{
 "cells": [
  {
   "cell_type": "markdown",
   "metadata": {
    "pycharm": {
     "name": "#%% md\n"
    }
   },
   "source": [
    "# Workshop 7: SNA Measures\n",
    "\n",
    "COSC2671 Social Media and Network Analytics\n",
    "\n",
    "Jeffrey Chan, RMIT University, 2022\n"
   ]
  },
  {
   "cell_type": "code",
   "execution_count": 1,
   "metadata": {
    "pycharm": {
     "name": "#%%\n"
    }
   },
   "outputs": [],
   "source": [
    "%load_ext autoreload\n",
    "%autoreload 1\n",
    "%aimport redditClient"
   ]
  },
  {
   "cell_type": "code",
   "execution_count": 2,
   "metadata": {
    "pycharm": {
     "name": "#%%\n"
    }
   },
   "outputs": [],
   "source": [
    "import networkx as nx\n",
    "\n",
    "from redditClient import redditClient\n",
    "\n",
    "import matplotlib.pyplot as plt"
   ]
  },
  {
   "cell_type": "code",
   "execution_count": 3,
   "metadata": {
    "pycharm": {
     "name": "#%%\n"
    }
   },
   "outputs": [],
   "source": [
    "sFileName = \"workshop7.graphml\""
   ]
  },
  {
   "cell_type": "markdown",
   "metadata": {
    "pycharm": {
     "name": "#%% md\n"
    }
   },
   "source": [
    "Setup Reddit client."
   ]
  },
  {
   "cell_type": "code",
   "execution_count": 4,
   "metadata": {
    "pycharm": {
     "name": "#%%\n"
    }
   },
   "outputs": [
    {
     "name": "stdout",
     "output_type": "stream",
     "text": [
      "LuKrO99\n"
     ]
    }
   ],
   "source": [
    "# construct Reddit client\n",
    "client = redditClient()\n",
    "\n",
    "# construct directed graph\n",
    "replyGraph = nx.DiGraph()\n",
    "\n",
    "# this dictionary used to track the ids of submissions and posts, in order for us to construct\n",
    "# the links in the graph\n",
    "dSubCommentId = dict()\n",
    "\n",
    "# specify which subreddit we are interested in - 'python'\n",
    "subreddit = client.subreddit('python')\n",
    "\n",
    "# sanity check, you should see your own username printed out\n",
    "print(client.user.me())"
   ]
  },
  {
   "cell_type": "markdown",
   "metadata": {
    "pycharm": {
     "name": "#%% md\n"
    }
   },
   "source": [
    "Construct reply graph from the python subreddit channel."
   ]
  },
  {
   "cell_type": "code",
   "execution_count": 5,
   "metadata": {
    "pycharm": {
     "name": "#%%\n"
    }
   },
   "outputs": [
    {
     "name": "stdout",
     "output_type": "stream",
     "text": [
      "x58m2d\n",
      "x8kp0x\n",
      "x8k1dh\n",
      "x8ag01\n",
      "x7y0xg\n",
      "x8fppy\n",
      "x8fqg4\n",
      "x8njrc\n",
      "x8nilx\n",
      "x8gxhg\n",
      "x8rmwj\n",
      "x84av4\n",
      "x8c9lz\n",
      "x87oyq\n",
      "x89bf5\n",
      "x8s7so\n",
      "x8rrk3\n",
      "x7mb2s\n",
      "x8ddc4\n",
      "x8nzs3\n",
      "x8n597\n",
      "x86gok\n",
      "x8gpr6\n",
      "x7f9r9\n",
      "x78yuc\n",
      "x86pes\n",
      "x76i8u\n",
      "x7jofr\n",
      "x7vjuv\n",
      "x75qzr\n",
      "x7kudf\n",
      "x7o2q4\n",
      "x7y5s7\n",
      "x76a10\n",
      "x7pxz6\n",
      "x80gij\n",
      "x7l6ya\n",
      "x7f0dp\n",
      "x6njsq\n",
      "x788ac\n",
      "x7f0zp\n",
      "x74g4h\n",
      "x7b8wq\n",
      "x77ddy\n",
      "x6y5s7\n",
      "x6dokf\n",
      "x7vpz2\n",
      "x7f3oj\n",
      "x73gy8\n",
      "x7ctqr\n",
      "x74wjm\n",
      "x6hfqv\n",
      "x6wugh\n",
      "x6h4mw\n",
      "x6nfh9\n",
      "x6jsnq\n",
      "x73iyd\n",
      "x6mz05\n",
      "x6n9d1\n",
      "x70edr\n",
      "x682gs\n",
      "x6bt9z\n",
      "x6vdb4\n",
      "x5op7z\n",
      "x6m6hz\n",
      "x61lfg\n",
      "x5wyvp\n",
      "x5gjpv\n",
      "x6ipae\n",
      "x6hynp\n",
      "x6ljtx\n",
      "x6fgvn\n",
      "x63nlg\n",
      "x6gb21\n",
      "x6cn0f\n",
      "x6b659\n",
      "x5yrlx\n",
      "x4u928\n",
      "x5nusn\n",
      "x5p62u\n",
      "x4xlvh\n",
      "x5rdrz\n",
      "x4qpf5\n",
      "x5omlj\n",
      "x518ju\n",
      "x5myqz\n",
      "x5ryg8\n",
      "x5lm9a\n",
      "x51q3z\n",
      "x5hr9r\n",
      "x4srau\n",
      "x581xo\n",
      "x532hc\n",
      "x4gpuj\n",
      "x5e8qg\n",
      "x4ej6c\n",
      "x50h2n\n",
      "x521we\n",
      "x4hq6e\n",
      "x50q9x\n",
      "Graph stored as replayGraph.graphml\n"
     ]
    }
   ],
   "source": [
    "# loop through the hot submissions\n",
    "for submission in subreddit.hot():\n",
    "    print(submission)\n",
    "\n",
    "    # check if author name is in the reply graph - if so, we update the number of submissions\n",
    "    # associated with this user\n",
    "    # if not, we construct a new node with 1 associated submission\n",
    "    if submission.author.name in replyGraph:\n",
    "        replyGraph.nodes[submission.author.name]['subNum'] += 1\n",
    "    else:\n",
    "        replyGraph.add_node(submission.author.name, subNum=1)\n",
    "\n",
    "    submissionId = submission.name;\n",
    "    # this stores the submissionId (in submission.name) and associate it to the author\n",
    "    # (submission.author.name).\n",
    "    dSubCommentId[submissionId] = {submissionId : submission.author.name}\n",
    "\n",
    "    # for the current submission, retrieve the associated comments\n",
    "    submission.comments.replace_more(limit=None)\n",
    "    for comment in submission.comments.list():\n",
    "\n",
    "        # some data checking to cater for deleted comments\n",
    "        # we only add a link if the comment hasn't been deleted\n",
    "        if comment.author is not None and comment.author.name != 'ExternalUserError':\n",
    "            dSubCommentId[submissionId].update({comment.name : comment.author.name})\n",
    "\n",
    "            # check if we have seen the comment's parent yet.  If not, then parent comment has been\n",
    "            # deleted\n",
    "            if comment.parent_id in dSubCommentId[submissionId]:\n",
    "                # if edge exists, increment the replyNum, otherwise add a new edge\n",
    "                if replyGraph.has_edge(comment.author.name, dSubCommentId[submissionId][comment.parent_id]):\n",
    "                    replyGraph[comment.author.name][dSubCommentId[submissionId][comment.parent_id]]['replyNum'] += 1\n",
    "                else:\n",
    "                    # need to check if the nodes have been added yet, if not add it and set subNum to 0\n",
    "                    if not comment.author.name in replyGraph:\n",
    "                        replyGraph.add_node(comment.author.name, subNum=0)\n",
    "\n",
    "                    if not dSubCommentId[submissionId][comment.parent_id] in replyGraph:\n",
    "                        replyGraph.add_node(dSubCommentId[submissionId][comment.parent_id], subNum=0)\n",
    "\n",
    "                    replyGraph.add_edge(comment.author.name, dSubCommentId[submissionId][comment.parent_id], replyNum=1)\n",
    "\n",
    "#\n",
    "# TODO: save graph to file\n",
    "#\n",
    "filename = \"replayGraph.graphml\"\n",
    "nx.write_graphml(replyGraph, filename)\n",
    "print(\"Graph stored as \" + filename)\n"
   ]
  }
 ],
 "metadata": {
  "kernelspec": {
   "display_name": "Python 3",
   "language": "python",
   "name": "python3"
  },
  "language_info": {
   "codemirror_mode": {
    "name": "ipython",
    "version": 3
   },
   "file_extension": ".py",
   "mimetype": "text/x-python",
   "name": "python",
   "nbconvert_exporter": "python",
   "pygments_lexer": "ipython3",
   "version": "3.7.3"
  }
 },
 "nbformat": 4,
 "nbformat_minor": 2
}