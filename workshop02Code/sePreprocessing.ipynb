{
 "cells": [
  {
   "cell_type": "markdown",
   "metadata": {
    "pycharm": {
     "name": "#%% md\n"
    }
   },
   "source": [
    "## COSC2671 Social Media and Network Analytics Workshop Week 2\n",
    "\n",
    "Jeffrey Chan, RMIT University 2022"
   ]
  },
  {
   "cell_type": "markdown",
   "metadata": {
    "pycharm": {
     "name": "#%% md\n"
    }
   },
   "source": [
    "This Notebook opens up the json files and extracts out the questions and associated tags for StackOver question and answer forums."
   ]
  },
  {
   "cell_type": "markdown",
   "metadata": {
    "pycharm": {
     "name": "#%% md\n"
    }
   },
   "source": [
    "The following command specifies the location of certain input files, including where the tags, posts and output should be stored."
   ]
  },
  {
   "cell_type": "code",
   "execution_count": 30,
   "metadata": {
    "pycharm": {
     "name": "#%%\n"
    }
   },
   "outputs": [],
   "source": [
    "tagsFile='Tags.json'\n",
    "postsFile='Posts.json'\n",
    "outputFile='filteredPosts.json'\n",
    "minTagFreq=15"
   ]
  },
  {
   "cell_type": "markdown",
   "metadata": {
    "pycharm": {
     "name": "#%% md\n"
    }
   },
   "source": [
    "The following command reads in the set of tags and filters out tags that appear less than minTagFreq."
   ]
  },
  {
   "cell_type": "code",
   "execution_count": 31,
   "metadata": {
    "pycharm": {
     "name": "#%%\n"
    }
   },
   "outputs": [
    {
     "name": "stdout",
     "output_type": "stream",
     "text": [
      "Length:  169\n"
     ]
    }
   ],
   "source": [
    "import json\n",
    "\n",
    "lValidTags = []\n",
    "# read in set of tags and filter out non-relevant ones\n",
    "with open(tagsFile, 'r') as fTags:\n",
    "    for sLine in fTags:\n",
    "        tag = json.loads(sLine)\n",
    "\n",
    "        if int(tag['Count']) >= minTagFreq:\n",
    "            lValidTags.append(tag['TagName'])\n",
    "\n",
    "print(\"Length: \", len(lValidTags))"
   ]
  },
  {
   "cell_type": "markdown",
   "metadata": {
    "pycharm": {
     "name": "#%% md\n"
    }
   },
   "source": [
    "The following command reads in the posts, filters tags that are valid (from previous command), and outputs only questions and associated tags."
   ]
  },
  {
   "cell_type": "code",
   "execution_count": 32,
   "metadata": {
    "pycharm": {
     "name": "#%%\n"
    }
   },
   "outputs": [
    {
     "name": "stdout",
     "output_type": "stream",
     "text": [
      "Done\n"
     ]
    }
   ],
   "source": [
    "# read in posts, and only output question posts\n",
    "with open(postsFile, 'r') as fIn, open(outputFile, 'w') as fOut:\n",
    "    for sLine in fIn:\n",
    "        doc = json.loads(sLine)\n",
    "\n",
    "        # store the ids of all docs, to figure out what is the question and what is the answer\n",
    "        docType = doc['PostTypeId']\n",
    "        lTagsKept = []\n",
    "\n",
    "        # we only interested in storing questions and associated tags\n",
    "        if docType == '1':\n",
    "            lCurrTags = doc['Tags'].split(' ')\n",
    "            # only keep tags that are 'valid', or appear greater than min_df number of times\n",
    "            lTagsKept = [tag for tag in lCurrTags if tag in lValidTags]\n",
    "\n",
    "            # if there are associated tags (there should be, but if there isn't we don't output the question post)\n",
    "            if len(lTagsKept) > 0:\n",
    "                # update document tags and convert the tagsKept list to a string\n",
    "                doc['Tags'] = ' '.join(lTagsKept)\n",
    "                # write to json format\n",
    "                fOut.write(\"{}\\n\".format(json.dumps(doc)))\n",
    "\n",
    "print(\"Done\")"
   ]
  },
  {
   "cell_type": "code",
   "execution_count": 32,
   "metadata": {
    "pycharm": {
     "name": "#%%\n"
    }
   },
   "outputs": [],
   "source": []
  }
 ],
 "metadata": {
  "kernelspec": {
   "display_name": "Python 3",
   "language": "python",
   "name": "python3"
  },
  "language_info": {
   "codemirror_mode": {
    "name": "ipython",
    "version": 3
   },
   "file_extension": ".py",
   "mimetype": "text/x-python",
   "name": "python",
   "nbconvert_exporter": "python",
   "pygments_lexer": "ipython3",
   "version": "3.7.3"
  }
 },
 "nbformat": 4,
 "nbformat_minor": 2
}