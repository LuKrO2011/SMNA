{
 "cells": [
  {
   "cell_type": "markdown",
   "metadata": {
    "pycharm": {
     "name": "#%% md\n"
    }
   },
   "source": [
    "# COSC2671 Social Media and Network Analytics\n",
    "\n",
    "Jeffrey Chan, RMIT University, 2022"
   ]
  },
  {
   "cell_type": "code",
   "execution_count": 208,
   "metadata": {
    "pycharm": {
     "name": "#%%\n"
    }
   },
   "outputs": [],
   "source": [
    "import networkx as nx\n",
    "# python-louvain\n",
    "import community\n",
    "import random\n",
    "import csv\n",
    "\n",
    "\n",
    "import matplotlib.pyplot as plt\n",
    "from networkx.algorithms.community import k_clique_communities"
   ]
  },
  {
   "cell_type": "code",
   "execution_count": 209,
   "metadata": {
    "pycharm": {
     "name": "#%%\n"
    }
   },
   "outputs": [],
   "source": [
    "# filename of graph to read in\n",
    "sFilename = \"workshop8.graphml\"\n",
    "\n",
    "# filename of ground truth labels\n",
    "sGroundTruthFilename = \"workshop8GroundTruth.csv\""
   ]
  },
  {
   "cell_type": "markdown",
   "metadata": {
    "pycharm": {
     "name": "#%% md\n"
    }
   },
   "source": [
    "Function to compute the purity of an identified set of communities, 'comm1'.  You'll need to complete the implementation for the workshop."
   ]
  },
  {
   "cell_type": "code",
   "execution_count": 210,
   "metadata": {
    "pycharm": {
     "name": "#%%\n"
    }
   },
   "outputs": [],
   "source": [
    "def purity(comm1, groundTruthComm):\n",
    "    \"\"\"\n",
    "    TODO: Complete implementation\n",
    "\n",
    "    @param comm1: community to evaluate (list of set format)\n",
    "    @param groundTruthComm: ground truth to compare against (list of set format)\n",
    "    @return: purity score, between 0 to 1\n",
    "    \"\"\"\n",
    "\n",
    "    # set overlap\n",
    "    overlapTotal = 0\n",
    "    # loop through each community in comm1 (list of sets).  We want to find the overlap with each\n",
    "    # of the communities in groundTruthComm, take the one with the maximum and add the amount of (maximal)\n",
    "    # overlap to the running total (overlapTotal)\n",
    "    #\n",
    "    for setComm1 in comm1:\n",
    "        overlaps = []\n",
    "        for setComm2 in groundTruthComm:\n",
    "            overlap = setComm2 - setComm1\n",
    "            overlaps.append(len(overlap))\n",
    "        overlapTotal += max(overlaps)\n",
    "\n",
    "    # TODO: remember to normalise the overlapTotal to compute purity\n",
    "    normalizedOverlap = overlapTotal / comm1.__sizeof__()\n",
    "    return normalizedOverlap"
   ]
  },
  {
   "cell_type": "markdown",
   "metadata": {
    "pycharm": {
     "name": "#%% md\n"
    }
   },
   "source": [
    "Utility function to convert the output of python-Louvain, a dictionary (node -> community id), to a list of sets (community id -> [nodes])."
   ]
  },
  {
   "cell_type": "code",
   "execution_count": 211,
   "metadata": {
    "pycharm": {
     "name": "#%%\n"
    }
   },
   "outputs": [],
   "source": [
    "def dictToSetFormat(dComms, maxCommNum):\n",
    "    \"\"\"\n",
    "    Converts dictionary based community output (node -> community id) to list of sets (communities)\n",
    "    @param dComms: dictionary based community representation\n",
    "    @param maxCommNum: maximum number of communities\n",
    "    @return: list of communities representation\n",
    "    \"\"\"\n",
    "\n",
    "    # initialise\n",
    "    lGroundTruth = [set() for x in range(maxCommNum)]\n",
    "    # convert each (node : community id) pair to the required set format\n",
    "    for (name, clusId) in dComms.items():\n",
    "        lGroundTruth[clusId].add(name)\n",
    "\n",
    "    return lGroundTruth"
   ]
  },
  {
   "cell_type": "markdown",
   "metadata": {
    "pycharm": {
     "name": "#%% md\n"
    }
   },
   "source": [
    "Constructs communities from reddit reply graph."
   ]
  },
  {
   "cell_type": "code",
   "execution_count": 212,
   "metadata": {
    "pycharm": {
     "name": "#%%\n"
    }
   },
   "outputs": [
    {
     "name": "stdout",
     "output_type": "stream",
     "text": [
      "CPM purity = 5.219827586206897\n",
      "Louvain purity = 6.4148550724637685\n"
     ]
    }
   ],
   "source": [
    "# read the reply graph in\n",
    "replyGraph = nx.readwrite.read_graphml(sFilename)\n",
    "\n",
    "#\n",
    "# compute communities\n",
    "#\n",
    "\n",
    "#\n",
    "# TODO: Implement CPM\n",
    "#\n",
    "\n",
    "# k (clique size)\n",
    "k = 3\n",
    "# placeholder.  Add the implementation to the right, but maintain the variable name.\n",
    "lCpmComms = list(k_clique_communities(replyGraph.to_undirected(), k))\n",
    "\n",
    "#\n",
    "# TODO: Implement louvain\n",
    "#\n",
    "\n",
    "# louvain\n",
    "# Placeholder, replace right hand side\n",
    "dLouvainComms = community.best_partition(replyGraph.to_undirected())\n",
    "\n",
    "# this code converts output of Louvain to the same format as CPM (makes it easier to have one consistent interface\n",
    "louvanCommNum = max([y for (x,y) in dLouvainComms.items()]) + 1\n",
    "lLouvainComms = dictToSetFormat(dLouvainComms, louvanCommNum)\n",
    "\n",
    "\n",
    "#\n",
    "# TODO: Write out cpm and Louvain values to node attributes of graph\n",
    "#\n",
    "# for node in replyGraph.nodes:\n",
    "#     replyGraph.nodes[node]['CPM'] = -1\n",
    "#     replyGraph.nodes[node]['Louvain'] = -1\n",
    "\n",
    "for commId, community in enumerate(lCpmComms):\n",
    "    for member in community:\n",
    "        replyGraph.nodes[member][\"CPM\"] = commId\n",
    "\n",
    "for commId, community in enumerate(lLouvainComms):\n",
    "    for member in community:\n",
    "        replyGraph.nodes[member][\"Louvain\"] = commId\n",
    "\n",
    "# for node in replyGraph.nodes:\n",
    "#     print(replyGraph.nodes[node]['CPM'])\n",
    "#     print(replyGraph.nodes[node]['Louvain'])\n",
    "\n",
    "\n",
    "# Output modified graph with prefix mod2 to original file.\n",
    "nx.readwrite.write_graphml(replyGraph, 'mod2' + sFilename, infer_numeric_types=True)\n",
    "\n",
    "\n",
    "\n",
    "\n",
    "#\n",
    "# Compare the communities detected by coparing to a ground truth set of communities\n",
    "#\n",
    "\n",
    "lGroundTruth = []\n",
    "# read in ground truth\n",
    "with open(sGroundTruthFilename, 'r') as fIn:\n",
    "    reader = csv.reader(fIn, delimiter=',')\n",
    "\n",
    "    for lRow in reader:\n",
    "        lGroundTruth.append(set(lRow))\n",
    "\n",
    "\n",
    "\n",
    "#\n",
    "# Compute purity\n",
    "#\n",
    "\n",
    "# compute purity\n",
    "# TODO: implement the purity function, which is defined after this main function\n",
    "purityValueCpm = purity(lCpmComms, lGroundTruth)\n",
    "# if using python 2.X, need to replace this print call\n",
    "print('CPM purity = {}'.format(purityValueCpm))\n",
    "\n",
    "# convert to set format\n",
    "purityValueLou = purity(lLouvainComms, lGroundTruth)\n",
    "print('Louvain purity = {}'.format(purityValueLou))\n",
    "\n"
   ]
  },
  {
   "cell_type": "code",
   "execution_count": 212,
   "metadata": {
    "pycharm": {
     "name": "#%%\n"
    }
   },
   "outputs": [],
   "source": []
  }
 ],
 "metadata": {
  "kernelspec": {
   "display_name": "Python 3 (ipykernel)",
   "language": "python",
   "name": "python3"
  },
  "language_info": {
   "codemirror_mode": {
    "name": "ipython",
    "version": 3
   },
   "file_extension": ".py",
   "mimetype": "text/x-python",
   "name": "python",
   "nbconvert_exporter": "python",
   "pygments_lexer": "ipython3",
   "version": "3.9.12"
  }
 },
 "nbformat": 4,
 "nbformat_minor": 4
}