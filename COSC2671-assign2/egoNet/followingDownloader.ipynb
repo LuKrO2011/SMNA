{
 "cells": [
  {
   "cell_type": "markdown",
   "metadata": {
    "pycharm": {
     "name": "#%% md\n"
    }
   },
   "source": [
    "# Ego net downloader\n",
    "\n",
    "COSC2671 Social Media and Network Analytics\n",
    "\n",
    "Lukas Krodinger, 3931415"
   ]
  },
  {
   "cell_type": "code",
   "execution_count": 6,
   "metadata": {
    "pycharm": {
     "name": "#%%\n"
    }
   },
   "outputs": [],
   "source": [
    "from workshop03Code import twitterClient\n",
    "import json"
   ]
  },
  {
   "cell_type": "code",
   "execution_count": 7,
   "metadata": {
    "pycharm": {
     "name": "#%%\n"
    }
   },
   "outputs": [],
   "source": [
    "client = twitterClient.twitterClient()"
   ]
  },
  {
   "cell_type": "code",
   "execution_count": 8,
   "outputs": [],
   "source": [
    "def load(filename):\n",
    "    datas = []\n",
    "    with open(filename, 'r') as f:\n",
    "        for line in f:\n",
    "            data = json.loads(line)\n",
    "            datas.append(data)\n",
    "    return datas\n",
    "\n",
    "\n",
    "def save(filename, data):\n",
    "    with open(filename, 'w') as json_file:\n",
    "        for user in data:\n",
    "            json.dump(user.data, json_file)\n",
    "            json_file.write('\\n')\n",
    "\n",
    "    print(\"Users successfully stored to: \", filename)"
   ],
   "metadata": {
    "collapsed": false,
    "pycharm": {
     "name": "#%%\n"
    }
   }
  },
  {
   "cell_type": "markdown",
   "source": [
    "Parameters:"
   ],
   "metadata": {
    "collapsed": false,
    "pycharm": {
     "name": "#%% md\n"
    }
   }
  },
  {
   "cell_type": "code",
   "execution_count": null,
   "outputs": [],
   "source": [
    "# Input\n",
    "input_filename = \"most_common_users_filtered_part2.json\"\n",
    "\n",
    "# Where to store the graph to\n",
    "# output_filename = 'connections.graphml'\n",
    "output_dir = \"../graph_data\"\n",
    "output_filename = 'followers'\n",
    "\n",
    "# maximum number of results\n",
    "max_results = 10\n",
    "\n",
    "max_results_per_request = 1000\n",
    "\n",
    "# All user fields\n",
    "all_user_fields = [\"id\",\"name\", \"username\", \"created_at\", \"description\", \"location\", \"entities\", \"pinned_tweet_id\", \"profile_image_url\", \"protected\", \"public_metrics\", \"url\", \"verified\", \"withheld\"]"
   ],
   "metadata": {
    "collapsed": false,
    "pycharm": {
     "name": "#%%\n"
    }
   }
  },
  {
   "cell_type": "code",
   "execution_count": null,
   "outputs": [],
   "source": [
    "# Load the users\n",
    "egos = load(input_filename)"
   ],
   "metadata": {
    "collapsed": false,
    "pycharm": {
     "name": "#%%\n"
    }
   }
  },
  {
   "cell_type": "code",
   "execution_count": null,
   "outputs": [],
   "source": [
    "for ego in egos:\n",
    "\n",
    "    # ego attributes\n",
    "    ego_id = ego.get(\"id\")\n",
    "    ego_username = ego.get(\"username\")\n",
    "\n",
    "    # Get followers of ego\n",
    "    followers = []\n",
    "\n",
    "    twitterResponse = client.get_users_following(id=ego_id, max_results=max_results_per_request, user_fields=all_user_fields)\n",
    "    if twitterResponse.data is not None:\n",
    "        for user in twitterResponse.data:\n",
    "            followers.append(user)\n",
    "\n",
    "    # while len(followers) < max_results:\n",
    "    #     try:\n",
    "    #         twitterResponse = client.get_users_followers(id=ego_id, max_results=max_results_per_request, user_fields=all_user_fields)\n",
    "    #     except Exception as e:\n",
    "    #         print(e)\n",
    "    #\n",
    "    #     if twitterResponse.data is not None:\n",
    "    #         for user in twitterResponse.data:\n",
    "    #             followers.append(user)\n",
    "\n",
    "    print(\"Followers downloaded: \" + str(len(followers)))\n",
    "\n",
    "    filename = output_dir + \"/\" + output_filename + \"_\" + ego_username + \".json\"\n",
    "    save(filename, followers)"
   ],
   "metadata": {
    "collapsed": false,
    "pycharm": {
     "name": "#%%\n"
    }
   }
  },
  {
   "cell_type": "code",
   "execution_count": null,
   "outputs": [],
   "source": [
    "\n"
   ],
   "metadata": {
    "collapsed": false,
    "pycharm": {
     "name": "#%%\n"
    }
   }
  }
 ],
 "metadata": {
  "kernelspec": {
   "display_name": "Python 3 (ipykernel)",
   "language": "python",
   "name": "python3"
  },
  "language_info": {
   "codemirror_mode": {
    "name": "ipython",
    "version": 3
   },
   "file_extension": ".py",
   "mimetype": "text/x-python",
   "name": "python",
   "nbconvert_exporter": "python",
   "pygments_lexer": "ipython3",
   "version": "3.9.12"
  }
 },
 "nbformat": 4,
 "nbformat_minor": 2
}