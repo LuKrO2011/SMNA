{
 "cells": [
  {
   "cell_type": "markdown",
   "metadata": {
    "pycharm": {
     "name": "#%% md\n"
    }
   },
   "source": [
    "# Ego net creator\n",
    "\n",
    "COSC2671 Social Media and Network Analytics\n",
    "\n",
    "Lukas Krodinger, 3931415"
   ]
  },
  {
   "cell_type": "code",
   "execution_count": 307,
   "metadata": {
    "pycharm": {
     "name": "#%%\n"
    }
   },
   "outputs": [],
   "source": [
    "import math\n",
    "import networkx as nx\n",
    "import json"
   ]
  },
  {
   "cell_type": "code",
   "execution_count": 308,
   "outputs": [],
   "source": [
    "# Assigns a logarithmic value depending on the follower count\n",
    "def calculate_importance(follower_count):\n",
    "    if follower_count <= 0:\n",
    "        follower_count = 1\n",
    "    return math.ceil(math.log10(follower_count))\n",
    "\n",
    "def load(filename):\n",
    "    datas = []\n",
    "    with open(filename, 'r') as f:\n",
    "        for line in f:\n",
    "            data = json.loads(line)\n",
    "            datas.append(data)\n",
    "    return datas"
   ],
   "metadata": {
    "collapsed": false,
    "pycharm": {
     "name": "#%%\n"
    }
   }
  },
  {
   "cell_type": "code",
   "execution_count": 309,
   "outputs": [],
   "source": [
    "class GraphCreator:\n",
    "    graph = None\n",
    "    seen_nodes = set()\n",
    "    seen_edges = set()\n",
    "\n",
    "    def __init__(self, graph):\n",
    "        self.graph = graph\n",
    "\n",
    "    def add_node(self, node, **attr):\n",
    "        user_id = int(user.get('id'))\n",
    "        if user_id not in self.seen_nodes:\n",
    "            self.graph.add_node(node, **attr)\n",
    "            self.seen_nodes.add(user_id)\n",
    "\n",
    "    def add_edge(self, edge_from, edge_to):\n",
    "        edge = (int(edge_from), int(edge_to))\n",
    "        if edge not in self.seen_edges:\n",
    "            self.graph.add_edge(edge_from, edge_to)\n",
    "            self.seen_edges.add(edge)\n",
    "\n",
    "    def add_user(self, user):\n",
    "        user_name = user.get('username')\n",
    "        user_id = int(user.get('id'))\n",
    "        followers_count = user.get('public_metrics').get('followers_count')\n",
    "        following_count = user.get('public_metrics').get('following_count')\n",
    "        tweet_count = user.get('public_metrics').get('tweet_count')\n",
    "        self.add_node(user_id, username=user_name, followers_count=followers_count, following_count=following_count, tweet_count=tweet_count, color_id=calculate_importance(followers_count))\n",
    "\n",
    "    def add_follower(self, ego, user):\n",
    "        ego_id = int(ego.get('id'))\n",
    "        user_id = int(user.get('id'))\n",
    "        self.add_user(user)\n",
    "        self.add_edge(ego_id, user_id)\n",
    "\n",
    "    def add_following(self, ego, user):\n",
    "        ego_id = int(ego.get('id'))\n",
    "        user_id = int(user.get('id'))\n",
    "        self.add_user(user)\n",
    "        self.add_edge(user_id, ego_id)"
   ],
   "metadata": {
    "collapsed": false,
    "pycharm": {
     "name": "#%%\n"
    }
   }
  },
  {
   "cell_type": "markdown",
   "source": [
    "Parameters:"
   ],
   "metadata": {
    "collapsed": false,
    "pycharm": {
     "name": "#%% md\n"
    }
   }
  },
  {
   "cell_type": "code",
   "execution_count": 310,
   "outputs": [],
   "source": [
    "# Username of the ego\n",
    "username_or_id = \"CricketAus\"\n",
    "\n",
    "# Where to store the data\n",
    "input_filename = \"most_common_users_filtered.json\"\n",
    "directory = \"../graph_data\"\n",
    "followers_prefix = \"followers\"\n",
    "following_prefix = 'following'\n",
    "\n",
    "graph_filename= 'ego.graphml'"
   ],
   "metadata": {
    "collapsed": false,
    "pycharm": {
     "name": "#%%\n"
    }
   }
  },
  {
   "cell_type": "code",
   "execution_count": 311,
   "outputs": [],
   "source": [
    "# Create graph\n",
    "graph = nx.DiGraph()\n",
    "graph_creator = GraphCreator(graph)\n",
    "\n",
    "seen_nodes = set()\n",
    "seen_edges = set()"
   ],
   "metadata": {
    "collapsed": false,
    "pycharm": {
     "name": "#%%\n"
    }
   }
  },
  {
   "cell_type": "code",
   "execution_count": 312,
   "outputs": [],
   "source": [
    "egos = load(input_filename)"
   ],
   "metadata": {
    "collapsed": false,
    "pycharm": {
     "name": "#%%\n"
    }
   }
  },
  {
   "cell_type": "code",
   "execution_count": 313,
   "outputs": [],
   "source": [
    "for ego in egos:\n",
    "    ego_username = ego.get(\"username\")\n",
    "\n",
    "    graph_creator.add_user(ego)\n",
    "\n",
    "    followers_path = directory + \"/\" + followers_prefix + \"_\" + ego_username + \".json\"\n",
    "    following_path = directory + \"/\" + following_prefix + \"_\" + ego_username + \".json\"\n",
    "\n",
    "    followers = load(followers_path)\n",
    "    following = load(following_path)\n",
    "\n",
    "    for user in followers:\n",
    "        graph_creator.add_follower(ego, user)\n",
    "\n",
    "    for user in following:\n",
    "        graph_creator.add_following(ego, user)"
   ],
   "metadata": {
    "collapsed": false,
    "pycharm": {
     "name": "#%%\n"
    }
   }
  },
  {
   "cell_type": "code",
   "execution_count": 314,
   "outputs": [],
   "source": [
    "# Remove all nodes with less than two edges\n",
    "remove = [node for node,degree in dict(graph.degree()).items() if degree < 2]\n",
    "graph.remove_nodes_from(remove)"
   ],
   "metadata": {
    "collapsed": false,
    "pycharm": {
     "name": "#%%\n"
    }
   }
  },
  {
   "cell_type": "code",
   "execution_count": 315,
   "outputs": [
    {
     "name": "stdout",
     "output_type": "stream",
     "text": [
      "Done!\n"
     ]
    }
   ],
   "source": [
    "# Store the graph\n",
    "with open(graph_filename, 'wb') as fOut:\n",
    "    nx.write_graphml(graph, fOut)\n",
    "\n",
    "print(\"Done!\")"
   ],
   "metadata": {
    "collapsed": false,
    "pycharm": {
     "name": "#%%\n"
    }
   }
  }
 ],
 "metadata": {
  "kernelspec": {
   "display_name": "Python 3 (ipykernel)",
   "language": "python",
   "name": "python3"
  },
  "language_info": {
   "codemirror_mode": {
    "name": "ipython",
    "version": 3
   },
   "file_extension": ".py",
   "mimetype": "text/x-python",
   "name": "python",
   "nbconvert_exporter": "python",
   "pygments_lexer": "ipython3",
   "version": "3.9.12"
  }
 },
 "nbformat": 4,
 "nbformat_minor": 2
}