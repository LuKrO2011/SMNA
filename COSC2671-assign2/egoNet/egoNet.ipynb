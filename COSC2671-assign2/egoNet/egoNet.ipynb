{
 "cells": [
  {
   "cell_type": "markdown",
   "metadata": {
    "pycharm": {
     "name": "#%% md\n"
    }
   },
   "source": [
    "# Ego net downloader\n",
    "\n",
    "COSC2671 Social Media and Network Analytics\n",
    "\n",
    "Lukas Krodinger, 3931415"
   ]
  },
  {
   "cell_type": "code",
   "execution_count": 24,
   "metadata": {
    "pycharm": {
     "name": "#%%\n"
    }
   },
   "outputs": [],
   "source": [
    "from twitterClient import twitterClient\n",
    "import math\n",
    "import networkx as nx\n",
    "import json"
   ]
  },
  {
   "cell_type": "code",
   "execution_count": 25,
   "outputs": [],
   "source": [
    "client = twitterClient() # Only used for getting user id"
   ],
   "metadata": {
    "collapsed": false,
    "pycharm": {
     "name": "#%%\n"
    }
   }
  },
  {
   "cell_type": "code",
   "execution_count": 26,
   "outputs": [],
   "source": [
    "# Assigns a logarithmic value depending on the follower count\n",
    "def calculate_importance(follower_count):\n",
    "    if follower_count <= 0:\n",
    "        follower_count = 1\n",
    "    return math.ceil(math.log10(follower_count))\n",
    "\n",
    "def load(filename):\n",
    "    datas = []\n",
    "    with open(filename, 'r') as f:\n",
    "        for line in f:\n",
    "            data = json.loads(line)\n",
    "            datas.append(data)\n",
    "    return datas"
   ],
   "metadata": {
    "collapsed": false,
    "pycharm": {
     "name": "#%%\n"
    }
   }
  },
  {
   "cell_type": "markdown",
   "source": [
    "Parameters:"
   ],
   "metadata": {
    "collapsed": false,
    "pycharm": {
     "name": "#%% md\n"
    }
   }
  },
  {
   "cell_type": "code",
   "execution_count": 27,
   "outputs": [],
   "source": [
    "# Username of the ego\n",
    "username_or_id = \"CricketAus\"\n",
    "\n",
    "# Where to store the data\n",
    "followers_filename = 'filtered_followers.json'\n",
    "following_filename = 'filtered_following.json'\n",
    "graph_filename= 'ego.graphml'\n",
    "\n",
    "# ego attributes\n",
    "user =  client.get_user(username_or_id)\n",
    "ego_id = user.data.id\n",
    "ego_username = user.data.username_or_id\n",
    "ego_name = user.data.name"
   ],
   "metadata": {
    "collapsed": false,
    "pycharm": {
     "name": "#%%\n"
    }
   }
  },
  {
   "cell_type": "code",
   "execution_count": 28,
   "outputs": [],
   "source": [
    "# Create graph\n",
    "ego_graph = nx.DiGraph()\n",
    "ego_graph.add_node(ego_username)"
   ],
   "metadata": {
    "collapsed": false,
    "pycharm": {
     "name": "#%%\n"
    }
   }
  },
  {
   "cell_type": "code",
   "execution_count": 29,
   "outputs": [],
   "source": [
    "followers = load(followers_filename)"
   ],
   "metadata": {
    "collapsed": false,
    "pycharm": {
     "name": "#%%\n"
    }
   }
  },
  {
   "cell_type": "code",
   "execution_count": 30,
   "outputs": [],
   "source": [
    "# Construct followers graph\n",
    "for user in followers:\n",
    "    follower_name = user.get('name')\n",
    "    followers_count = user.get('public_metrics').get('followers_count')\n",
    "    following_count = user.get('public_metrics').get('following_count')\n",
    "    tweet_count = user.get('public_metrics').get('tweet_count')\n",
    "    ego_graph.add_node(follower_name, followers_count=followers_count, following_count=following_count, tweet_count=tweet_count, color_id=calculate_importance(followers_count))\n",
    "    ego_graph.add_edge(ego_username, follower_name)"
   ],
   "metadata": {
    "collapsed": false,
    "pycharm": {
     "name": "#%%\n"
    }
   }
  },
  {
   "cell_type": "code",
   "execution_count": 31,
   "outputs": [],
   "source": [
    "# Get users that the ego follows\n",
    "following = load(following_filename)"
   ],
   "metadata": {
    "collapsed": false,
    "pycharm": {
     "name": "#%%\n"
    }
   }
  },
  {
   "cell_type": "code",
   "execution_count": 32,
   "outputs": [],
   "source": [
    "# Construct following graph\n",
    "for user in following:\n",
    "    following_name = user.get('name')\n",
    "    followers_count = user.get('public_metrics').get('followers_count')\n",
    "    following_count = user.get('public_metrics').get('following_count')\n",
    "    tweet_count = user.get('public_metrics').get('tweet_count')\n",
    "    ego_graph.add_node(following_name, followers_count=followers_count, following_count=following_count, tweet_count=tweet_count, color_id=calculate_importance(followers_count))\n",
    "    ego_graph.add_edge(following_name, ego_username)"
   ],
   "metadata": {
    "collapsed": false,
    "pycharm": {
     "name": "#%%\n"
    }
   }
  },
  {
   "cell_type": "code",
   "execution_count": 33,
   "outputs": [],
   "source": [
    "# Store the graph\n",
    "with open(graph_filename, 'wb') as fOut:\n",
    "    nx.write_graphml(ego_graph, fOut)"
   ],
   "metadata": {
    "collapsed": false,
    "pycharm": {
     "name": "#%%\n"
    }
   }
  }
 ],
 "metadata": {
  "kernelspec": {
   "display_name": "Python 3 (ipykernel)",
   "language": "python",
   "name": "python3"
  },
  "language_info": {
   "codemirror_mode": {
    "name": "ipython",
    "version": 3
   },
   "file_extension": ".py",
   "mimetype": "text/x-python",
   "name": "python",
   "nbconvert_exporter": "python",
   "pygments_lexer": "ipython3",
   "version": "3.9.12"
  }
 },
 "nbformat": 4,
 "nbformat_minor": 2
}