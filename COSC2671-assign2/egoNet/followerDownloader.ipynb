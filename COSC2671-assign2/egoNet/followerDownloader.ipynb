{
 "cells": [
  {
   "cell_type": "markdown",
   "metadata": {
    "pycharm": {
     "name": "#%% md\n"
    }
   },
   "source": [
    "# Ego net downloader\n",
    "\n",
    "COSC2671 Social Media and Network Analytics\n",
    "\n",
    "Lukas Krodinger, 3931415"
   ]
  },
  {
   "cell_type": "code",
   "execution_count": 7,
   "metadata": {
    "pycharm": {
     "name": "#%%\n"
    }
   },
   "outputs": [],
   "source": [
    "from workshop03Code import twitterClient\n",
    "import json"
   ]
  },
  {
   "cell_type": "code",
   "execution_count": 8,
   "metadata": {
    "pycharm": {
     "name": "#%%\n"
    }
   },
   "outputs": [],
   "source": [
    "client = twitterClient.twitterClient()"
   ]
  },
  {
   "cell_type": "code",
   "execution_count": 9,
   "outputs": [],
   "source": [
    "def load(filename):\n",
    "    datas = []\n",
    "    with open(filename, 'r') as f:\n",
    "        for line in f:\n",
    "            data = json.loads(line)\n",
    "            datas.append(data)\n",
    "    return datas\n",
    "\n",
    "\n",
    "def save(filename, data):\n",
    "    with open(filename, 'w') as json_file:\n",
    "        for user in data:\n",
    "            json.dump(user.data, json_file)\n",
    "            json_file.write('\\n')\n",
    "\n",
    "    print(\"Users successfully stored to: \", filename)"
   ],
   "metadata": {
    "collapsed": false,
    "pycharm": {
     "name": "#%%\n"
    }
   }
  },
  {
   "cell_type": "markdown",
   "source": [
    "Parameters:"
   ],
   "metadata": {
    "collapsed": false,
    "pycharm": {
     "name": "#%% md\n"
    }
   }
  },
  {
   "cell_type": "code",
   "execution_count": 10,
   "outputs": [],
   "source": [
    "# Input\n",
    "input_filename = \"most_common_users_filtered_part2.json\"\n",
    "\n",
    "# Where to store the graph to\n",
    "# output_filename = 'connections.graphml'\n",
    "output_dir = \"../graph_data\"\n",
    "output_filename = 'followers'\n",
    "\n",
    "# maximum number of results\n",
    "max_results = 10\n",
    "\n",
    "max_results_per_request = 1000\n",
    "\n",
    "# All user fields\n",
    "all_user_fields = [\"id\",\"name\", \"username\", \"created_at\", \"description\", \"location\", \"entities\", \"pinned_tweet_id\", \"profile_image_url\", \"protected\", \"public_metrics\", \"url\", \"verified\", \"withheld\"]"
   ],
   "metadata": {
    "collapsed": false,
    "pycharm": {
     "name": "#%%\n"
    }
   }
  },
  {
   "cell_type": "code",
   "execution_count": 11,
   "outputs": [],
   "source": [
    "# Load the users\n",
    "egos = load(input_filename)"
   ],
   "metadata": {
    "collapsed": false,
    "pycharm": {
     "name": "#%%\n"
    }
   }
  },
  {
   "cell_type": "code",
   "execution_count": 12,
   "outputs": [
    {
     "name": "stdout",
     "output_type": "stream",
     "text": [
      "Followers downloaded: 1000\n",
      "Number of user downloaded: 0/90\n",
      "Users successfully stored to:  ../graph_data/followers_rakutenopen.json\n",
      "Followers downloaded: 1000\n",
      "Number of user downloaded: 1/90\n",
      "Users successfully stored to:  ../graph_data/followers_AndyVermaut.json\n",
      "Followers downloaded: 1000\n",
      "Number of user downloaded: 2/90\n",
      "Users successfully stored to:  ../graph_data/followers_SportsbookBTC.json\n",
      "Followers downloaded: 1000\n",
      "Number of user downloaded: 3/90\n",
      "Users successfully stored to:  ../graph_data/followers_AndreaR9Md.json\n",
      "Followers downloaded: 0\n",
      "Number of user downloaded: 4/90\n",
      "Users successfully stored to:  ../graph_data/followers_je_f_f_.json\n",
      "Followers downloaded: 1000\n",
      "Number of user downloaded: 5/90\n",
      "Users successfully stored to:  ../graph_data/followers_ITA_Tennis.json\n",
      "Followers downloaded: 1000\n",
      "Number of user downloaded: 6/90\n",
      "Users successfully stored to:  ../graph_data/followers_TennisActu.json\n",
      "Followers downloaded: 1000\n",
      "Number of user downloaded: 7/90\n",
      "Users successfully stored to:  ../graph_data/followers_LewisMenya.json\n",
      "Followers downloaded: 1000\n",
      "Number of user downloaded: 8/90\n",
      "Users successfully stored to:  ../graph_data/followers_Sport24Team.json\n",
      "Followers downloaded: 1000\n",
      "Number of user downloaded: 9/90\n",
      "Users successfully stored to:  ../graph_data/followers_deenayaah.json\n",
      "Followers downloaded: 999\n",
      "Number of user downloaded: 10/90\n",
      "Users successfully stored to:  ../graph_data/followers_TheTennisTalker.json\n",
      "Followers downloaded: 1000\n",
      "Number of user downloaded: 11/90\n",
      "Users successfully stored to:  ../graph_data/followers_OA_Sport.json\n",
      "Followers downloaded: 1000\n",
      "Number of user downloaded: 12/90\n",
      "Users successfully stored to:  ../graph_data/followers_tsg_sportsgrail.json\n",
      "Followers downloaded: 1000\n",
      "Number of user downloaded: 13/90\n",
      "Users successfully stored to:  ../graph_data/followers_NDHSAA.json\n"
     ]
    },
    {
     "name": "stderr",
     "output_type": "stream",
     "text": [
      "Rate limit exceeded. Sleeping for 857 seconds.\n"
     ]
    },
    {
     "name": "stdout",
     "output_type": "stream",
     "text": [
      "Followers downloaded: 999\n",
      "Number of user downloaded: 14/90\n",
      "Users successfully stored to:  ../graph_data/followers_nasser_mo3gza.json\n",
      "Followers downloaded: 1000\n",
      "Number of user downloaded: 15/90\n",
      "Users successfully stored to:  ../graph_data/followers_PAC_Athletics.json\n",
      "Followers downloaded: 1000\n",
      "Number of user downloaded: 16/90\n",
      "Users successfully stored to:  ../graph_data/followers_tennisontelly.json\n",
      "Followers downloaded: 999\n",
      "Number of user downloaded: 17/90\n",
      "Users successfully stored to:  ../graph_data/followers_pavyg.json\n",
      "Followers downloaded: 1000\n",
      "Number of user downloaded: 18/90\n",
      "Users successfully stored to:  ../graph_data/followers_tennishead.json\n",
      "Followers downloaded: 1000\n",
      "Number of user downloaded: 19/90\n",
      "Users successfully stored to:  ../graph_data/followers_KUcoolkid_.json\n",
      "Followers downloaded: 1000\n",
      "Number of user downloaded: 20/90\n",
      "Users successfully stored to:  ../graph_data/followers_TennisWorlden.json\n",
      "Followers downloaded: 1000\n",
      "Number of user downloaded: 21/90\n",
      "Users successfully stored to:  ../graph_data/followers_CristinaNcl.json\n",
      "Followers downloaded: 1000\n",
      "Number of user downloaded: 22/90\n",
      "Users successfully stored to:  ../graph_data/followers_buy1_best.json\n",
      "Followers downloaded: 1000\n",
      "Number of user downloaded: 23/90\n",
      "Users successfully stored to:  ../graph_data/followers_robinsportsnews.json\n",
      "Followers downloaded: 1000\n",
      "Number of user downloaded: 24/90\n",
      "Users successfully stored to:  ../graph_data/followers_federtennis.json\n",
      "Followers downloaded: 1000\n",
      "Number of user downloaded: 25/90\n",
      "Users successfully stored to:  ../graph_data/followers__sai__tama.json\n",
      "Followers downloaded: 999\n",
      "Number of user downloaded: 26/90\n",
      "Users successfully stored to:  ../graph_data/followers_DonELichterman.json\n",
      "Followers downloaded: 1000\n",
      "Number of user downloaded: 27/90\n",
      "Users successfully stored to:  ../graph_data/followers_ChocolateJP2.json\n",
      "Followers downloaded: 1000\n",
      "Number of user downloaded: 28/90\n",
      "Users successfully stored to:  ../graph_data/followers_CorriereRomagna.json\n"
     ]
    },
    {
     "name": "stderr",
     "output_type": "stream",
     "text": [
      "Rate limit exceeded. Sleeping for 869 seconds.\n"
     ]
    },
    {
     "name": "stdout",
     "output_type": "stream",
     "text": [
      "Followers downloaded: 1000\n",
      "Number of user downloaded: 29/90\n",
      "Users successfully stored to:  ../graph_data/followers_live_tennis.json\n",
      "Followers downloaded: 1000\n",
      "Number of user downloaded: 30/90\n",
      "Users successfully stored to:  ../graph_data/followers_InsideSportIND.json\n",
      "Followers downloaded: 999\n",
      "Number of user downloaded: 31/90\n",
      "Users successfully stored to:  ../graph_data/followers_FTWPicks.json\n",
      "Followers downloaded: 1000\n",
      "Number of user downloaded: 32/90\n",
      "Users successfully stored to:  ../graph_data/followers_CrackedRacquets.json\n",
      "Followers downloaded: 995\n",
      "Number of user downloaded: 33/90\n",
      "Users successfully stored to:  ../graph_data/followers_Empire8.json\n",
      "Followers downloaded: 1000\n",
      "Number of user downloaded: 34/90\n",
      "Users successfully stored to:  ../graph_data/followers_lorenzofares.json\n",
      "Followers downloaded: 1000\n",
      "Number of user downloaded: 35/90\n",
      "Users successfully stored to:  ../graph_data/followers_jakedavi5.json\n",
      "Followers downloaded: 1000\n",
      "Number of user downloaded: 36/90\n",
      "Users successfully stored to:  ../graph_data/followers_TexasMTN.json\n",
      "Followers downloaded: 1000\n",
      "Number of user downloaded: 37/90\n",
      "Users successfully stored to:  ../graph_data/followers_BigNorthConBNC.json\n",
      "Followers downloaded: 1000\n",
      "Number of user downloaded: 38/90\n",
      "Users successfully stored to:  ../graph_data/followers_TennisInfinity1.json\n",
      "Followers downloaded: 1000\n",
      "Number of user downloaded: 39/90\n",
      "Users successfully stored to:  ../graph_data/followers_tenimaga.json\n",
      "Followers downloaded: 1000\n",
      "Number of user downloaded: 40/90\n",
      "Users successfully stored to:  ../graph_data/followers_KwikFitCS.json\n",
      "Followers downloaded: 998\n",
      "Number of user downloaded: 41/90\n",
      "Users successfully stored to:  ../graph_data/followers_Tenisalmaximo.json\n",
      "Followers downloaded: 1000\n",
      "Number of user downloaded: 42/90\n",
      "Users successfully stored to:  ../graph_data/followers_RedDragonSports.json\n",
      "Followers downloaded: 1000\n",
      "Number of user downloaded: 43/90\n"
     ]
    },
    {
     "name": "stderr",
     "output_type": "stream",
     "text": [
      "Rate limit exceeded. Sleeping for 879 seconds.\n"
     ]
    },
    {
     "name": "stdout",
     "output_type": "stream",
     "text": [
      "Users successfully stored to:  ../graph_data/followers_TennisExplorer.json\n",
      "Followers downloaded: 1000\n",
      "Number of user downloaded: 44/90\n",
      "Users successfully stored to:  ../graph_data/followers_TennisWinnersO1.json\n",
      "Followers downloaded: 1000\n",
      "Number of user downloaded: 45/90\n",
      "Users successfully stored to:  ../graph_data/followers__TennisCoaching.json\n",
      "Followers downloaded: 1000\n",
      "Number of user downloaded: 46/90\n",
      "Users successfully stored to:  ../graph_data/followers_Aszneth.json\n",
      "Followers downloaded: 1000\n",
      "Number of user downloaded: 47/90\n",
      "Users successfully stored to:  ../graph_data/followers_BestTLD.json\n",
      "Followers downloaded: 1000\n",
      "Number of user downloaded: 48/90\n",
      "Users successfully stored to:  ../graph_data/followers_tsuyoshi39161.json\n",
      "Followers downloaded: 1000\n",
      "Number of user downloaded: 49/90\n",
      "Users successfully stored to:  ../graph_data/followers_WithUMei.json\n",
      "Followers downloaded: 1000\n",
      "Number of user downloaded: 50/90\n",
      "Users successfully stored to:  ../graph_data/followers_jessica4stein.json\n",
      "Followers downloaded: 1000\n",
      "Number of user downloaded: 51/90\n",
      "Users successfully stored to:  ../graph_data/followers_ClubLeftTennis.json\n",
      "Followers downloaded: 1000\n",
      "Number of user downloaded: 52/90\n",
      "Users successfully stored to:  ../graph_data/followers_GameToLove_.json\n",
      "Followers downloaded: 1000\n",
      "Number of user downloaded: 53/90\n",
      "Users successfully stored to:  ../graph_data/followers_tennisispain.json\n",
      "Followers downloaded: 1000\n",
      "Number of user downloaded: 54/90\n",
      "Users successfully stored to:  ../graph_data/followers_WYN_Tennis.json\n",
      "Followers downloaded: 1000\n",
      "Number of user downloaded: 55/90\n",
      "Users successfully stored to:  ../graph_data/followers_9Breakingnew.json\n",
      "Followers downloaded: 1000\n",
      "Number of user downloaded: 56/90\n",
      "Users successfully stored to:  ../graph_data/followers_TennisElbowFix.json\n",
      "Followers downloaded: 999\n",
      "Number of user downloaded: 57/90\n",
      "Users successfully stored to:  ../graph_data/followers_piaad2.json\n",
      "Followers downloaded: 1000\n",
      "Number of user downloaded: 58/90\n",
      "Users successfully stored to:  ../graph_data/followers_CunningSports.json\n"
     ]
    },
    {
     "name": "stderr",
     "output_type": "stream",
     "text": [
      "Rate limit exceeded. Sleeping for 878 seconds.\n"
     ]
    },
    {
     "name": "stdout",
     "output_type": "stream",
     "text": [
      "Followers downloaded: 1000\n",
      "Number of user downloaded: 59/90\n",
      "Users successfully stored to:  ../graph_data/followers_servebot3000.json\n",
      "Followers downloaded: 1000\n",
      "Number of user downloaded: 60/90\n",
      "Users successfully stored to:  ../graph_data/followers_TrackerTennis.json\n",
      "Followers downloaded: 1000\n",
      "Number of user downloaded: 61/90\n",
      "Users successfully stored to:  ../graph_data/followers_JosePuliampatta.json\n",
      "Followers downloaded: 1000\n",
      "Number of user downloaded: 62/90\n",
      "Users successfully stored to:  ../graph_data/followers_FremontCyril.json\n",
      "Followers downloaded: 1000\n",
      "Number of user downloaded: 63/90\n",
      "Users successfully stored to:  ../graph_data/followers_Maxou_LaMenace.json\n",
      "Followers downloaded: 999\n",
      "Number of user downloaded: 64/90\n",
      "Users successfully stored to:  ../graph_data/followers_123_INFO_SPORT.json\n",
      "Followers downloaded: 998\n",
      "Number of user downloaded: 65/90\n",
      "Users successfully stored to:  ../graph_data/followers_bjadams156.json\n",
      "Followers downloaded: 1000\n",
      "Number of user downloaded: 66/90\n",
      "Users successfully stored to:  ../graph_data/followers_ChrisNalwasky.json\n",
      "Followers downloaded: 1000\n",
      "Number of user downloaded: 67/90\n",
      "Users successfully stored to:  ../graph_data/followers_UkrainianTennis.json\n",
      "Followers downloaded: 1000\n",
      "Number of user downloaded: 68/90\n",
      "Users successfully stored to:  ../graph_data/followers_peco_tennis0106.json\n",
      "Followers downloaded: 1000\n",
      "Number of user downloaded: 69/90\n",
      "Users successfully stored to:  ../graph_data/followers_kazuhisagunji.json\n",
      "Followers downloaded: 1000\n",
      "Number of user downloaded: 70/90\n",
      "Users successfully stored to:  ../graph_data/followers_OfertasVips.json\n",
      "Followers downloaded: 1000\n",
      "Number of user downloaded: 71/90\n",
      "Users successfully stored to:  ../graph_data/followers_fortylovefr.json\n",
      "Followers downloaded: 1000\n",
      "Number of user downloaded: 72/90\n",
      "Users successfully stored to:  ../graph_data/followers_lebensgeister13.json\n",
      "Followers downloaded: 1000\n",
      "Number of user downloaded: 73/90\n",
      "Users successfully stored to:  ../graph_data/followers_GBCLightning.json\n"
     ]
    },
    {
     "name": "stderr",
     "output_type": "stream",
     "text": [
      "Rate limit exceeded. Sleeping for 862 seconds.\n"
     ]
    },
    {
     "name": "stdout",
     "output_type": "stream",
     "text": [
      "Followers downloaded: 1000\n",
      "Number of user downloaded: 74/90\n",
      "Users successfully stored to:  ../graph_data/followers_ICDb_tv.json\n",
      "Followers downloaded: 1000\n",
      "Number of user downloaded: 75/90\n",
      "Users successfully stored to:  ../graph_data/followers_AllSportDB.json\n",
      "Followers downloaded: 1000\n",
      "Number of user downloaded: 76/90\n",
      "Users successfully stored to:  ../graph_data/followers_eazeee2004.json\n",
      "Followers downloaded: 1000\n",
      "Number of user downloaded: 77/90\n",
      "Users successfully stored to:  ../graph_data/followers_SK__Tennis.json\n",
      "Followers downloaded: 1000\n",
      "Number of user downloaded: 78/90\n",
      "Users successfully stored to:  ../graph_data/followers_Im_teamhead.json\n",
      "Followers downloaded: 1000\n",
      "Number of user downloaded: 79/90\n",
      "Users successfully stored to:  ../graph_data/followers_dilfniil.json\n",
      "Followers downloaded: 1000\n",
      "Number of user downloaded: 80/90\n",
      "Users successfully stored to:  ../graph_data/followers_ShopAmerGolf.json\n",
      "Followers downloaded: 1000\n",
      "Number of user downloaded: 81/90\n",
      "Users successfully stored to:  ../graph_data/followers_tennisplazanews.json\n",
      "Followers downloaded: 1000\n",
      "Number of user downloaded: 82/90\n",
      "Users successfully stored to:  ../graph_data/followers_scoopmalinowski.json\n",
      "Followers downloaded: 1000\n",
      "Number of user downloaded: 83/90\n",
      "Users successfully stored to:  ../graph_data/followers_rubledever.json\n",
      "Followers downloaded: 1000\n",
      "Number of user downloaded: 84/90\n",
      "Users successfully stored to:  ../graph_data/followers_D_Modlinski.json\n",
      "Followers downloaded: 1000\n",
      "Number of user downloaded: 85/90\n",
      "Users successfully stored to:  ../graph_data/followers_TerryTheTipste1.json\n",
      "Followers downloaded: 1000\n",
      "Number of user downloaded: 86/90\n",
      "Users successfully stored to:  ../graph_data/followers_tomopy0924.json\n",
      "Followers downloaded: 1000\n",
      "Number of user downloaded: 87/90\n",
      "Users successfully stored to:  ../graph_data/followers_UTexJim.json\n",
      "Followers downloaded: 1000\n",
      "Number of user downloaded: 88/90\n",
      "Users successfully stored to:  ../graph_data/followers_BwehRublev.json\n"
     ]
    },
    {
     "name": "stderr",
     "output_type": "stream",
     "text": [
      "Rate limit exceeded. Sleeping for 864 seconds.\n"
     ]
    },
    {
     "name": "stdout",
     "output_type": "stream",
     "text": [
      "Followers downloaded: 999\n",
      "Number of user downloaded: 89/90\n",
      "Users successfully stored to:  ../graph_data/followers_texashstennis.json\n"
     ]
    }
   ],
   "source": [
    "for index, ego in enumerate(egos):\n",
    "\n",
    "    # ego attributes\n",
    "    ego_id = ego.get(\"id\")\n",
    "    ego_username = ego.get(\"username\")\n",
    "\n",
    "    # Get followers of ego\n",
    "    followers = []\n",
    "\n",
    "    twitterResponse = client.get_users_followers(id=ego_id, max_results=max_results_per_request, user_fields=all_user_fields)\n",
    "    if twitterResponse.data is not None:\n",
    "        for user in twitterResponse.data:\n",
    "            followers.append(user)\n",
    "\n",
    "    # while len(followers) < max_results:\n",
    "    #     try:\n",
    "    #         twitterResponse = client.get_users_followers(id=ego_id, max_results=max_results_per_request, user_fields=all_user_fields)\n",
    "    #     except Exception as e:\n",
    "    #         print(e)\n",
    "    #\n",
    "    #     if twitterResponse.data is not None:\n",
    "    #         for user in twitterResponse.data:\n",
    "    #             followers.append(user)\n",
    "\n",
    "    print(\"Followers downloaded: \" + str(len(followers)))\n",
    "    print(\"Number of user downloaded: \" + str(index) + \"/\" + str(len(egos)))\n",
    "\n",
    "    filename = output_dir + \"/\" + output_filename + \"_\" + ego_username + \".json\"\n",
    "    save(filename, followers)"
   ],
   "metadata": {
    "collapsed": false,
    "pycharm": {
     "name": "#%%\n"
    }
   }
  },
  {
   "cell_type": "code",
   "execution_count": 12,
   "outputs": [],
   "source": [
    "\n"
   ],
   "metadata": {
    "collapsed": false,
    "pycharm": {
     "name": "#%%\n"
    }
   }
  }
 ],
 "metadata": {
  "kernelspec": {
   "display_name": "Python 3 (ipykernel)",
   "language": "python",
   "name": "python3"
  },
  "language_info": {
   "codemirror_mode": {
    "name": "ipython",
    "version": 3
   },
   "file_extension": ".py",
   "mimetype": "text/x-python",
   "name": "python",
   "nbconvert_exporter": "python",
   "pygments_lexer": "ipython3",
   "version": "3.9.12"
  }
 },
 "nbformat": 4,
 "nbformat_minor": 2
}