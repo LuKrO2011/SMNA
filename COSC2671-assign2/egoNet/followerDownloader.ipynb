{
 "cells": [
  {
   "cell_type": "markdown",
   "metadata": {
    "pycharm": {
     "name": "#%% md\n"
    }
   },
   "source": [
    "# Ego net downloader\n",
    "\n",
    "COSC2671 Social Media and Network Analytics\n",
    "\n",
    "Lukas Krodinger, 3931415"
   ]
  },
  {
   "cell_type": "code",
   "execution_count": 12,
   "metadata": {
    "pycharm": {
     "name": "#%%\n"
    }
   },
   "outputs": [],
   "source": [
    "from workshop03Code import twitterClient\n",
    "import json"
   ]
  },
  {
   "cell_type": "code",
   "execution_count": 13,
   "metadata": {
    "pycharm": {
     "name": "#%%\n"
    }
   },
   "outputs": [],
   "source": [
    "client = twitterClient.twitterClient()"
   ]
  },
  {
   "cell_type": "code",
   "execution_count": 14,
   "outputs": [],
   "source": [
    "def load(filename):\n",
    "    datas = []\n",
    "    with open(filename, 'r') as f:\n",
    "        for line in f:\n",
    "            data = json.loads(line)\n",
    "            datas.append(data)\n",
    "    return datas\n",
    "\n",
    "\n",
    "def save(filename, data):\n",
    "    with open(filename, 'w') as json_file:\n",
    "        for user in data:\n",
    "            json.dump(user.data, json_file)\n",
    "            json_file.write('\\n')\n",
    "\n",
    "    print(\"Users successfully stored to: \", filename)"
   ],
   "metadata": {
    "collapsed": false,
    "pycharm": {
     "name": "#%%\n"
    }
   }
  },
  {
   "cell_type": "markdown",
   "source": [
    "Parameters:"
   ],
   "metadata": {
    "collapsed": false,
    "pycharm": {
     "name": "#%% md\n"
    }
   }
  },
  {
   "cell_type": "code",
   "execution_count": 15,
   "outputs": [],
   "source": [
    "# Input\n",
    "input_filename = \"most_common_users_filtered_part2.json\"\n",
    "\n",
    "# Where to store the graph to\n",
    "# output_filename = 'connections.graphml'\n",
    "output_dir = \"../graph_data\"\n",
    "output_filename = 'following'\n",
    "\n",
    "# maximum number of results\n",
    "max_results = 10\n",
    "\n",
    "max_results_per_request = 1000\n",
    "\n",
    "# All user fields\n",
    "all_user_fields = [\"id\",\"name\", \"username\", \"created_at\", \"description\", \"location\", \"entities\", \"pinned_tweet_id\", \"profile_image_url\", \"protected\", \"public_metrics\", \"url\", \"verified\", \"withheld\"]"
   ],
   "metadata": {
    "collapsed": false,
    "pycharm": {
     "name": "#%%\n"
    }
   }
  },
  {
   "cell_type": "code",
   "execution_count": 16,
   "outputs": [],
   "source": [
    "# Load the users\n",
    "egos = load(input_filename)"
   ],
   "metadata": {
    "collapsed": false,
    "pycharm": {
     "name": "#%%\n"
    }
   }
  },
  {
   "cell_type": "code",
   "execution_count": null,
   "outputs": [
    {
     "name": "stdout",
     "output_type": "stream",
     "text": [
      "Followers downloaded: 1000\n",
      "Users successfully stored to:  ../graph_data/following_rakutenopen.json\n",
      "Followers downloaded: 1000\n",
      "Users successfully stored to:  ../graph_data/following_AndyVermaut.json\n",
      "Followers downloaded: 1000\n",
      "Users successfully stored to:  ../graph_data/following_SportsbookBTC.json\n",
      "Followers downloaded: 1000\n",
      "Users successfully stored to:  ../graph_data/following_AndreaR9Md.json\n",
      "Followers downloaded: 0\n",
      "Users successfully stored to:  ../graph_data/following_je_f_f_.json\n",
      "Followers downloaded: 1000\n",
      "Users successfully stored to:  ../graph_data/following_ITA_Tennis.json\n",
      "Followers downloaded: 1000\n",
      "Users successfully stored to:  ../graph_data/following_TennisActu.json\n",
      "Followers downloaded: 1000\n",
      "Users successfully stored to:  ../graph_data/following_LewisMenya.json\n",
      "Followers downloaded: 1000\n",
      "Users successfully stored to:  ../graph_data/following_Sport24Team.json\n",
      "Followers downloaded: 1000\n",
      "Users successfully stored to:  ../graph_data/following_deenayaah.json\n",
      "Followers downloaded: 999\n",
      "Users successfully stored to:  ../graph_data/following_TheTennisTalker.json\n",
      "Followers downloaded: 1000\n",
      "Users successfully stored to:  ../graph_data/following_OA_Sport.json\n",
      "Followers downloaded: 1000\n",
      "Users successfully stored to:  ../graph_data/following_tsg_sportsgrail.json\n",
      "Followers downloaded: 1000\n",
      "Users successfully stored to:  ../graph_data/following_NDHSAA.json\n"
     ]
    },
    {
     "name": "stderr",
     "output_type": "stream",
     "text": [
      "Rate limit exceeded. Sleeping for 813 seconds.\n"
     ]
    }
   ],
   "source": [
    "for ego in egos:\n",
    "\n",
    "    # ego attributes\n",
    "    ego_id = ego.get(\"id\")\n",
    "    ego_username = ego.get(\"username\")\n",
    "\n",
    "    # Get followers of ego\n",
    "    following = []\n",
    "\n",
    "    twitterResponse = client.get_users_following(id=ego_id, max_results=max_results_per_request, user_fields=all_user_fields)\n",
    "    if twitterResponse.data is not None:\n",
    "        for user in twitterResponse.data:\n",
    "            following.append(user)\n",
    "\n",
    "    # while len(followers) < max_results:\n",
    "    #     try:\n",
    "    #         twitterResponse = client.get_users_following(id=ego_id, max_results=max_results_per_request, user_fields=all_user_fields)\n",
    "    #     except Exception as e:\n",
    "    #         print(e)\n",
    "    #\n",
    "    #     if twitterResponse.data is not None:\n",
    "    #         for user in twitterResponse.data:\n",
    "    #             following.append(user)\n",
    "\n",
    "    print(\"Followers downloaded: \" + str(len(following)))\n",
    "\n",
    "    filename = output_dir + \"/\" + output_filename + \"_\" + ego_username + \".json\"\n",
    "    save(filename, following)"
   ],
   "metadata": {
    "collapsed": false,
    "pycharm": {
     "name": "#%%\n",
     "is_executing": true
    }
   }
  },
  {
   "cell_type": "code",
   "execution_count": null,
   "outputs": [],
   "source": [
    "\n"
   ],
   "metadata": {
    "collapsed": false,
    "pycharm": {
     "name": "#%%\n",
     "is_executing": true
    }
   }
  }
 ],
 "metadata": {
  "kernelspec": {
   "display_name": "Python 3 (ipykernel)",
   "language": "python",
   "name": "python3"
  },
  "language_info": {
   "codemirror_mode": {
    "name": "ipython",
    "version": 3
   },
   "file_extension": ".py",
   "mimetype": "text/x-python",
   "name": "python",
   "nbconvert_exporter": "python",
   "pygments_lexer": "ipython3",
   "version": "3.9.12"
  }
 },
 "nbformat": 4,
 "nbformat_minor": 2
}