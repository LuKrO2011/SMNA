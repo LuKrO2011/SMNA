{
 "cells": [
  {
   "cell_type": "markdown",
   "metadata": {
    "pycharm": {
     "name": "#%% md\n"
    }
   },
   "source": [
    "# Community analysis\n",
    "\n",
    "Lukas Krodinger"
   ]
  },
  {
   "cell_type": "code",
   "execution_count": 5,
   "metadata": {
    "pycharm": {
     "name": "#%%\n"
    }
   },
   "outputs": [],
   "source": [
    "import community\n",
    "import networkx as nx\n",
    "from networkx.algorithms.community import k_clique_communities"
   ]
  },
  {
   "cell_type": "code",
   "execution_count": 6,
   "metadata": {
    "pycharm": {
     "name": "#%%\n"
    }
   },
   "outputs": [],
   "source": [
    "# filename of graph to read in\n",
    "input_filename = \"workshop8.graphml\"\n",
    "output_filename = \"workshop8-mod.graphml\""
   ]
  },
  {
   "cell_type": "markdown",
   "metadata": {
    "pycharm": {
     "name": "#%% md\n"
    }
   },
   "source": [
    "Utility function to convert the output of python-Louvain, a dictionary (node -> community id), to a list of sets (community id -> [nodes])."
   ]
  },
  {
   "cell_type": "code",
   "execution_count": 7,
   "metadata": {
    "pycharm": {
     "name": "#%%\n"
    }
   },
   "outputs": [],
   "source": [
    "def dictToSetFormat(dComms, maxCommNum):\n",
    "    \"\"\"\n",
    "    Converts dictionary based community output (node -> community id) to list of sets (communities)\n",
    "    @param dComms: dictionary based community representation\n",
    "    @param maxCommNum: maximum number of communities\n",
    "    @return: list of communities representation\n",
    "    @author Jeff\n",
    "    \"\"\"\n",
    "\n",
    "    # initialise\n",
    "    lGroundTruth = [set() for x in range(maxCommNum)]\n",
    "    # convert each (node : community id) pair to the required set format\n",
    "    for (name, clusId) in dComms.items():\n",
    "        lGroundTruth[clusId].add(name)\n",
    "\n",
    "    return lGroundTruth"
   ]
  },
  {
   "cell_type": "code",
   "execution_count": 8,
   "metadata": {
    "pycharm": {
     "name": "#%%\n"
    }
   },
   "outputs": [],
   "source": [
    "# read the reply graph in\n",
    "graph = nx.readwrite.read_graphml(input_filename)\n",
    "\n",
    "# clique size\n",
    "k = 3\n",
    "\n",
    "# Compute the communities\n",
    "cpm_comms = list(k_clique_communities(graph.to_undirected(), k))\n",
    "louvain_comms = community.best_partition(graph.to_undirected())\n",
    "\n",
    "# converts output of Louvain to the same format as CPM (makes it easier to have one consistent interface)\n",
    "louvain_comms_amount = max([y for (x, y) in louvain_comms.items()]) + 1\n",
    "louvain_comms = dictToSetFormat(louvain_comms, louvain_comms_amount)\n",
    "\n",
    "# Add cpm community ids to nodes\n",
    "for comm_id, community in enumerate(cpm_comms):\n",
    "    for member in community:\n",
    "        graph.nodes[member][\"CPM\"] = comm_id\n",
    "\n",
    "# Add louvain community ids to nodes\n",
    "for comm_id, community in enumerate(louvain_comms):\n",
    "    for member in community:\n",
    "        graph.nodes[member][\"Louvain\"] = comm_id\n",
    "\n",
    "# Output modified graph with prefix mod2 to original file.\n",
    "nx.readwrite.write_graphml(graph, output_filename, infer_numeric_types=True)"
   ]
  }
 ],
 "metadata": {
  "kernelspec": {
   "display_name": "Python 3 (ipykernel)",
   "language": "python",
   "name": "python3"
  },
  "language_info": {
   "codemirror_mode": {
    "name": "ipython",
    "version": 3
   },
   "file_extension": ".py",
   "mimetype": "text/x-python",
   "name": "python",
   "nbconvert_exporter": "python",
   "pygments_lexer": "ipython3",
   "version": "3.9.12"
  }
 },
 "nbformat": 4,
 "nbformat_minor": 4
}