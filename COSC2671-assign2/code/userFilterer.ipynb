{
 "cells": [
  {
   "cell_type": "markdown",
   "metadata": {
    "pycharm": {
     "name": "#%% md\n"
    }
   },
   "source": [
    "# Ego net downloader\n",
    "\n",
    "COSC2671 Social Media and Network Analytics\n",
    "\n",
    "Lukas Krodinger, 3931415"
   ]
  },
  {
   "cell_type": "code",
   "execution_count": 4,
   "metadata": {
    "pycharm": {
     "name": "#%%\n"
    }
   },
   "outputs": [],
   "source": [
    "from twitterClient import twitterClient\n",
    "import tweepy\n",
    "import math\n",
    "import json"
   ]
  },
  {
   "cell_type": "code",
   "execution_count": 5,
   "metadata": {
    "pycharm": {
     "name": "#%%\n"
    }
   },
   "outputs": [],
   "source": [
    "client = twitterClient()"
   ]
  },
  {
   "cell_type": "code",
   "execution_count": 6,
   "outputs": [],
   "source": [
    "def load(filename):\n",
    "    datas = []\n",
    "    with open(filename, 'r') as f:\n",
    "        for line in f:\n",
    "            data = json.loads(line)\n",
    "            datas.append(data)\n",
    "    return datas"
   ],
   "metadata": {
    "collapsed": false,
    "pycharm": {
     "name": "#%%\n"
    }
   }
  },
  {
   "cell_type": "code",
   "execution_count": 14,
   "outputs": [],
   "source": [
    "input_filename = \"most_common_users.json\"\n",
    "\n",
    "output_filename = \"most_common_users_filtered.json\"\n",
    "\n",
    "# All user fields\n",
    "all_user_fields = [\"id\",\"name\", \"username\", \"created_at\", \"description\", \"location\", \"entities\", \"pinned_tweet_id\", \"profile_image_url\", \"protected\", \"public_metrics\", \"url\", \"verified\", \"withheld\"]\n",
    "\n",
    "tresh = 10\n",
    "\n",
    "# Fields of interest\n",
    "# user_fields_of_interest = [\"id\",\"name\",\"public_metrics\"]\n",
    "user_fields_of_interest = all_user_fields"
   ],
   "metadata": {
    "collapsed": false,
    "pycharm": {
     "name": "#%%\n"
    }
   }
  },
  {
   "cell_type": "code",
   "execution_count": 8,
   "outputs": [],
   "source": [
    "users = load(input_filename)"
   ],
   "metadata": {
    "collapsed": false,
    "pycharm": {
     "name": "#%%\n"
    }
   }
  },
  {
   "cell_type": "code",
   "execution_count": 15,
   "outputs": [
    {
     "name": "stdout",
     "output_type": "stream",
     "text": [
      "{'created_at': '2010-04-13T01:01:12.000Z', 'public_metrics': {'followers_count': 4900511, 'following_count': 15, 'tweet_count': 7156252, 'listed_count': 11231}, 'protected': False, 'verified': True, 'url': 'https://t.co/XWjvEsCFOs', 'entities': {'url': {'urls': [{'start': 0, 'end': 23, 'url': 'https://t.co/XWjvEsCFOs', 'expanded_url': 'https://www.sej.co.jp/', 'display_url': 'sej.co.jp'}]}, 'description': {'urls': [{'start': 40, 'end': 63, 'url': 'https://t.co/dq7LZuPHpq', 'expanded_url': 'http://bit.ly/3wFMEg2', 'display_url': 'bit.ly/3wFMEg2'}, {'start': 107, 'end': 130, 'url': 'https://t.co/F5XEgp34i9', 'expanded_url': 'http://bit.ly/2OfHcME', 'display_url': 'bit.ly/2OfHcME'}]}}, 'id': '132355708', 'profile_image_url': 'https://pbs.twimg.com/profile_images/1282831202680860672/0vKU-c6J_normal.jpg', 'name': 'セブン‐イレブン・ジャパン', 'description': 'セブン-イレブン公式アカウント。※店舗商品のお問合せは下記窓口へお願い致します\\u3000https://t.co/dq7LZuPHpq 0120-711-372(月〜金9:30～17:00) ソーシャルメディアの利用規約\\u3000https://t.co/F5XEgp34i9', 'username': '711SEJ', 'pinned_tweet_id': '1575675604456075265'}\n",
      "{'profile_image_url': 'https://pbs.twimg.com/profile_images/826320015024672768/Fm3wsT1s_normal.jpg', 'created_at': '2010-04-01T13:26:56.000Z', 'description': 'The top destination for all the major sports news from around the world - A Times Internet product\\nhttps://t.co/XI7grNKV3U', 'location': 'New Delhi, India', 'entities': {'url': {'urls': [{'start': 0, 'end': 23, 'url': 'https://t.co/6HPmOwSL7E', 'expanded_url': 'http://timesofindia.com/sports', 'display_url': 'timesofindia.com/sports'}]}, 'description': {'urls': [{'start': 99, 'end': 122, 'url': 'https://t.co/XI7grNKV3U', 'expanded_url': 'http://facebook.com/toisports', 'display_url': 'facebook.com/toisports'}]}}, 'url': 'https://t.co/6HPmOwSL7E', 'name': 'TOI Sports', 'public_metrics': {'followers_count': 1056345, 'following_count': 263, 'tweet_count': 163838, 'listed_count': 238}, 'id': '128555221', 'protected': False, 'username': 'toisports', 'verified': True}\n",
      "{'username': 'ZiggoSport', 'verified': True, 'pinned_tweet_id': '1580194986196361218', 'location': 'Hilversum, Nederland', 'id': '26215613', 'entities': {'url': {'urls': [{'start': 0, 'end': 23, 'url': 'https://t.co/2IbHmmw2gf', 'expanded_url': 'http://www.ziggosport.nl', 'display_url': 'ziggosport.nl'}]}, 'description': {'mentions': [{'start': 97, 'end': 107, 'username': 'ZS_Racing'}, {'start': 113, 'end': 124, 'username': 'ZS_Voetbal'}]}}, 'url': 'https://t.co/2IbHmmw2gf', 'created_at': '2009-03-24T11:08:38.000Z', 'profile_image_url': 'https://pbs.twimg.com/profile_images/1392075933239103489/38d5tfAY_normal.jpg', 'name': 'Ziggo Sport', 'description': 'Beleef 24/7 de allermooiste duels op Ziggo Sport. Je hoeft geen seconde meer te missen. Volg ook @ZS_Racing 🏁 en @ZS_Voetbal ⚽', 'public_metrics': {'followers_count': 125473, 'following_count': 637, 'tweet_count': 101682, 'listed_count': 554}, 'protected': False}\n",
      "{'verified': True, 'created_at': '2019-07-02T07:14:05.000Z', 'profile_image_url': 'https://pbs.twimg.com/profile_images/1145955827401945088/IP9gtgGL_normal.jpg', 'name': 'ローソン公式返信用アカウント', 'description': '【ローソン公式返信用アカウント】 ・コンビニエンスストア「ローソン」公式ツイッターキャンペーンの返信用アカウントです。 \\n・返信が遅れる場合がございます。ご了承ください。 \\n・DMなどでのお問い合わせには対応しておりません。', 'url': 'https://t.co/RbZ1Xn4eFh', 'username': 'japan_lawson', 'protected': False, 'public_metrics': {'followers_count': 123251, 'following_count': 0, 'tweet_count': 110394538, 'listed_count': 276}, 'id': '1145953772952150016', 'entities': {'url': {'urls': [{'start': 0, 'end': 23, 'url': 'https://t.co/RbZ1Xn4eFh', 'expanded_url': 'https://mldata.lawson.co.jp/', 'display_url': 'mldata.lawson.co.jp'}]}}}\n",
      "{'profile_image_url': 'https://pbs.twimg.com/profile_images/1370116823593668608/uonDsael_normal.jpg', 'created_at': '2021-03-11T20:57:00.000Z', 'description': 'I help my older brother @aceCourtBot when he has too many cases. Operated by \\n@LuisMayoV Ko-fi here: https://t.co/5yPE5NDmHe', 'location': 'queue: empty', 'entities': {'description': {'urls': [{'start': 101, 'end': 124, 'url': 'https://t.co/5yPE5NDmHe', 'expanded_url': 'http://ko-fi.com/luismayo', 'display_url': 'ko-fi.com/luismayo'}], 'mentions': [{'start': 24, 'end': 36, 'username': 'aceCourtBot'}, {'start': 78, 'end': 88, 'username': 'LuisMayoV'}]}}, 'pinned_tweet_id': '1393616337734443008', 'name': 'Ace Attorney Court Bot 🏳️\\u200d⚧️', 'public_metrics': {'followers_count': 81546, 'following_count': 1, 'tweet_count': 86515, 'listed_count': 245}, 'id': '1370116475122507779', 'protected': False, 'username': 'aceCourtBot2', 'verified': False}\n",
      "{'location': 'Paris, France', 'public_metrics': {'followers_count': 80041, 'following_count': 913, 'tweet_count': 410083, 'listed_count': 649}, 'verified': True, 'entities': {'url': {'urls': [{'start': 0, 'end': 23, 'url': 'https://t.co/h4WXeI5lvG', 'expanded_url': 'https://le10sport.com', 'display_url': 'le10sport.com'}]}, 'description': {'urls': [{'start': 16, 'end': 39, 'url': 'https://t.co/2SIaQlsqNR', 'expanded_url': 'http://le10sport.com', 'display_url': 'le10sport.com'}]}}, 'protected': False, 'id': '57611103', 'created_at': '2009-07-17T10:38:50.000Z', 'profile_image_url': 'https://pbs.twimg.com/profile_images/1140959275424124928/W57PJtUh_normal.png', 'name': 'le10sport', 'description': \"Compte officiel https://t.co/2SIaQlsqNR. Toute l'actualité du sport, du football et du mercato\", 'username': 'le10sport', 'url': 'https://t.co/h4WXeI5lvG'}\n",
      "{'description': '日本最大のテニス専門サイト #テニス365 が、ATP/WTA/ITFや国内主要大会の最新ニュースや、テニスコート、テニス用品の最新トピックスをつぶやきます。 運営:株式会社 #nobitel #ノビテル （2021年9月1日 株式会社フュービックは社名変更しました）', 'pinned_tweet_id': '1578290909858652162', 'location': '東京都新宿区', 'profile_image_url': 'https://pbs.twimg.com/profile_images/1120521968745422848/vfYykc-L_normal.png', 'public_metrics': {'followers_count': 70339, 'following_count': 432, 'tweet_count': 115302, 'listed_count': 704}, 'entities': {'url': {'urls': [{'start': 0, 'end': 23, 'url': 'https://t.co/Pas8Z5rvbo', 'expanded_url': 'https://tennis365.net/', 'display_url': 'tennis365.net'}]}, 'description': {'hashtags': [{'start': 14, 'end': 21, 'tag': 'テニス365'}, {'start': 88, 'end': 96, 'tag': 'nobitel'}, {'start': 97, 'end': 102, 'tag': 'ノビテル'}]}}, 'id': '42171043', 'name': 'tennis365.net テニス365', 'protected': False, 'url': 'https://t.co/Pas8Z5rvbo', 'username': 'tennis365', 'verified': False, 'created_at': '2009-05-24T05:38:11.000Z'}\n",
      "{'username': 'JugarTenis', 'name': 'QuieroJugarTenis.com 🎾⚡️🌎Play Tennis Anyone? App', 'public_metrics': {'followers_count': 39778, 'following_count': 42650, 'tweet_count': 165847, 'listed_count': 324}, 'verified': False, 'entities': {'url': {'urls': [{'start': 0, 'end': 23, 'url': 'https://t.co/5n5UNcdNyK', 'expanded_url': 'http://QuieroJugarTenis.com', 'display_url': 'QuieroJugarTenis.com'}]}, 'description': {'urls': [{'start': 21, 'end': 44, 'url': 'https://t.co/vl4eQWdJrf', 'expanded_url': 'http://bit.ly/QJTennis', 'display_url': 'bit.ly/QJTennis'}], 'hashtags': [{'start': 119, 'end': 128, 'tag': 'lavercup'}]}}, 'url': 'https://t.co/5n5UNcdNyK', 'pinned_tweet_id': '1460430890664927232', 'created_at': '2009-12-23T02:40:19.000Z', 'profile_image_url': 'https://pbs.twimg.com/profile_images/1018684949573009413/BMux0ZcH_normal.jpg', 'location': 'Instagram.com/JugarTenis', 'description': 'Tennis Partners App: https://t.co/vl4eQWdJrf buddies tenisxespn tinder テニス playtennis wtaforthegame thisistennis Tenis #lavercup ⚡️tennispartners@getalby.com', 'id': '98775391', 'protected': False}\n",
      "{'description': 'Official account of the Colorado High School Activities Association. Join the conversation with #copreps, or mention @CHSAA.', 'location': 'Colorado', 'name': 'CHSAA', 'url': 'https://t.co/9Q7sk5lNWC', 'public_metrics': {'followers_count': 38783, 'following_count': 3685, 'tweet_count': 97116, 'listed_count': 171}, 'entities': {'url': {'urls': [{'start': 0, 'end': 23, 'url': 'https://t.co/9Q7sk5lNWC', 'expanded_url': 'http://chsaanow.com', 'display_url': 'chsaanow.com'}]}, 'description': {'hashtags': [{'start': 96, 'end': 104, 'tag': 'copreps'}], 'mentions': [{'start': 117, 'end': 123, 'username': 'CHSAA'}]}}, 'profile_image_url': 'https://pbs.twimg.com/profile_images/1276201083426058241/FbqJ_c_O_normal.jpg', 'username': 'CHSAA', 'verified': True, 'created_at': '2009-07-06T20:03:55.000Z', 'protected': False, 'pinned_tweet_id': '1567661316088684544', 'id': '54315272'}\n",
      "{'verified': True, 'profile_image_url': 'https://pbs.twimg.com/profile_images/1319642048027381763/wEXIK_CL_normal.jpg', 'id': '132831979', 'public_metrics': {'followers_count': 37629, 'following_count': 601, 'tweet_count': 43588, 'listed_count': 363}, 'name': 'SuperTennis TV', 'created_at': '2010-04-14T08:54:31.000Z', 'description': 'La TV del #tennis di @federtennis. SATELLITE: canale 212 Sky DTT: visibile in tutta Italia sul canale 64', 'location': 'Roma', 'url': 'https://t.co/UTGF1GNiiu', 'username': 'SuperTennisTv', 'entities': {'url': {'urls': [{'start': 0, 'end': 23, 'url': 'https://t.co/UTGF1GNiiu', 'expanded_url': 'http://tickets.nittoatpfinals.com', 'display_url': 'tickets.nittoatpfinals.com'}]}, 'description': {'hashtags': [{'start': 10, 'end': 17, 'tag': 'tennis'}], 'mentions': [{'start': 21, 'end': 33, 'username': 'federtennis'}]}}, 'protected': False}\n"
     ]
    }
   ],
   "source": [
    "# Remove not interesting fields\n",
    "for user in users:\n",
    "    for key in list(user):\n",
    "        if key not in user_fields_of_interest:\n",
    "            del user[key]\n",
    "\n",
    "users.sort(key=lambda x: x[\"public_metrics\"][\"followers_count\"], reverse=True)\n",
    "\n",
    "for user in users[:10]:\n",
    "    print(user)"
   ],
   "metadata": {
    "collapsed": false,
    "pycharm": {
     "name": "#%%\n"
    }
   }
  },
  {
   "cell_type": "code",
   "execution_count": 16,
   "outputs": [],
   "source": [
    "# Store filtered followers\n",
    "with open(output_filename, 'w') as json_file:\n",
    "    for user in users[:10]:\n",
    "        json.dump(user, json_file)\n",
    "        json_file.write('\\n')"
   ],
   "metadata": {
    "collapsed": false,
    "pycharm": {
     "name": "#%%\n"
    }
   }
  }
 ],
 "metadata": {
  "kernelspec": {
   "display_name": "Python 3 (ipykernel)",
   "language": "python",
   "name": "python3"
  },
  "language_info": {
   "codemirror_mode": {
    "name": "ipython",
    "version": 3
   },
   "file_extension": ".py",
   "mimetype": "text/x-python",
   "name": "python",
   "nbconvert_exporter": "python",
   "pygments_lexer": "ipython3",
   "version": "3.9.12"
  }
 },
 "nbformat": 4,
 "nbformat_minor": 2
}