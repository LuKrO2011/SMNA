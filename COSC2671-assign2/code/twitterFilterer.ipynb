{
 "cells": [
  {
   "cell_type": "markdown",
   "metadata": {
    "pycharm": {
     "name": "#%% md\n"
    }
   },
   "source": [
    "COSC2671 Social Media and Network Analytics\n",
    "\n",
    "# Assignment 2 - Twitter posts filterer\n",
    "\n",
    "@author Lukas Krodinger, s3961415\n",
    "\n",
    "Note that this notebook requires the file twitterClient.py written by Jeffrey Chan with a valid twitter bearerToken, where the limit is not exceeded in order to work."
   ]
  },
  {
   "cell_type": "code",
   "execution_count": 77,
   "outputs": [],
   "source": [
    "import json\n",
    "import math\n",
    "from datetime import datetime, timezone"
   ],
   "metadata": {
    "collapsed": false,
    "pycharm": {
     "name": "#%%\n"
    }
   }
  },
  {
   "cell_type": "code",
   "execution_count": 78,
   "outputs": [],
   "source": [
    "def load_tweets(filenames):\n",
    "    \"\"\"\n",
    "    Loads the tweets from the file with the given name into an array of tweets.\n",
    "\n",
    "    @param filename: The filename of the file to load the tweets from.\n",
    "\n",
    "    @returns: An array of tweets.\n",
    "    \"\"\"\n",
    "    tweets = []\n",
    "    for filename in filenames:\n",
    "        with open(filename, 'r') as f:\n",
    "            for sLine in f:\n",
    "                tweet = json.loads(sLine)\n",
    "                tweets.append(tweet)\n",
    "    return tweets"
   ],
   "metadata": {
    "collapsed": false,
    "pycharm": {
     "name": "#%%\n"
    }
   }
  },
  {
   "cell_type": "code",
   "execution_count": 79,
   "outputs": [],
   "source": [
    "# The filename of the file to store the tweets into\n",
    "all_twitter_fields_filename = [\"table_tennis_2022_10_12_17_00.json\"]"
   ],
   "metadata": {
    "collapsed": false,
    "pycharm": {
     "name": "#%%\n"
    }
   }
  },
  {
   "cell_type": "markdown",
   "source": [
    "In a next step I first filter all fields of tweets that are of interest.\n",
    "I also only have a look at 5.000 tweets in order to not exceed the file size limit of 5MB, and I also only take tweets into account, that ... in that order."
   ],
   "metadata": {
    "collapsed": false,
    "pycharm": {
     "name": "#%% md\n"
    }
   }
  },
  {
   "cell_type": "code",
   "execution_count": 80,
   "outputs": [],
   "source": [
    "tweets = load_tweets(all_twitter_fields_filename)"
   ],
   "metadata": {
    "collapsed": false,
    "pycharm": {
     "name": "#%%\n"
    }
   }
  },
  {
   "cell_type": "code",
   "execution_count": 81,
   "outputs": [],
   "source": [
    "# The filename of the file to store the filtered tweets\n",
    "filtered_tweet_fields_filename = \"table_tennis_filtered2_4_days.json\"\n",
    "\n",
    "# The fields of interest\n",
    "fields_of_interest = ['id', 'text', 'author_id', 'context_annotations', 'conversation_id', 'created_at', 'entities', 'geo', 'in_reply_to_user_id', 'lang', 'referenced_tweets']\n",
    "\n",
    "# What we want our tweets to contain\n",
    "filter_for = \"table tennis\"\n",
    "\n",
    "# The amount of tweets we want to filter out\n",
    "amount_of_tweets = math.inf\n",
    "\n",
    "# Whether tweets with redundant text should be removed or not\n",
    "remove_redundant_tweets_texts = True\n",
    "\n",
    "# Date constraints\n",
    "start_date = datetime.fromisoformat('2022-10-06T00:00:00.000Z'[:-1]).astimezone(timezone.utc)\n",
    "end_date = datetime.fromisoformat('2022-10-09T23:59:59.000Z'[:-1]).astimezone(timezone.utc)"
   ],
   "metadata": {
    "collapsed": false,
    "pycharm": {
     "name": "#%%\n"
    }
   }
  },
  {
   "cell_type": "markdown",
   "source": [
    "I load the posts from the file with all fields and delete all fields I am not interested in. Then I store the tweets with the remaining fields if they contain the filter_for and the amount is not exceeded."
   ],
   "metadata": {
    "collapsed": false,
    "pycharm": {
     "name": "#%% md\n"
    }
   }
  },
  {
   "cell_type": "code",
   "execution_count": 82,
   "outputs": [
    {
     "name": "stdout",
     "output_type": "stream",
     "text": [
      "Filtered tweets successfully stored to:  table_tennis_filtered2_4_days.json\n"
     ]
    }
   ],
   "source": [
    "with open(filtered_tweet_fields_filename, 'w') as fOut:\n",
    "    count = 0\n",
    "    tweet_texts = []\n",
    "\n",
    "    for tweet in tweets:\n",
    "\n",
    "        # Remove not interesting fields\n",
    "        for key in list(tweet.keys()):\n",
    "            if key not in fields_of_interest:\n",
    "                del tweet[key]\n",
    "\n",
    "        # Remove tweets which do not contain the filter_for text\n",
    "        text = tweet.get(\"text\").lower()\n",
    "        if filter_for not in text:\n",
    "            continue\n",
    "\n",
    "        # Remove redundant text tweets\n",
    "        if remove_redundant_tweets_texts:\n",
    "            if text not in tweet_texts:\n",
    "                tweet_texts.append(text)\n",
    "                count = count + 1\n",
    "            else:\n",
    "                continue\n",
    "\n",
    "        # Filter out date\n",
    "        created_at = tweet.get('created_at', '')\n",
    "        date = datetime.fromisoformat(created_at[:-1]).astimezone(timezone.utc)\n",
    "        date_in_range = start_date < date < end_date\n",
    "        if not date_in_range:\n",
    "            continue\n",
    "\n",
    "        # Take no more than amount_of_tweets\n",
    "        if count > amount_of_tweets:\n",
    "            break\n",
    "\n",
    "        # Store tweet again\n",
    "        fOut.write(\"{}\\n\".format(json.dumps(tweet)))\n",
    "\n",
    "print(\"Filtered tweets successfully stored to: \", filtered_tweet_fields_filename)"
   ],
   "metadata": {
    "collapsed": false,
    "pycharm": {
     "name": "#%%\n"
    }
   }
  },
  {
   "cell_type": "markdown",
   "source": [],
   "metadata": {
    "collapsed": false,
    "pycharm": {
     "name": "#%% md\n"
    }
   }
  }
 ],
 "metadata": {
  "kernelspec": {
   "display_name": "Python 3 (ipykernel)",
   "language": "python",
   "name": "python3"
  },
  "language_info": {
   "codemirror_mode": {
    "name": "ipython",
    "version": 3
   },
   "file_extension": ".py",
   "mimetype": "text/x-python",
   "name": "python",
   "nbconvert_exporter": "python",
   "pygments_lexer": "ipython3",
   "version": "3.9.12"
  }
 },
 "nbformat": 4,
 "nbformat_minor": 2
}