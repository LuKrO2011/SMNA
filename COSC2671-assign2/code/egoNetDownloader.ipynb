{
 "cells": [
  {
   "cell_type": "markdown",
   "metadata": {
    "pycharm": {
     "name": "#%% md\n"
    }
   },
   "source": [
    "# Ego net downloader\n",
    "\n",
    "COSC2671 Social Media and Network Analytics\n",
    "\n",
    "Lukas Krodinger, 3931415"
   ]
  },
  {
   "cell_type": "code",
   "execution_count": 2,
   "metadata": {
    "pycharm": {
     "name": "#%%\n"
    }
   },
   "outputs": [],
   "source": [
    "from twitterClient import twitterClient\n",
    "import tweepy\n",
    "import math\n",
    "import networkx as nx"
   ]
  },
  {
   "cell_type": "code",
   "execution_count": 3,
   "metadata": {
    "pycharm": {
     "name": "#%%\n"
    }
   },
   "outputs": [],
   "source": [
    "client = twitterClient()"
   ]
  },
  {
   "cell_type": "code",
   "execution_count": 4,
   "outputs": [],
   "source": [
    "# Assigns a logarithmic value depending on the follower count\n",
    "def calculate_importance(follower_count):\n",
    "    if follower_count <= 0:\n",
    "        follower_count = 1\n",
    "    return math.ceil(math.log10(follower_count))"
   ],
   "metadata": {
    "collapsed": false,
    "pycharm": {
     "name": "#%%\n"
    }
   }
  },
  {
   "cell_type": "markdown",
   "source": [
    "Parameters:"
   ],
   "metadata": {
    "collapsed": false,
    "pycharm": {
     "name": "#%% md\n"
    }
   }
  },
  {
   "cell_type": "code",
   "execution_count": 5,
   "outputs": [],
   "source": [
    "# Username of the ego\n",
    "username = \"CricketAus\"\n",
    "\n",
    "# Where to store the graph to\n",
    "graphFile='ego.graphml'\n",
    "\n",
    "# ego attributes\n",
    "ego_id = client.get_user(username=username).data.id\n",
    "ego_username = client.get_user(username=username).data.username\n",
    "ego_name = client.get_user(username=username).data.name\n",
    "\n",
    "# maximum number of results\n",
    "maxResults = 100\n",
    "\n",
    "# All user fields\n",
    "all_user_fields = [\"id\",\"name\", \"username\", \"created_at\", \"description\", \"location\", \"entities\", \"pinned_tweet_id\", \"profile_image_url\", \"protected\", \"public_metrics\", \"url\", \"verified\", \"withheld\"]\n",
    "\n",
    "# Fields of interest\n",
    "user_fields_of_interest = [\"id\",\"name\",\"public_metrics\"]"
   ],
   "metadata": {
    "collapsed": false,
    "pycharm": {
     "name": "#%%\n"
    }
   }
  },
  {
   "cell_type": "code",
   "execution_count": 6,
   "outputs": [],
   "source": [
    "# Create graph\n",
    "ego_graph = nx.DiGraph()\n",
    "ego_graph.add_node(ego_username)"
   ],
   "metadata": {
    "collapsed": false,
    "pycharm": {
     "name": "#%%\n"
    }
   }
  },
  {
   "cell_type": "code",
   "execution_count": 7,
   "metadata": {
    "pycharm": {
     "name": "#%%\n"
    }
   },
   "outputs": [],
   "source": [
    "# Get followers of ego\n",
    "followers = []\n",
    "for tweet in tweepy.Paginator(client.get_users_followers, id=ego_id, max_results=maxResults, user_fields=all_user_fields).flatten(limit=maxResults):\n",
    "    followers.append(tweet)"
   ]
  },
  {
   "cell_type": "code",
   "execution_count": 8,
   "outputs": [],
   "source": [
    "# Remove not interesting fields\n",
    "for follower in followers:\n",
    "    for key in list(follower.keys()):\n",
    "        if key not in user_fields_of_interest:\n",
    "            delattr(follower, key)"
   ],
   "metadata": {
    "collapsed": false,
    "pycharm": {
     "name": "#%%\n"
    }
   }
  },
  {
   "cell_type": "code",
   "execution_count": 9,
   "outputs": [],
   "source": [
    "# Construct followers graph\n",
    "for user in followers:\n",
    "    follower_name = user.username\n",
    "    followers_count = user.public_metrics.get('followers_count')\n",
    "    following_count = user.public_metrics.get('following_count')\n",
    "    tweet_count = user.public_metrics.get('tweet_count')\n",
    "    ego_graph.add_node(follower_name, followers_count=followers_count, following_count=following_count, tweet_count=tweet_count, color_id=calculate_importance(followers_count))\n",
    "    ego_graph.add_edge(ego_username, follower_name)"
   ],
   "metadata": {
    "collapsed": false,
    "pycharm": {
     "name": "#%%\n"
    }
   }
  },
  {
   "cell_type": "code",
   "execution_count": 10,
   "outputs": [],
   "source": [
    "# Get users that the ego follows\n",
    "following = []\n",
    "for tweet in tweepy.Paginator(client.get_users_following, id=ego_id, max_results=maxResults, user_fields=all_user_fields).flatten(limit=maxResults):\n",
    "    following.append(tweet)"
   ],
   "metadata": {
    "collapsed": false,
    "pycharm": {
     "name": "#%%\n"
    }
   }
  },
  {
   "cell_type": "code",
   "execution_count": 11,
   "outputs": [],
   "source": [
    "# Construct following graph\n",
    "for user in following:\n",
    "    following_name = user.username\n",
    "    followers_count = user.public_metrics.get('followers_count')\n",
    "    following_count = user.public_metrics.get('following_count')\n",
    "    tweet_count = user.public_metrics.get('tweet_count')\n",
    "    ego_graph.add_node(following_name, followers_count=followers_count, following_count=following_count, tweet_count=tweet_count, color_id=calculate_importance(followers_count))\n",
    "    ego_graph.add_edge(following_name, ego_username)"
   ],
   "metadata": {
    "collapsed": false,
    "pycharm": {
     "name": "#%%\n"
    }
   }
  },
  {
   "cell_type": "code",
   "execution_count": 12,
   "outputs": [],
   "source": [
    "# Store the graph\n",
    "with open(graphFile, 'wb') as fOut:\n",
    "    nx.write_graphml(ego_graph, fOut)"
   ],
   "metadata": {
    "collapsed": false,
    "pycharm": {
     "name": "#%%\n"
    }
   }
  }
 ],
 "metadata": {
  "kernelspec": {
   "display_name": "Python 3 (ipykernel)",
   "language": "python",
   "name": "python3"
  },
  "language_info": {
   "codemirror_mode": {
    "name": "ipython",
    "version": 3
   },
   "file_extension": ".py",
   "mimetype": "text/x-python",
   "name": "python",
   "nbconvert_exporter": "python",
   "pygments_lexer": "ipython3",
   "version": "3.9.12"
  }
 },
 "nbformat": 4,
 "nbformat_minor": 2
}