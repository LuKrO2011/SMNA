{
 "cells": [
  {
   "cell_type": "markdown",
   "metadata": {
    "pycharm": {
     "name": "#%% md\n"
    }
   },
   "source": [
    "COSC2671 Social Media and Network Analytics\n",
    "\n",
    "# Assignment 2 - User data downloader\n",
    "\n",
    "@author Lukas Krodinger, s3961415\n",
    "\n",
    "Note that this notebook requires the file twitterClient.py written by Jeffrey Chan with a valid twitter bearerToken, where the limit is not exceeded in order to work."
   ]
  },
  {
   "cell_type": "code",
   "execution_count": 34,
   "outputs": [],
   "source": [
    "import json\n",
    "import math\n",
    "\n",
    "import tweepy\n",
    "import twitterClient"
   ],
   "metadata": {
    "collapsed": false,
    "pycharm": {
     "name": "#%%\n"
    }
   }
  },
  {
   "cell_type": "code",
   "execution_count": 35,
   "outputs": [],
   "source": [
    "client = twitterClient.twitterClient()"
   ],
   "metadata": {
    "collapsed": false,
    "pycharm": {
     "name": "#%%\n"
    }
   }
  },
  {
   "cell_type": "code",
   "execution_count": 36,
   "outputs": [],
   "source": [
    "def load_users_ids(filename):\n",
    "    user_ids = []\n",
    "    with open(filename, 'r') as f:\n",
    "        for sLine in f:\n",
    "            user_id = json.loads(sLine)\n",
    "            user_ids.append(user_id)\n",
    "    return user_ids"
   ],
   "metadata": {
    "collapsed": false,
    "pycharm": {
     "name": "#%%\n"
    }
   }
  },
  {
   "cell_type": "code",
   "execution_count": 37,
   "outputs": [],
   "source": [
    "# Define what tweets do download\n",
    "user_ids_file = 'most_common_user_ids.json'\n",
    "\n",
    "# All non-authenticated tweet fields\n",
    "all_user_fields = [\"id\",\"name\", \"username\", \"created_at\", \"description\", \"location\", \"entities\", \"pinned_tweet_id\", \"profile_image_url\", \"protected\", \"public_metrics\", \"url\", \"verified\", \"withheld\"]\n",
    "\n",
    "# The filename of the file to store the tweets into\n",
    "output_filename = \"most_common_users.json\""
   ],
   "metadata": {
    "collapsed": false,
    "pycharm": {
     "name": "#%%\n"
    }
   }
  },
  {
   "cell_type": "code",
   "execution_count": 38,
   "outputs": [],
   "source": [
    "user_ids = load_users_ids(user_ids_file)"
   ],
   "metadata": {
    "collapsed": false,
    "pycharm": {
     "name": "#%%\n"
    }
   }
  },
  {
   "cell_type": "code",
   "execution_count": 39,
   "outputs": [
    {
     "name": "stdout",
     "output_type": "stream",
     "text": [
      "429 Too Many Requests\n",
      "Too Many Requests\n",
      "299\n",
      "Number of users downloaded:  299\n"
     ]
    }
   ],
   "source": [
    "users = []\n",
    "\n",
    "try:\n",
    "    for user_id in user_ids:\n",
    "        twitterResponse = client.get_user(id=user_id, user_fields=all_user_fields)\n",
    "        if twitterResponse.data is not None:\n",
    "            users.append(twitterResponse.data)\n",
    "except Exception as e:\n",
    "    print(e)\n",
    "finally:\n",
    "    print(len(users))\n",
    "\n",
    "print(\"Number of users downloaded: \", len(users))"
   ],
   "metadata": {
    "collapsed": false,
    "pycharm": {
     "name": "#%%\n"
    }
   }
  },
  {
   "cell_type": "code",
   "execution_count": 40,
   "outputs": [
    {
     "name": "stdout",
     "output_type": "stream",
     "text": [
      "Users successfully stored to:  most_common_users.json\n"
     ]
    }
   ],
   "source": [
    "with open(output_filename, 'w') as json_file:\n",
    "    for user in users:\n",
    "        json.dump(user.data, json_file)\n",
    "        json_file.write('\\n')\n",
    "\n",
    "print(\"Users successfully stored to: \", output_filename)"
   ],
   "metadata": {
    "collapsed": false,
    "pycharm": {
     "name": "#%%\n"
    }
   }
  }
 ],
 "metadata": {
  "kernelspec": {
   "display_name": "Python 3 (ipykernel)",
   "language": "python",
   "name": "python3"
  },
  "language_info": {
   "codemirror_mode": {
    "name": "ipython",
    "version": 3
   },
   "file_extension": ".py",
   "mimetype": "text/x-python",
   "name": "python",
   "nbconvert_exporter": "python",
   "pygments_lexer": "ipython3",
   "version": "3.9.12"
  }
 },
 "nbformat": 4,
 "nbformat_minor": 2
}