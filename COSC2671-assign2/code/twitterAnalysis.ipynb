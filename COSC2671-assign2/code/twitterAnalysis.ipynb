{
 "cells": [
  {
   "cell_type": "markdown",
   "metadata": {
    "pycharm": {
     "name": "#%% md\n"
    }
   },
   "source": [
    "COSC2671 Social Media and Network Analytics \n",
    "\n",
    "# Assignment 2 - NAME\n",
    "\n",
    "Lukas Krodinger, s3961415\n",
    "\n",
    "Note that this notebook requires already downloaded (and pre-processed) twitter posts. This can be done by using the twitterDownloader.ipynb file."
   ]
  },
  {
   "cell_type": "code",
   "execution_count": 190,
   "metadata": {
    "pycharm": {
     "name": "#%%\n"
    }
   },
   "outputs": [
    {
     "name": "stderr",
     "output_type": "stream",
     "text": [
      "[nltk_data] Downloading package vader_lexicon to\n",
      "[nltk_data]     C:\\Users\\lukas\\AppData\\Roaming\\nltk_data...\n",
      "[nltk_data]   Package vader_lexicon is already up-to-date!\n",
      "[nltk_data] Downloading package stopwords to\n",
      "[nltk_data]     C:\\Users\\lukas\\AppData\\Roaming\\nltk_data...\n",
      "[nltk_data]   Package stopwords is already up-to-date!\n"
     ]
    }
   ],
   "source": [
    "# Used libraries\n",
    "import codecs\n",
    "import json\n",
    "from collections import Counter\n",
    "\n",
    "import nltk\n",
    "import pandas as pd\n",
    "from nltk.sentiment.vader import SentimentIntensityAnalyzer\n",
    "\n",
    "import TwitterProcessing\n",
    "\n",
    "nltk.download('vader_lexicon')\n",
    "nltk.download('stopwords')\n",
    "\n",
    "from wordcloud import WordCloud\n",
    "import string\n",
    "import numpy as np\n",
    "\n",
    "from sklearn.feature_extraction.text import CountVectorizer\n",
    "from sklearn.decomposition import LatentDirichletAllocation\n",
    "import pyLDAvis.sklearn\n",
    "import matplotlib.pyplot as plt\n",
    "import warnings"
   ]
  },
  {
   "cell_type": "code",
   "execution_count": 191,
   "metadata": {
    "pycharm": {
     "name": "#%%\n"
    }
   },
   "outputs": [],
   "source": [
    "# There are some warnings with LDA which we want to ignore\n",
    "warnings.filterwarnings('ignore')"
   ]
  },
  {
   "cell_type": "markdown",
   "metadata": {
    "pycharm": {
     "name": "#%% md\n"
    }
   },
   "source": [
    "## Introduction - TODO\n",
    "When one thinks about Australia many beautiful things might come to your mind. The Sydney Opera House, the Uluru, or maybe the Skyline of Melbourne to name just three examples. However, besides the world on land, there is a second world: The underwater world. And Australia can be proud of having the world's largest coral reef, the Great Barrier Reef (= GBR), as part of its coastline in Queensland. The reef is 2.300 km long, it is a natural world wonder and it consists of over 3000 individual reef systems [(1)](https://cairnsdiveadventures.com.au/reef-info/where-is-the-great-barrier-reef-located/) [(2)](https://greatbarrierreef.org/). It is interesting to analyze this topic to find out what various topics the Great Barrier Reef might cover. Therefore, the main task of this analysis is to find out which topics that are.\n",
    "\n",
    "Before my analysis, I expected that tourism with hotels and boat trips would be a large part of the data. I could also imagine that comparisons of the different reefs (naming the most well-known ones) might be a part of it. It turned out, that these expectations only partly meet the actual Twitter data."
   ]
  },
  {
   "cell_type": "markdown",
   "metadata": {
    "pycharm": {
     "name": "#%% md\n"
    }
   },
   "source": [
    "## Data Collection - TODO\n",
    "For my analysis, I downloaded the Twitter data for one week (ranging from the 2nd of August 2022 to 9th of August 2022) for the search query '\"Great Barrier Reef\" lang:en'. The query ensures with the usage of '\"', that the words 'Great', 'Barrier' and 'Reef' are not only contained in the requested posts but are also in this order contained and the addition 'lang:en' ensures, that only English posts are downloaded. I decided to use only English posts for the reasons of understandability and because the data is enough.\n",
    "\n",
    "I collected the data with the restful API using [tweepy](https://www.tweepy.org/). The code that was used therefore can be found in the twitterDownloader.ipynb. I decided on the restful API because the data of one week is more than sufficient for this analysis, and because it is not the goal of this report to get real-time (or close to real-time) insights about data but to analyze data of a certain timeframe in the past.\n",
    "\n",
    "The total number of downloaded tweets is 40709 and before preprocessing this resulted in a file size of 51.79 MB."
   ]
  },
  {
   "cell_type": "markdown",
   "metadata": {
    "pycharm": {
     "name": "#%% md\n"
    }
   },
   "source": [
    "## Pre-processing and Data Cleaning - TODO\n",
    "I decided to first download all public fields of each post and then filter out the relevant fields for this analysis (id, text, entities and created_at) in the next step. Therewith, it is possible to gain access to all other public fields again without downloading the data again. That approach is efficient as for the download of one post it does not matter how many fields are included, it will count as one download to the Twitter rest API limit.\n",
    "\n",
    "The analysis is based on the text, entities (for hashtags), and created_at fields. Those are the only ones required content-wise. Additionally, I decided to not remove the id, because therewith it is possible to get access to all the data for one specific post again by comparing the ids.\n",
    "I also filtered that each tweet should contain \"great barrier reef\" (not case-sensitive) as a part of the text, and I eliminated duplicated tweets that contain exactly the same text as another tweet. I limited the number of tweets to 5000 to not exceed the file size limit of 5 MB.\n",
    "\n",
    "After pre-processing there are 5.000 tweets left with a file size of 4.81 MB which can be found in the filteredTweets.json file.\n",
    "\n",
    "Later on in this report, the text field will be further pre-processed when splitting the text into words. This cleaning includes the following tasks:\n",
    "1. Conversion to lowercase\n",
    "2. Tokenization\n",
    "3. Stripping\n",
    "4. Stemming\n",
    "5. Removal of stopwords, punctuation, digits, and Twitter specific strings\n",
    "\n",
    "The conversion to lowercase makes sure that uppercase and lowercase letters are processed the same way. Writing upper- or lowercase letters is relevant for the syntax of the sentence but very little for the semantics. As we are interested in the content we can ignore the upper- and lowercase spelling by converting everything to lowercase.\n",
    "Tokenization is the process of splitting text into words. To further process the text, this is relevant for our analysis.\n",
    "Stripping is the process of removing whitespaces at the beginning and the end. Therewith our words now only contain the actual words.\n",
    "Stemming removes the grammatical context of the words and reduces words to their word stem. Therewith words are reduced to their meaning regardless of the grammatical structure of the sentence. For content analysis, this is what we want to achieve.\n",
    "\n",
    "All these steps are done in the following process_tweet method:"
   ]
  },
  {
   "cell_type": "code",
   "execution_count": 192,
   "metadata": {
    "pycharm": {
     "name": "#%%\n"
    }
   },
   "outputs": [],
   "source": [
    "def process_tweet(text, tokenizer=nltk.tokenize.TweetTokenizer(), stemmer=nltk.stem.PorterStemmer(), stopwords=[]):\n",
    "    \"\"\"\n",
    "    Perform tokenization, normalisation (lower case and stemming) and stopword and twitter keyword removal.\n",
    "\n",
    "    @param text: tweet text\n",
    "    @param tokenizer: tokenizer used.\n",
    "    @param stemmer: stemmer used.\n",
    "    @param stopwords: list of stopwords used\n",
    "\n",
    "    @returns: a list of processed tokens\n",
    "    @author Jeffrey Chan\n",
    "    \"\"\"\n",
    "    # covert all to lower case\n",
    "    text = text.lower()\n",
    "\n",
    "    # tokenize\n",
    "    tokens = tokenizer.tokenize(text)\n",
    "\n",
    "    # strip whitespaces before and after\n",
    "    tokens = [token.strip() for token in tokens]\n",
    "\n",
    "    # stem (we use set to remove duplicates)\n",
    "    stemmed_tokens = set([stemmer.stem(tok) for tok in tokens])\n",
    "\n",
    "    # remove stopwords, digits\n",
    "    return [tok for tok in stemmed_tokens if tok not in stopwords and not tok.isdigit()]"
   ]
  },
  {
   "cell_type": "markdown",
   "metadata": {
    "pycharm": {
     "name": "#%% md\n"
    }
   },
   "source": [
    "## Analysis Approach - TODO\n",
    "To answer the question of what the GBR is about on Twitter, I did mainly three different approaches. I decided to start with word and hashtag analysis, then I did sentiment analysis and at last, I did some topic analysis.\n",
    "\n",
    "The first part of the analysis, the very simple word and hashtag analysis, is done to get an overview over the topic on Twitter. Additionally, the results of this first part might give us some help for later hyperparameter tuning.\n",
    "\n",
    "The next part of this report is about sentiment analysis which will be used to understand the feelings (positive or negative sentiment) about the Great Barrier Reef. I considered the scoring based and the Vader approach with and without preprocessing for this report. The count method labels each tweet either positive or negative or neutral. It uses a dictionary with positive associated and a dictionary with negative associated words. The vader method has two main advantages compared to this. Firstly, it considers multiple levels of positivity and negativity resulting in a value ranging from very positive to very negative. Secondly, it tries to consider negated positive words as negative and vice versa. In this report, both were tried out and one can switch between the different methods. The best results however were gained from the vader approach due to its more precise scoring and that is why it is the default approach used later on.\n",
    "\n",
    "The third and last part is the topic analysis. Here I decided on the Latent Dirichlet Allocation (LDA) due to being a popular and unsupervised approach. LDA is a clustering model, that assumes that each document contains a certain number of topics. Each topic contains words and for each word, there is an assigned probability. It is the probability that the next chosen word out of this topic is the corresponding one. By choosing a number of topics the model is therewith able to generate a sequence of words that depend on the chosen topic and on the probability for each word to be next. By then comparing the generated text to the original text, calculating the difference, adjusting the probabilities, and repeating the model can do unsupervised training. After the training is finished the resulting model can then cluster the tweets to topics that defer from each other. Using this LDA model with a varying number of topics as hyperparameter input I clustered the tweets about the Great Barrier Reef into various topics."
   ]
  },
  {
   "cell_type": "markdown",
   "metadata": {
    "pycharm": {
     "name": "#%% md\n"
    }
   },
   "source": [
    "## Analysis & Insights - TODO\n",
    "In the following you can find my analysis step by step together with the insights I gained from it. I added some helper methods which are used in the following analysis. For an explanation of the code see the comments."
   ]
  },
  {
   "cell_type": "code",
   "execution_count": 193,
   "metadata": {
    "pycharm": {
     "name": "#%%\n"
    }
   },
   "outputs": [],
   "source": [
    "def load_words(filename):\n",
    "    \"\"\"\n",
    "    Loads the worlds of the file with the given name to a set.\n",
    "    :param filename: The name of the file to load the words from.\n",
    "    :return: A set of words loaded from the file.\n",
    "    \"\"\"\n",
    "    words = []\n",
    "    with codecs.open(filename, 'r', encoding='utf-8', errors='ignore') as f:\n",
    "        for line in f:\n",
    "            words.append(line.strip())\n",
    "\n",
    "    return set(words)"
   ]
  },
  {
   "cell_type": "code",
   "execution_count": 194,
   "metadata": {
    "pycharm": {
     "name": "#%%\n"
    }
   },
   "outputs": [],
   "source": [
    "def load_tweets(filename):\n",
    "    \"\"\"\n",
    "    Loads the tweets from the file with the given name into an array of tweets.\n",
    "\n",
    "    @param filename: The filename of the file to load the tweets from.\n",
    "\n",
    "    @returns: An array of tweets.\n",
    "    \"\"\"\n",
    "    tweets = []\n",
    "    with open(filename, 'r') as f:\n",
    "        for sLine in f:\n",
    "            tweet = json.loads(sLine)\n",
    "            tweets.append(tweet)\n",
    "    return tweets"
   ]
  },
  {
   "cell_type": "markdown",
   "metadata": {
    "pycharm": {
     "name": "#%% md\n"
    }
   },
   "source": [
    "### Words and hashtag analysis\n",
    "The first real part of this analysis starts with most common words and hashtag analysis to get a good overview of the contents of the tweets."
   ]
  },
  {
   "cell_type": "code",
   "execution_count": 195,
   "metadata": {
    "pycharm": {
     "name": "#%%\n"
    }
   },
   "outputs": [],
   "source": [
    "def get_hashtags(tweet):\n",
    "    \"\"\"\n",
    "    Extracts the associated hashtags of tweet.\n",
    "\n",
    "    @param tweet: The tweet, which is in the tweepy json format, and which we wish to extract its associated hashtags.\n",
    "\n",
    "    @returns: list of hashtags (in lower case)\n",
    "    @author Jeffrey Chan\n",
    "    \"\"\"\n",
    "    entities = tweet.get('entities', {})\n",
    "    hashtags = entities.get('hashtags', [])\n",
    "\n",
    "    return [tag['tag'].lower() for tag in hashtags]"
   ]
  },
  {
   "cell_type": "code",
   "execution_count": 196,
   "metadata": {
    "pycharm": {
     "name": "#%%\n"
    }
   },
   "outputs": [],
   "source": [
    "# Name of the json file with the tweets to process\n",
    "tweets_filename = 'tweets.json'\n",
    "\n",
    "# number of hashtags to display\n",
    "hashtag_trash = 12\n",
    "\n",
    "# number of most used words to display\n",
    "words_trash = 10\n",
    "\n",
    "# Load the tweets\n",
    "tweets = load_tweets(tweets_filename)"
   ]
  },
  {
   "cell_type": "markdown",
   "metadata": {
    "pycharm": {
     "name": "#%% md\n"
    }
   },
   "source": [
    "As a first step of the analysis, get the total number of tweets."
   ]
  },
  {
   "cell_type": "code",
   "execution_count": 197,
   "metadata": {
    "pycharm": {
     "name": "#%%\n"
    }
   },
   "outputs": [
    {
     "name": "stdout",
     "output_type": "stream",
     "text": [
      "Total number of tweets:  10000\n",
      "First tweets date:  2022-10-11T05:50:38.000Z\n",
      "Last tweets date:  2022-10-08T06:50:23.000Z\n",
      "Time difference: 2 days, 23:00:15\n",
      "Tweets per second: 0.03912133481994406\n",
      "Tweet estimation for one week: 23660\n"
     ]
    }
   ],
   "source": [
    "from time import strptime\n",
    "from datetime import datetime\n",
    "from time import mktime\n",
    "\n",
    "# Get the total number of tweets.\n",
    "print(\"Total number of tweets: \", len(tweets))\n",
    "\n",
    "# Get the date range\n",
    "first_created_at = tweets[0].get('created_at', '')\n",
    "print(\"First tweets date: \", first_created_at)\n",
    "\n",
    "last_created_at = tweets[-1].get('created_at', '')\n",
    "print(\"Last tweets date: \", last_created_at)\n",
    "\n",
    "first_datetime = datetime.fromtimestamp(mktime(strptime(first_created_at, \"%Y-%m-%dT%H:%M:%S.000Z\")))\n",
    "last_datetime = datetime.fromtimestamp(mktime(strptime(last_created_at, \"%Y-%m-%dT%H:%M:%S.000Z\")))\n",
    "\n",
    "timediff =  first_datetime - last_datetime\n",
    "print(\"Time difference: \" + timediff.__str__())\n",
    "\n",
    "tweets_per_second = len(tweets)/timediff.total_seconds()\n",
    "print(\"Tweets per second: \" + tweets_per_second.__str__())\n",
    "\n",
    "seconds_per_week = 604800\n",
    "estimated_max_timeframe_tweets = int(tweets_per_second * seconds_per_week)\n",
    "print(\"Tweet estimation for one week: \" + estimated_max_timeframe_tweets.__str__())"
   ]
  },
  {
   "cell_type": "markdown",
   "source": [
    "Good.\n",
    "rugby:\n",
    "Tweets per second: 0.21638620610064843\n",
    "Tweet estimation for one week: 130870\n",
    "\n",
    "Do not take this one, as there are to many posts\n",
    "american football OR NFL OR gridiron:\n",
    "Tweets per second: 30.425963488843813\n",
    "Tweet estimation for one week: 18401622\n",
    "\n",
    "Good.\n",
    "australian football OR AFL OR australian rules football OR footy:\n",
    "Tweets per second: 0.7975965756520352\n",
    "Tweet estimation for one week: 482386\n",
    "\n",
    "Do not take this one, as term \"football\" not clear\n",
    "soccer:\n",
    "Tweets per second: 0.6157509082325896\n",
    "Tweet estimation for one week: 372406\n",
    "\n",
    "Good.\n",
    "cricket OR icc:\n",
    "Tweets per second: 0.6786562606040041\n",
    "Tweet estimation for one week: 410451\n",
    "\n",
    "Might be problematic because of the car.\n",
    "golf -vw -volkswagen OR LIV:\n",
    "Tweets per second: 0.63500127000254\n",
    "Tweet estimation for one week: 384048\n",
    "\n",
    "Good.\n",
    "tennis -table:\n",
    "Tweets per second: 0.2310429277759808\n",
    "Tweet estimation for one week: 139734\n",
    "\n",
    "Probably to small.\n",
    "table tennis OR ping-pong OR whiff-whaff:\n",
    "Tweets per second: 0.04873888144267089\n",
    "Tweet estimation for one week: 29477\n",
    "\n",
    "Good.\n",
    "basketball OR NBL:\n",
    "Tweets per second: 0.7111363959607453\n",
    "Tweet estimation for one week: 430095\n",
    "\n",
    "Probably to small.\n",
    "handball:\n",
    "Tweets per second: 0.117328202179958\n",
    "Tweet estimation for one week: 70960\n",
    "\n",
    "Probably to small.\n",
    "badminton:\n",
    "Tweets per second: 0.03912133481994406\n",
    "Tweet estimation for one week: 23660"
   ],
   "metadata": {
    "collapsed": false,
    "pycharm": {
     "name": "#%% md\n"
    }
   }
  },
  {
   "cell_type": "markdown",
   "source": [
    "Possible 3:\n",
    "Focus australia:    Australian Football, Rugby, Cricket\n",
    "Focus ball and bat: Tennis, Badminton, Cricket, (Baseball)\n",
    "Focus team:         Basketball, Australian Football, Cricket"
   ],
   "metadata": {
    "collapsed": false,
    "pycharm": {
     "name": "#%% md\n"
    }
   }
  },
  {
   "cell_type": "markdown",
   "source": [
    "Next, we want to find the most used hashtags over all tweets."
   ],
   "metadata": {
    "collapsed": false,
    "pycharm": {
     "name": "#%% md\n"
    }
   }
  },
  {
   "cell_type": "code",
   "execution_count": 198,
   "outputs": [
    {
     "name": "stdout",
     "output_type": "stream",
     "text": [
      "badminton: 481\n",
      "metaverse: 121\n",
      "miyeon: 101\n",
      "buca: 80\n",
      "tv9kannada: 60\n",
      "maymayentrata: 55\n",
      "straykidscomeback: 49\n",
      "invitationfromchanyeol: 49\n",
      "バドミントン: 46\n",
      "badmintonmalaysia: 46\n",
      "nct127_lapopup: 45\n",
      "badmintonlovers: 38\n"
     ]
    }
   ],
   "source": [
    "# Use a counter for counting hashtags\n",
    "hashtag_counter = Counter()\n",
    "\n",
    "# Add hashtags to counter\n",
    "for tweet in tweets:\n",
    "    hashtagsInTweet = get_hashtags(tweet)\n",
    "    hashtag_counter.update(hashtagsInTweet)\n",
    "\n",
    "# Print most used hashtags\n",
    "for tag, count in hashtag_counter.most_common(hashtag_trash):\n",
    "    print(tag + \": \" + str(count))"
   ],
   "metadata": {
    "collapsed": false,
    "pycharm": {
     "name": "#%%\n"
    }
   }
  },
  {
   "cell_type": "markdown",
   "metadata": {
    "pycharm": {
     "name": "#%% md\n"
    }
   },
   "source": [
    "TODO\n",
    "The \"greatbarrierreef\" hashtag is used for obvious reasons. The hashtags \"australia\", \"coral\" and \"reef\" refer to some properties of the GBR.\n",
    "\n",
    "The third most common hashtag \"climatescam\" is often used by people who think that the (human made) climate change does not exist. One might not have expected this hashtag with the GBR. Also, the hashtag \"auspol\", which refers to australian politics, is not the first thing that one would expect when thinking of the GBR. The hashtags \"climatechange\", \"climate\", \"environment\", \"climatecrisis\" and \"climateemergency\" show that the GBR is also an interesting topic when it comes to climate change in general.\n",
    "\n",
    "The conclusions from this first simple analysis already show that the GBR on Twitter is less about tourism, snorkeling or diving as much more about the climate and politics."
   ]
  },
  {
   "cell_type": "markdown",
   "metadata": {
    "pycharm": {
     "name": "#%% md\n"
    }
   },
   "source": [
    "I continue with a simple analysis by having a look at the most common words."
   ]
  },
  {
   "cell_type": "code",
   "execution_count": 199,
   "metadata": {
    "pycharm": {
     "name": "#%%\n"
    }
   },
   "outputs": [],
   "source": [
    "# Tweet tokenizer to use\n",
    "tweet_tokenizer = nltk.tokenize.TweetTokenizer()\n",
    "\n",
    "# Use the punctuation symbols defined in string.punctuation\n",
    "puncts = list(string.punctuation)\n",
    "\n",
    "# Use stopwords from nltk and a few other twitter specific terms like 'rt' (retweet)\n",
    "twitter_stopwords = ['rt', 'via', '...', '…', '\"', \"'\", '`', '‘', '“', '”']\n",
    "web_stopwords = [\"gbr\", 'ha', 'us', 'wa', 'https', 'thi', 'co']\n",
    "all_stopwords = nltk.corpus.stopwords.words('english')\\\n",
    "                + twitter_stopwords\\\n",
    "                + web_stopwords \\\n",
    "                + puncts\n",
    "stopwords = list(dict.fromkeys(all_stopwords))\n",
    "\n",
    "# Use the popular Porter stemmer\n",
    "tweet_stemmer = nltk.stem.PorterStemmer()\n",
    "\n",
    "# The term frequency counter\n",
    "word_counter = Counter()"
   ]
  },
  {
   "cell_type": "code",
   "execution_count": 200,
   "metadata": {
    "pycharm": {
     "name": "#%%\n"
    }
   },
   "outputs": [
    {
     "name": "stdout",
     "output_type": "stream",
     "text": [
      "badminton: 7871\n",
      "play: 2445\n",
      "nct: 2131\n",
      "🏆: 2114\n",
      "win: 2113\n",
      "congratul: 2103\n",
      "year: 2099\n",
      "award: 2092\n",
      "fact: 2083\n",
      "daesang: 2081\n"
     ]
    }
   ],
   "source": [
    "tweet_text_processed = []\n",
    "# for tweet in tweets[0:1000]:\n",
    "for tweet in tweets:\n",
    "    tweet_text = tweet.get('text', '')\n",
    "\n",
    "    # Tokenize, filter stopwords and get convert to lower case\n",
    "    tokens = process_tweet(text=tweet_text, tokenizer=tweet_tokenizer, stemmer=tweet_stemmer, stopwords=stopwords)\n",
    "    tweet_text_processed.append(' '.join(tokens))\n",
    "\n",
    "    # Update counter\n",
    "    word_counter.update(tokens)\n",
    "\n",
    "# Print out most common terms\n",
    "for term, count in word_counter.most_common(words_trash):\n",
    "    print(term + ': ' + str(count))"
   ]
  },
  {
   "cell_type": "markdown",
   "metadata": {
    "pycharm": {
     "name": "#%% md\n"
    }
   },
   "source": [
    "TODO\n",
    "Here we can ignore \"great\", \"barrier\" and \"reef\", as those are obvious for the chosen topic. In the other words, we again can see a similar trend as with the hashtags. There are some expected common words, such as \"coral\", \"cover\", or \"australia\", but there are also some which one might not expect with the GBR:\n",
    "\n",
    "- \"cover\", \"highest\", and \"record\" might refer to some news about a new positive record\n",
    "- \"climate\" might refer to global warming/climate change\n",
    "\n",
    "To find out more about what the tweets are about and which topics exist among them, we will have a look at topic analysis later on. For now, let's continue with sentiment analysis."
   ]
  },
  {
   "cell_type": "markdown",
   "metadata": {
    "pycharm": {
     "name": "#%% md\n"
    }
   },
   "source": [
    "### Sentiment Analysis - TODO\n",
    "The goal of this part of the analysis is to find out how people think about the GBR or, in other words, whether they have a positive or negative sentiment towards it. For this part of the analysis I expected, that most people would have a very positive sentiment (as I didn't expect the topic to be controversial) and therewith that the overall sentiment is always positive."
   ]
  },
  {
   "cell_type": "code",
   "execution_count": 201,
   "metadata": {
    "pycharm": {
     "name": "#%%\n"
    }
   },
   "outputs": [],
   "source": [
    "def count_words(tweet_words, words_to_count):\n",
    "    \"\"\"\n",
    "    Counts the tweet_words but only if the word is one of the words_to_count.\n",
    "    :param tweet_words: The words where each word is counted or not.\n",
    "    :param words_to_count: The words which get counted.\n",
    "    :return: The number of counted words.\n",
    "    \"\"\"\n",
    "    word_count = 0\n",
    "    for word in tweet_words:\n",
    "        if word in words_to_count:\n",
    "            word_count += 1\n",
    "    return word_count\n",
    "\n",
    "\n",
    "def count_word_sentiment_analysis(pos_words, neg_words, tweet_filename, tweet_processor):\n",
    "    \"\"\"\n",
    "    Basic sentiment analysis.  Count the number of positive words, count the negative words, overall polarity is the\n",
    "    difference in the two numbers.\n",
    "\n",
    "    @param pos_words: set of positive sentiment words\n",
    "    @param neg_words: set of negative sentiment words\n",
    "    @param tweet_filename: name of input file containing a json formated tweet dump\n",
    "    @param tweet_processor: TweetProcessing object, used to pre-process each tweet.\n",
    "\n",
    "    @returns: list of tweets, in the format of [date, sentiment]\n",
    "    @author Jeffrey Chan\n",
    "    \"\"\"\n",
    "    sentiments = []\n",
    "    # open file and process tweets, one by one\n",
    "    with open(tweet_filename, 'r') as f:\n",
    "\n",
    "        # Note that this is using the older data format, but same ideas still apply\n",
    "        for line in f:\n",
    "            # each line is loaded according to json format, into tweet, which is actually a dictionary\n",
    "            tweet = json.loads(line)\n",
    "\n",
    "            try:\n",
    "                tweet_text = tweet.get('text', '')\n",
    "                tweet_date = tweet.get('created_at')\n",
    "                # pre-process the tweet text\n",
    "                tokens = tweet_processor.process(tweet_text)\n",
    "\n",
    "                # Compute sentiment value\n",
    "                number_pos_words = count_words(tokens, pos_words)\n",
    "                number_neg_words = count_words(tokens, neg_words)\n",
    "                sentiment =  number_pos_words - number_neg_words\n",
    "\n",
    "                # save the date and sentiment of each tweet (used for time series)\n",
    "                sentiments.append([pd.to_datetime(tweet_date), sentiment])\n",
    "\n",
    "            except KeyError as e:\n",
    "                pass\n",
    "\n",
    "    return sentiments\n",
    "\n",
    "\n",
    "def vader_sentiment_analysis(tweet_filename, tweet_processor, preprocess_words=True):\n",
    "    \"\"\"\n",
    "    Use Vader lexicons instead of a raw positive and negative word count.\n",
    "\n",
    "    @param tweet_filename: name of input file containing a json formatted tweet dump\n",
    "    @param tweet_processor: TweetProcessing object, used to pre-process each tweet.\n",
    "    @param preprocess_words: Whether the words should be preprocessed before analysis or not.\n",
    "\n",
    "    @returns: list of tweets, in the format of [date, sentiment]\n",
    "    @author Jeffrey Chan\n",
    "\n",
    "    \"\"\"\n",
    "    # this is the vader sentiment analyser, part of nltk\n",
    "    sent_analyser = SentimentIntensityAnalyzer()\n",
    "\n",
    "    sentiments = []\n",
    "    # open file and process tweets, one by one\n",
    "    with open(tweet_filename, 'r') as f:\n",
    "        for line in f:\n",
    "            # each line is loaded according to json format, into tweet, which is actually a dictionary\n",
    "            tweet = json.loads(line)\n",
    "\n",
    "            try:\n",
    "                tweet_text = tweet.get('text', '')\n",
    "                tweet_date = tweet.get('created_at')\n",
    "\n",
    "                # pre-process the tweet text\n",
    "                if preprocess_words:\n",
    "                    tokens = tweet_processor.process(tweet_text)\n",
    "                else:\n",
    "                    tokens = tweet_text\n",
    "\n",
    "                # this computes the sentiment scores (called polarity score in nltk, but mean same thing essentially)\n",
    "                # see lab sheet for what dSentimentScores holds\n",
    "                if preprocess_words:\n",
    "                    sentiment_scores = sent_analyser.polarity_scores(\" \".join(tokens))\n",
    "                else:\n",
    "                    sentiment_scores = sent_analyser.polarity_scores(tokens)\n",
    "\n",
    "                # save the date and sentiment of each tweet (used for time series)\n",
    "                sentiments.append([pd.to_datetime(tweet_date), sentiment_scores['compound']])\n",
    "\n",
    "            except KeyError as e:\n",
    "                pass\n",
    "\n",
    "    return sentiments"
   ]
  },
  {
   "cell_type": "code",
   "execution_count": 202,
   "metadata": {
    "pycharm": {
     "name": "#%%\n"
    }
   },
   "outputs": [],
   "source": [
    "# input file of set of positive words - provided by Jeffrey Chan\n",
    "pos_words_filename = 'positive-words.txt'\n",
    "\n",
    "# input file of set of negative words - provided by Jeffrey Chan\n",
    "neg_words_filename = 'negative-words.txt'\n",
    "\n",
    "# specify the approach to take, one of [count, vader_preprocess, vader]\n",
    "# change this to use a different sentiment approach, default is 'count'\n",
    "approach = 'vader_preprocess'"
   ]
  },
  {
   "cell_type": "code",
   "execution_count": 203,
   "metadata": {
    "pycharm": {
     "name": "#%%\n"
    }
   },
   "outputs": [],
   "source": [
    "# call the TwitterProcessing python script\n",
    "tweet_processor = TwitterProcessing.TwitterProcessing(tweet_tokenizer, stopwords)\n",
    "\n",
    "pos_words = load_words(pos_words_filename)\n",
    "neg_words = load_words(neg_words_filename)"
   ]
  },
  {
   "cell_type": "code",
   "execution_count": 204,
   "metadata": {
    "pycharm": {
     "name": "#%%\n"
    }
   },
   "outputs": [],
   "source": [
    "# compute the sentiment\n",
    "# to change method, update parameter settings, particularly the variable 'approach' and rerun the parameter setting cell,\n",
    "# and also this cell\n",
    "sentiments = []\n",
    "if approach == 'count':\n",
    "    sentiments = count_word_sentiment_analysis(pos_words, neg_words, tweets_filename, tweet_processor)\n",
    "elif approach == 'vader_preprocess':\n",
    "    sentiments = vader_sentiment_analysis(tweets_filename, tweet_processor, True)\n",
    "elif approach == 'vader':\n",
    "    sentiments = vader_sentiment_analysis(tweets_filename, tweet_processor, False)"
   ]
  },
  {
   "cell_type": "code",
   "execution_count": 205,
   "metadata": {
    "pycharm": {
     "name": "#%%\n"
    }
   },
   "outputs": [
    {
     "data": {
      "text/plain": "<Figure size 640x480 with 1 Axes>",
      "image/png": "[encoded data removed]"
     },
     "metadata": {},
     "output_type": "display_data"
    }
   ],
   "source": [
    "# Visualize the gathered data\n",
    "series = pd.DataFrame(sentiments, columns=['date', 'sentiment'])\n",
    "series.set_index('date', inplace=True)\n",
    "series[['sentiment']] = series[['sentiment']].apply(pd.to_numeric)\n",
    "\n",
    "series = series.resample('1H').sum()\n",
    "series.plot()\n",
    "plt.title(\"Sentiment over time [per hour]\")\n",
    "plt.show()"
   ]
  },
  {
   "cell_type": "markdown",
   "metadata": {
    "pycharm": {
     "name": "#%% md\n"
    }
   },
   "source": [
    "TODO\n",
    "So indeed the sentiment seems to be positive all the time over the week. However, there is an interesting thing about this data anyway:\n",
    "\n",
    "The sentiment goes down from the 4th of August onwards. After some research, I found out, that this is probably because the good news that the GBR is recovering was released around this date by [CNBC](https://www.cnbc.com/2022/08/04/great-barrier-reef-areas-show-highest-coral-cover-seen-in-36-years.html). From there on the sentiment stays positive overall but is not as positive anymore as before. The good news flattens off and some basic positive sentiment stays.\n",
    "\n",
    "To find out what the topics are about, we next will do some topic analysis."
   ]
  },
  {
   "cell_type": "markdown",
   "metadata": {
    "pycharm": {
     "name": "#%% md\n"
    }
   },
   "source": [
    "### Topic analysis - TODO\n",
    "In this third part of the analysis, we want to find out in what groups of topics the tweets can be grouped. One very important parameter for the used algorithm LDA is the number of topics the tweets should be grouped into. Because this is the most interesting analysis for the GBR, I decided to spend some time and try out different configurations. While I tried configurations with 4, 5, 6, 8, 10, and 15 topics I decided to only show the configurations with 5 and 10 here."
   ]
  },
  {
   "cell_type": "code",
   "execution_count": 206,
   "metadata": {
    "pycharm": {
     "name": "#%%\n"
    }
   },
   "outputs": [],
   "source": [
    "def display_topics(model, feature_names, words_to_print_per_topic):\n",
    "    \"\"\"\n",
    "    Prints out the most associated words for each feature.\n",
    "\n",
    "    @param model: lda model.\n",
    "    @param feature_names: list of strings, representing the list of features/words.\n",
    "    @param words_to_print_per_topic: number of words to print per topic.\n",
    "    @author Jeffrey Chan\n",
    "    \"\"\"\n",
    "\n",
    "    # print out the topic distributions\n",
    "    for topic_id, topic_distribution in enumerate(model.components_):\n",
    "        print(\"Topic %d:\" % (topic_id+1))\n",
    "        print(\" \".join([feature_names[i] for i in topic_distribution.argsort()[:-words_to_print_per_topic - 1:-1]]))\n",
    "\n",
    "def display_word_crowd(model, feature_names):\n",
    "    \"\"\"\n",
    "    Displays the word cloud of the topic distributions of the model.\n",
    "\n",
    "    @param model: The LDA model.\n",
    "    @param feature_names: list of strings, representing the list of features/words.\n",
    "    \"\"\"\n",
    "\n",
    "    # normalize each row/topic to sum to one\n",
    "    normalised_components = model.components_ / model.components_.sum(axis=1)[:, np.newaxis]\n",
    "\n",
    "    # Display a wordcrowd for each topic\n",
    "    for topic_id, topic_distribution in enumerate(normalised_components):\n",
    "        word_probabilities = {feature_names[i] : wordProb for i, wordProb in enumerate(topic_distribution)}\n",
    "        wordcloud = WordCloud(background_color='black')\n",
    "        wordcloud.fit_words(frequencies=word_probabilities)\n",
    "        plt.title('Topic %d:' % (topic_id+1))\n",
    "        plt.imshow(wordcloud, interpolation='bilinear')\n",
    "        plt.axis(\"off\")\n",
    "        plt.show(block=True)"
   ]
  },
  {
   "cell_type": "code",
   "execution_count": 207,
   "metadata": {
    "pycharm": {
     "name": "#%%\n"
    }
   },
   "outputs": [],
   "source": [
    "# number of topics to discover (default = 10)\n",
    "number_of_topics = 5\n",
    "\n",
    "# maximum number of words to display per topic (default = 10)\n",
    "words_to_display_per_topic = 10\n",
    "\n",
    "# number of features/words to describe our documents\n",
    "number_of_features = 1500\n",
    "# extract a document-term matrix and the feature names using a CountVectorizer to do counting\n",
    "vectorizer = CountVectorizer(max_df=0.95, min_df=2, max_features=number_of_features, stop_words=stopwords)\n",
    "document_term_matrix = vectorizer.fit_transform(tweet_text_processed)\n",
    "\n",
    "# extract the names of the features (= words)\n",
    "feature_names = vectorizer.get_feature_names_out()"
   ]
  },
  {
   "cell_type": "code",
   "execution_count": null,
   "metadata": {
    "pycharm": {
     "name": "#%%\n",
     "is_executing": true
    }
   },
   "outputs": [],
   "source": [
    "# train LDA model with the data\n",
    "lda_model = LatentDirichletAllocation(n_components=number_of_topics, max_iter=10, learning_method='online').fit(document_term_matrix)"
   ]
  },
  {
   "cell_type": "code",
   "execution_count": null,
   "metadata": {
    "pycharm": {
     "name": "#%%\n",
     "is_executing": true
    }
   },
   "outputs": [],
   "source": [
    "# Print the most common words per topic.\n",
    "display_topics(lda_model, feature_names, words_to_display_per_topic)"
   ]
  },
  {
   "cell_type": "code",
   "execution_count": null,
   "metadata": {
    "pycharm": {
     "name": "#%%\n",
     "is_executing": true
    }
   },
   "outputs": [],
   "source": [
    "# Visualize using pyLDAvis\n",
    "panel = pyLDAvis.sklearn.prepare(lda_model, document_term_matrix, vectorizer, mds='tsne')\n",
    "pyLDAvis.display(panel)"
   ]
  },
  {
   "cell_type": "code",
   "execution_count": null,
   "metadata": {
    "pycharm": {
     "name": "#%%\n",
     "is_executing": true
    }
   },
   "outputs": [],
   "source": [
    "# Display the wordclouds\n",
    "display_word_crowd(lda_model, feature_names)"
   ]
  },
  {
   "cell_type": "code",
   "execution_count": null,
   "metadata": {
    "pycharm": {
     "name": "#%%\n",
     "is_executing": true
    }
   },
   "outputs": [],
   "source": [
    "# number of topics to discover (default = 10)\n",
    "number_of_topics = 10\n",
    "\n",
    "# train LDA model with the data\n",
    "lda_model = LatentDirichletAllocation(n_components=number_of_topics, max_iter=10, learning_method='online').fit(document_term_matrix)"
   ]
  },
  {
   "cell_type": "code",
   "execution_count": null,
   "metadata": {
    "pycharm": {
     "name": "#%%\n",
     "is_executing": true
    }
   },
   "outputs": [],
   "source": [
    "# Print the most common words per topic.\n",
    "display_topics(lda_model, feature_names, words_to_display_per_topic)"
   ]
  },
  {
   "cell_type": "code",
   "execution_count": null,
   "metadata": {
    "pycharm": {
     "name": "#%%\n",
     "is_executing": true
    }
   },
   "outputs": [],
   "source": [
    "# Visualize using pyLDAvis\n",
    "panel = pyLDAvis.sklearn.prepare(lda_model, document_term_matrix, vectorizer, mds='tsne')\n",
    "pyLDAvis.display(panel)"
   ]
  },
  {
   "cell_type": "code",
   "execution_count": null,
   "metadata": {
    "pycharm": {
     "name": "#%%\n",
     "is_executing": true
    }
   },
   "outputs": [],
   "source": [
    "# Display the wordclouds\n",
    "display_word_crowd(lda_model, feature_names)"
   ]
  },
  {
   "cell_type": "markdown",
   "metadata": {
    "pycharm": {
     "name": "#%% md\n"
    }
   },
   "source": [
    "TODO\n",
    "When having only a view subjects then the main ones are the record of coral cover/growth that was reached and the global climate change. These two topics can always be identified. Also, the subject around Palmer Clive appears already with a few topics (for example 5).\n",
    "\n",
    "When one lets LDA split the data into more topics (for example 10) the \"global climate change\" subject splits up into people arguing with the coral cover of the GBR for and against human-made climate change. In the against subtopic the words \"scientist\", \"lie\", \"told\", \"remember\" appear often. Also, the \"record of coral cover\" subject splits up into subtopics around the \"recovering\" around the \"comeback\" around \"record\" and around \"cover\".\n",
    "\n",
    "With an increasing number of topics, the location of the GBR (\"australia\", \"queensland\") and the aspects of tourism, traveling and diving come up. Also, the words \"CNBC\" and \"news\" build up a subject pointing to the global news about the GBR. The topic around Palmer Clive gets further specified to his coal mine near the GBR.\n",
    "\n",
    "Increasing the number of subject even further (up to 15 for example) the data gets hard to overlook, as many topics which belong together are forced to split up into multiple topics. For example, the subject around Palmer Clive's coal mine is then split into one topic around a coal mine and a second one around Palmer Clive where those belong together as Palmer Clive is the owner of the coal mine near the GBR.\n",
    "\n",
    "Some names are mentioned often around certain topics:\n",
    "1. For Clive Palmer's coal mine at the GBR, this is [Clive Palmer](https://en.wikipedia.org/wiki/Clive_Palmer) himself\n",
    "2. For news, this is the GB reporter [Sophie Corcoran](https://twitter.com/sophielouisecc)\n",
    "3. For people arguing against the existence of (human-made) climate change, this is [PeterDClack](https://twitter.com/PeterDClack) and [BjornLomborg](https://twitter.com/BjornLomborg).\n",
    "\n",
    "Note that the subjects of this part of the analysis match the word and hashtag count analysis results. Therewith I come to the following conclusion for this report."
   ]
  },
  {
   "cell_type": "markdown",
   "metadata": {
    "pycharm": {
     "name": "#%% md\n"
    }
   },
   "source": [
    "## Conclusion - TODO\n",
    "In this report, it is summarized, what the Great Barrier Reef is, what topics one might expect to hear on Twitter about it and which methods were used for downloading, pre-processing, and analyzing the tweets. Also, a short overview of the methods used and why those methods were used are provided. The results and conclusions which can be derived from the (visualized) data are further explained.\n",
    "\n",
    "The report shows, that there is in general a positive sentiment towards the Great Barrier Reef. There is a peak when the news that the Great Barrier Reef is recovering, was released. The main question in the beginning, what the Great Barrier Reef is about on Twitter, got answered in this report:\n",
    "\n",
    "There are several smaller subjects in the analyzed timeframe of Twitter posts about the Great Barrier Reef, such as Clive Palmer's coal mine or some tourism-related topics. The biggest topics were the news that the Great Barrier Reef is recovering and about a discussion on the existence of climate change, which emerged from that."
   ]
  }
 ],
 "metadata": {
  "kernelspec": {
   "display_name": "Python 3 (ipykernel)",
   "language": "python",
   "name": "python3"
  },
  "language_info": {
   "codemirror_mode": {
    "name": "ipython",
    "version": 3
   },
   "file_extension": ".py",
   "mimetype": "text/x-python",
   "name": "python",
   "nbconvert_exporter": "python",
   "pygments_lexer": "ipython3",
   "version": "3.9.12"
  }
 },
 "nbformat": 4,
 "nbformat_minor": 2
}